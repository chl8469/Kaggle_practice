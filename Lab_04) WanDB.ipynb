{
 "cells": [
  {
   "cell_type": "markdown",
   "metadata": {
    "id": "7fHL3ONZ55I-"
   },
   "source": [
    "# Week 3\n",
    "### Context\n",
    "\n",
    "#### Experiment Tools\n",
    "- WanDB"
   ]
  },
  {
   "cell_type": "code",
   "execution_count": null,
   "metadata": {
    "colab": {
     "base_uri": "https://localhost:8080/"
    },
    "executionInfo": {
     "elapsed": 291,
     "status": "ok",
     "timestamp": 1628321661437,
     "user": {
      "displayName": "I'm so Seoli",
      "photoUrl": "https://lh3.googleusercontent.com/a-/AOh14GgoGeyLbd3gxLLgPS5f5k5dEcdMQc_ZsAy-42tyJg=s64",
      "userId": "18012903892325475989"
     },
     "user_tz": -540
    },
    "id": "lYlqstYfiKDQ",
    "outputId": "2981bec0-3f82-4614-b156-3c908b25f525"
   },
   "outputs": [
    {
     "name": "stdout",
     "output_type": "stream",
     "text": [
      "Sat Aug  7 07:34:21 2021       \n",
      "+-----------------------------------------------------------------------------+\n",
      "| NVIDIA-SMI 470.42.01    Driver Version: 460.32.03    CUDA Version: 11.2     |\n",
      "|-------------------------------+----------------------+----------------------+\n",
      "| GPU  Name        Persistence-M| Bus-Id        Disp.A | Volatile Uncorr. ECC |\n",
      "| Fan  Temp  Perf  Pwr:Usage/Cap|         Memory-Usage | GPU-Util  Compute M. |\n",
      "|                               |                      |               MIG M. |\n",
      "|===============================+======================+======================|\n",
      "|   0  Tesla T4            Off  | 00000000:00:04.0 Off |                    0 |\n",
      "| N/A   64C    P8    10W /  70W |      0MiB / 15109MiB |      0%      Default |\n",
      "|                               |                      |                  N/A |\n",
      "+-------------------------------+----------------------+----------------------+\n",
      "                                                                               \n",
      "+-----------------------------------------------------------------------------+\n",
      "| Processes:                                                                  |\n",
      "|  GPU   GI   CI        PID   Type   Process name                  GPU Memory |\n",
      "|        ID   ID                                                   Usage      |\n",
      "|=============================================================================|\n",
      "|  No running processes found                                                 |\n",
      "+-----------------------------------------------------------------------------+\n"
     ]
    }
   ],
   "source": [
    "!nvidia-smi"
   ]
  },
  {
   "cell_type": "code",
   "execution_count": null,
   "metadata": {
    "colab": {
     "base_uri": "https://localhost:8080/"
    },
    "executionInfo": {
     "elapsed": 30217,
     "status": "ok",
     "timestamp": 1628321772250,
     "user": {
      "displayName": "I'm so Seoli",
      "photoUrl": "https://lh3.googleusercontent.com/a-/AOh14GgoGeyLbd3gxLLgPS5f5k5dEcdMQc_ZsAy-42tyJg=s64",
      "userId": "18012903892325475989"
     },
     "user_tz": -540
    },
    "id": "k1NR0y9ONQWk",
    "outputId": "3e12b2a5-4db3-43ca-ca8e-9a9b41fd28be"
   },
   "outputs": [
    {
     "name": "stdout",
     "output_type": "stream",
     "text": [
      "Mounted at /content/drive\n"
     ]
    }
   ],
   "source": [
    "from google.colab import drive\n",
    "drive.mount('/content/drive')"
   ]
  },
  {
   "cell_type": "code",
   "execution_count": null,
   "metadata": {
    "colab": {
     "base_uri": "https://localhost:8080/"
    },
    "executionInfo": {
     "elapsed": 8228,
     "status": "ok",
     "timestamp": 1628321807839,
     "user": {
      "displayName": "I'm so Seoli",
      "photoUrl": "https://lh3.googleusercontent.com/a-/AOh14GgoGeyLbd3gxLLgPS5f5k5dEcdMQc_ZsAy-42tyJg=s64",
      "userId": "18012903892325475989"
     },
     "user_tz": -540
    },
    "id": "ogiDndhgEb2b",
    "outputId": "0385bc23-a57c-4c33-a61c-35e8cf602ecb"
   },
   "outputs": [
    {
     "name": "stdout",
     "output_type": "stream",
     "text": [
      "Collecting wandb\n",
      "  Downloading wandb-0.11.2-py2.py3-none-any.whl (1.8 MB)\n",
      "\u001b[K     |████████████████████████████████| 1.8 MB 8.4 MB/s \n",
      "\u001b[?25hCollecting configparser>=3.8.1\n",
      "  Downloading configparser-5.0.2-py3-none-any.whl (19 kB)\n",
      "Collecting GitPython>=1.0.0\n",
      "  Downloading GitPython-3.1.18-py3-none-any.whl (170 kB)\n",
      "\u001b[K     |████████████████████████████████| 170 kB 37.0 MB/s \n",
      "\u001b[?25hCollecting pathtools\n",
      "  Downloading pathtools-0.1.2.tar.gz (11 kB)\n",
      "Requirement already satisfied: promise<3,>=2.0 in /usr/local/lib/python3.7/dist-packages (from wandb) (2.3)\n",
      "Requirement already satisfied: PyYAML in /usr/local/lib/python3.7/dist-packages (from wandb) (3.13)\n",
      "Collecting sentry-sdk>=1.0.0\n",
      "  Downloading sentry_sdk-1.3.1-py2.py3-none-any.whl (133 kB)\n",
      "\u001b[K     |████████████████████████████████| 133 kB 40.5 MB/s \n",
      "\u001b[?25hCollecting docker-pycreds>=0.4.0\n",
      "  Downloading docker_pycreds-0.4.0-py2.py3-none-any.whl (9.0 kB)\n",
      "Requirement already satisfied: six>=1.13.0 in /usr/local/lib/python3.7/dist-packages (from wandb) (1.15.0)\n",
      "Collecting urllib3>=1.26.5\n",
      "  Downloading urllib3-1.26.6-py2.py3-none-any.whl (138 kB)\n",
      "\u001b[K     |████████████████████████████████| 138 kB 40.0 MB/s \n",
      "\u001b[?25hRequirement already satisfied: Click!=8.0.0,>=7.0 in /usr/local/lib/python3.7/dist-packages (from wandb) (7.1.2)\n",
      "Requirement already satisfied: protobuf>=3.12.0 in /usr/local/lib/python3.7/dist-packages (from wandb) (3.17.3)\n",
      "Requirement already satisfied: requests<3,>=2.0.0 in /usr/local/lib/python3.7/dist-packages (from wandb) (2.23.0)\n",
      "Collecting subprocess32>=3.5.3\n",
      "  Downloading subprocess32-3.5.4.tar.gz (97 kB)\n",
      "\u001b[K     |████████████████████████████████| 97 kB 7.7 MB/s \n",
      "\u001b[?25hCollecting shortuuid>=0.5.0\n",
      "  Downloading shortuuid-1.0.1-py3-none-any.whl (7.5 kB)\n",
      "Requirement already satisfied: psutil>=5.0.0 in /usr/local/lib/python3.7/dist-packages (from wandb) (5.4.8)\n",
      "Requirement already satisfied: python-dateutil>=2.6.1 in /usr/local/lib/python3.7/dist-packages (from wandb) (2.8.1)\n",
      "Collecting gitdb<5,>=4.0.1\n",
      "  Downloading gitdb-4.0.7-py3-none-any.whl (63 kB)\n",
      "\u001b[K     |████████████████████████████████| 63 kB 2.2 MB/s \n",
      "\u001b[?25hRequirement already satisfied: typing-extensions>=3.7.4.0 in /usr/local/lib/python3.7/dist-packages (from GitPython>=1.0.0->wandb) (3.7.4.3)\n",
      "Collecting smmap<5,>=3.0.1\n",
      "  Downloading smmap-4.0.0-py2.py3-none-any.whl (24 kB)\n",
      "Requirement already satisfied: idna<3,>=2.5 in /usr/local/lib/python3.7/dist-packages (from requests<3,>=2.0.0->wandb) (2.10)\n",
      "Requirement already satisfied: certifi>=2017.4.17 in /usr/local/lib/python3.7/dist-packages (from requests<3,>=2.0.0->wandb) (2021.5.30)\n",
      "Requirement already satisfied: chardet<4,>=3.0.2 in /usr/local/lib/python3.7/dist-packages (from requests<3,>=2.0.0->wandb) (3.0.4)\n",
      "Collecting requests<3,>=2.0.0\n",
      "  Downloading requests-2.26.0-py2.py3-none-any.whl (62 kB)\n",
      "\u001b[K     |████████████████████████████████| 62 kB 995 kB/s \n",
      "\u001b[?25hRequirement already satisfied: charset-normalizer~=2.0.0 in /usr/local/lib/python3.7/dist-packages (from requests<3,>=2.0.0->wandb) (2.0.2)\n",
      "Building wheels for collected packages: subprocess32, pathtools\n",
      "  Building wheel for subprocess32 (setup.py) ... \u001b[?25l\u001b[?25hdone\n",
      "  Created wheel for subprocess32: filename=subprocess32-3.5.4-py3-none-any.whl size=6502 sha256=94d5041164b8efe2fbfe6b85ad824f966993a71039f52bb5a82748560843d212\n",
      "  Stored in directory: /root/.cache/pip/wheels/50/ca/fa/8fca8d246e64f19488d07567547ddec8eb084e8c0d7a59226a\n",
      "  Building wheel for pathtools (setup.py) ... \u001b[?25l\u001b[?25hdone\n",
      "  Created wheel for pathtools: filename=pathtools-0.1.2-py3-none-any.whl size=8806 sha256=2565da2b64b7d11e092fc5fbe0073b405839dfc8128ab3586a32bb23254395d5\n",
      "  Stored in directory: /root/.cache/pip/wheels/3e/31/09/fa59cef12cdcfecc627b3d24273699f390e71828921b2cbba2\n",
      "Successfully built subprocess32 pathtools\n",
      "Installing collected packages: smmap, urllib3, gitdb, subprocess32, shortuuid, sentry-sdk, requests, pathtools, GitPython, docker-pycreds, configparser, wandb\n",
      "  Attempting uninstall: urllib3\n",
      "    Found existing installation: urllib3 1.24.3\n",
      "    Uninstalling urllib3-1.24.3:\n",
      "      Successfully uninstalled urllib3-1.24.3\n",
      "  Attempting uninstall: requests\n",
      "    Found existing installation: requests 2.23.0\n",
      "    Uninstalling requests-2.23.0:\n",
      "      Successfully uninstalled requests-2.23.0\n",
      "\u001b[31mERROR: pip's dependency resolver does not currently take into account all the packages that are installed. This behaviour is the source of the following dependency conflicts.\n",
      "google-colab 1.0.0 requires requests~=2.23.0, but you have requests 2.26.0 which is incompatible.\n",
      "datascience 0.10.6 requires folium==0.2.1, but you have folium 0.8.3 which is incompatible.\u001b[0m\n",
      "Successfully installed GitPython-3.1.18 configparser-5.0.2 docker-pycreds-0.4.0 gitdb-4.0.7 pathtools-0.1.2 requests-2.26.0 sentry-sdk-1.3.1 shortuuid-1.0.1 smmap-4.0.0 subprocess32-3.5.4 urllib3-1.26.6 wandb-0.11.2\n"
     ]
    }
   ],
   "source": [
    "!pip install wandb"
   ]
  },
  {
   "cell_type": "code",
   "execution_count": null,
   "metadata": {
    "id": "vJz8Kvl8EDpR"
   },
   "outputs": [],
   "source": [
    "sweep_config = {\n",
    "  \"name\" : \"t-academy_sweep\",\n",
    "  \"method\" : \"bayes\",\n",
    "  \"parameters\" : {\n",
    "    \"max_depth\" : {\n",
    "      \"distribution\": \"int_uniform\",\n",
    "      \"min\":2,\n",
    "      \"max\":15\n",
    "    },\n",
    "    \"subsample\" :{\n",
    "      \"distribution\": \"uniform\",\n",
    "      \"min\": 0.5,\n",
    "      \"max\": 1.0\n",
    "    },\n",
    "    \"colsample_bytree\":{\n",
    "      \"distribution\": \"uniform\",\n",
    "      \"min\": 0.5,\n",
    "      \"max\": 1.0\n",
    "    }\n",
    "  },\n",
    "  \"metric\":{\n",
    "      \"name\": \"cv_loss\",\n",
    "      \"goal\": \"minimize\"\n",
    "  }\n",
    "}\n"
   ]
  },
  {
   "cell_type": "code",
   "execution_count": null,
   "metadata": {
    "colab": {
     "base_uri": "https://localhost:8080/",
     "height": 241
    },
    "executionInfo": {
     "elapsed": 265180,
     "status": "ok",
     "timestamp": 1628322081243,
     "user": {
      "displayName": "I'm so Seoli",
      "photoUrl": "https://lh3.googleusercontent.com/a-/AOh14GgoGeyLbd3gxLLgPS5f5k5dEcdMQc_ZsAy-42tyJg=s64",
      "userId": "18012903892325475989"
     },
     "user_tz": -540
    },
    "id": "aAfXTYpj5ysB",
    "outputId": "98a143b0-eafa-439c-d939-a7fbed8234de"
   },
   "outputs": [
    {
     "data": {
      "application/javascript": [
       "\n",
       "        window._wandbApiKey = new Promise((resolve, reject) => {\n",
       "            function loadScript(url) {\n",
       "            return new Promise(function(resolve, reject) {\n",
       "                let newScript = document.createElement(\"script\");\n",
       "                newScript.onerror = reject;\n",
       "                newScript.onload = resolve;\n",
       "                document.body.appendChild(newScript);\n",
       "                newScript.src = url;\n",
       "            });\n",
       "            }\n",
       "            loadScript(\"https://cdn.jsdelivr.net/npm/postmate/build/postmate.min.js\").then(() => {\n",
       "            const iframe = document.createElement('iframe')\n",
       "            iframe.style.cssText = \"width:0;height:0;border:none\"\n",
       "            document.body.appendChild(iframe)\n",
       "            const handshake = new Postmate({\n",
       "                container: iframe,\n",
       "                url: 'https://wandb.ai/authorize'\n",
       "            });\n",
       "            const timeout = setTimeout(() => reject(\"Couldn't auto authenticate\"), 5000)\n",
       "            handshake.then(function(child) {\n",
       "                child.on('authorize', data => {\n",
       "                    clearTimeout(timeout)\n",
       "                    resolve(data)\n",
       "                });\n",
       "            });\n",
       "            })\n",
       "        });\n",
       "    "
      ],
      "text/plain": [
       "<IPython.core.display.Javascript object>"
      ]
     },
     "metadata": {
      "tags": []
     },
     "output_type": "display_data"
    },
    {
     "name": "stderr",
     "output_type": "stream",
     "text": [
      "\u001b[34m\u001b[1mwandb\u001b[0m: You can find your API key in your browser here: https://wandb.ai/authorize\n"
     ]
    },
    {
     "name": "stdout",
     "output_type": "stream",
     "text": [
      "wandb: Paste an API key from your profile and hit enter: ··········\n"
     ]
    },
    {
     "name": "stderr",
     "output_type": "stream",
     "text": [
      "\u001b[34m\u001b[1mwandb\u001b[0m: Appending key for api.wandb.ai to your netrc file: /root/.netrc\n"
     ]
    },
    {
     "data": {
      "text/html": [
       "\n",
       "                Tracking run with wandb version 0.11.2<br/>\n",
       "                Syncing run <strong style=\"color:#cdcd00\">fast-fire-1</strong> to <a href=\"https://wandb.ai\" target=\"_blank\">Weights & Biases</a> <a href=\"https://docs.wandb.com/integrations/jupyter.html\" target=\"_blank\">(Documentation)</a>.<br/>\n",
       "                Project page: <a href=\"https://wandb.ai/ilevk/uncategorized\" target=\"_blank\">https://wandb.ai/ilevk/uncategorized</a><br/>\n",
       "                Run page: <a href=\"https://wandb.ai/ilevk/uncategorized/runs/1e88yrr3\" target=\"_blank\">https://wandb.ai/ilevk/uncategorized/runs/1e88yrr3</a><br/>\n",
       "                Run data is saved locally in <code>/content/wandb/run-20210807_074118-1e88yrr3</code><br/><br/>\n",
       "            "
      ],
      "text/plain": [
       "<IPython.core.display.HTML object>"
      ]
     },
     "metadata": {
      "tags": []
     },
     "output_type": "display_data"
    },
    {
     "name": "stderr",
     "output_type": "stream",
     "text": [
      "\u001b[34m\u001b[1mwandb\u001b[0m: \u001b[33mWARNING\u001b[0m Calling wandb.login() after wandb.init() has no effect.\n"
     ]
    },
    {
     "name": "stdout",
     "output_type": "stream",
     "text": [
      "Create sweep with ID: a20hskps\n",
      "Sweep URL: https://wandb.ai/ilevk/t-academy%20wandb%20demo/sweeps/a20hskps\n"
     ]
    }
   ],
   "source": [
    "import os\n",
    "from os.path import join\n",
    "\n",
    "import multiprocessing\n",
    "import warnings\n",
    "warnings.filterwarnings('ignore')\n",
    "\n",
    "import numpy as np\n",
    "import pandas as pd\n",
    "\n",
    "import wandb\n",
    "\n",
    "sweep_id = wandb.sweep(sweep_config, \n",
    "                       project=\"t-academy wandb demo\")\n",
    "\n",
    "n_cpus = multiprocessing.cpu_count()"
   ]
  },
  {
   "cell_type": "code",
   "execution_count": null,
   "metadata": {
    "id": "gH-_VIMQEDpZ"
   },
   "outputs": [],
   "source": [
    "BASE_DIR = '/content/drive/MyDrive/[2021_07]_T아카데미'\n",
    "\n",
    "train_path = join(BASE_DIR, 'data', 'MDC14', 'train.csv')\n",
    "test_path  = join(BASE_DIR, 'data', 'MDC14', 'test.csv')\n",
    "\n",
    "data = pd.read_csv(train_path)\n",
    "test = pd.read_csv(test_path)\n",
    "\n",
    "label = data['credit']"
   ]
  },
  {
   "cell_type": "code",
   "execution_count": null,
   "metadata": {
    "id": "yZ9UxpS9EDpa"
   },
   "outputs": [],
   "source": [
    "# 불필요한 컬럼 제거\n",
    "data.drop(columns=['index', 'credit'], inplace=True)\n",
    "test.drop(columns=['index'],         inplace=True)"
   ]
  },
  {
   "cell_type": "code",
   "execution_count": null,
   "metadata": {
    "colab": {
     "base_uri": "https://localhost:8080/"
    },
    "executionInfo": {
     "elapsed": 13,
     "status": "ok",
     "timestamp": 1628322266983,
     "user": {
      "displayName": "I'm so Seoli",
      "photoUrl": "https://lh3.googleusercontent.com/a-/AOh14GgoGeyLbd3gxLLgPS5f5k5dEcdMQc_ZsAy-42tyJg=s64",
      "userId": "18012903892325475989"
     },
     "user_tz": -540
    },
    "id": "7CrFI2GIEDpc",
    "outputId": "7c1c46df-dc1c-405e-aea0-08e32edc3222"
   },
   "outputs": [
    {
     "name": "stdout",
     "output_type": "stream",
     "text": [
      "Categorical Columns: \n",
      "['gender', 'car', 'reality', 'income_type', 'edu_type', 'family_type', 'house_type', 'occyp_type']\n",
      "\n",
      "Numeric Columns: \n",
      "['child_num', 'income_total', 'DAYS_BIRTH', 'DAYS_EMPLOYED', 'FLAG_MOBIL', 'work_phone', 'phone', 'email', 'family_size', 'begin_month']\n"
     ]
    }
   ],
   "source": [
    "cat_columns = [c for c, t in zip(data.dtypes.index, data.dtypes) if t == 'O'] \n",
    "num_columns = [c for c    in data.columns if c not in cat_columns]\n",
    "\n",
    "print('Categorical Columns: \\n{}\\n'.format(cat_columns))\n",
    "print('Numeric Columns: \\n{}'.format(num_columns))"
   ]
  },
  {
   "cell_type": "markdown",
   "metadata": {
    "id": "_N5-NlqOEDpe"
   },
   "source": [
    "#### 라벨 데이터 인코딩"
   ]
  },
  {
   "cell_type": "code",
   "execution_count": null,
   "metadata": {
    "id": "cRHtxFLCEDpf"
   },
   "outputs": [],
   "source": [
    "label = label.astype(int)"
   ]
  },
  {
   "cell_type": "markdown",
   "metadata": {
    "id": "lnoCcS0eEDph"
   },
   "source": [
    "#### 전처리 프로세스 함수로 작성"
   ]
  },
  {
   "cell_type": "code",
   "execution_count": null,
   "metadata": {
    "id": "mp0An34aEDpi"
   },
   "outputs": [],
   "source": [
    "from sklearn.impute import SimpleImputer\n",
    "from sklearn.preprocessing import StandardScaler, OneHotEncoder\n",
    "\n",
    "def preprocess(x_train, x_valid, x_test):\n",
    "    tmp_x_train = x_train.copy()\n",
    "    tmp_x_valid = x_valid.copy()\n",
    "    tmp_x_test  = x_test.copy()\n",
    "    \n",
    "    tmp_x_train.reset_index(drop=True, inplace=True)\n",
    "    tmp_x_valid.reset_index(drop=True, inplace=True)\n",
    "    \n",
    "    # 결측치 처리\n",
    "    imputer = SimpleImputer(strategy='most_frequent')\n",
    "    tmp_x_train[cat_columns] = imputer.fit_transform(tmp_x_train[cat_columns])\n",
    "    tmp_x_valid[cat_columns] = imputer.transform(tmp_x_valid[cat_columns])\n",
    "    tmp_x_test[cat_columns]  = imputer.transform(tmp_x_test[cat_columns])\n",
    "    \n",
    "    # 스케일링\n",
    "    scaler = StandardScaler()\n",
    "    tmp_x_train[num_columns] = scaler.fit_transform(tmp_x_train[num_columns])\n",
    "    tmp_x_valid[num_columns] = scaler.transform(tmp_x_valid[num_columns])\n",
    "    tmp_x_test[num_columns]  = scaler.transform(tmp_x_test[num_columns])\n",
    "\n",
    "    # 인코딩\n",
    "    ohe = OneHotEncoder(sparse=False)\n",
    "    ohe.fit(tmp_x_train[cat_columns])\n",
    "    \n",
    "    tmp_x_train_cat = pd.DataFrame(ohe.transform(tmp_x_train[cat_columns]))\n",
    "    tmp_x_valid_cat = pd.DataFrame(ohe.transform(tmp_x_valid[cat_columns]))\n",
    "    tmp_x_test_cat  = pd.DataFrame(ohe.transform(tmp_x_test[cat_columns]))\n",
    "    \n",
    "    tmp_x_train.drop(columns=cat_columns, inplace=True)\n",
    "    tmp_x_valid.drop(columns=cat_columns, inplace=True)\n",
    "    tmp_x_test.drop(columns=cat_columns, inplace=True)\n",
    "    \n",
    "    tmp_x_train = pd.concat([tmp_x_train, tmp_x_train_cat], axis=1)\n",
    "    tmp_x_valid = pd.concat([tmp_x_valid, tmp_x_valid_cat], axis=1)\n",
    "    tmp_x_test  = pd.concat([tmp_x_test, tmp_x_test_cat], axis=1)\n",
    "    \n",
    "    return tmp_x_train, tmp_x_valid, tmp_x_test"
   ]
  },
  {
   "cell_type": "markdown",
   "metadata": {
    "id": "d0YXWbF8EDpk"
   },
   "source": [
    "### Out-of-fold(OOF) Ensemble"
   ]
  },
  {
   "cell_type": "code",
   "execution_count": 13,
   "metadata": {
    "colab": {
     "base_uri": "https://localhost:8080/",
     "height": 1000,
     "referenced_widgets": [
      "341fd02da9bb49519eaa3354210fd0bf",
      "c307d4149f8a4629bbc8f3f578814c6e",
      "6b93c8506aea436fa2a90c1750f2b185",
      "9148ff8235d04990abea2c6ea645d473",
      "91c4ce717af6440d8a975901fea7f899",
      "4fba267871024ba6bf251d1faea01b68",
      "b94406847fd54d758da47dc10aa8c70b",
      "e0de614ad67645a9a7a20a22433b74d1",
      "0312ae5277bf42a48635a9a5c8e30e5f",
      "1caac67b235b45f1ad255b1308a850e6",
      "fbc953c4c6604776855df2b133db20ce",
      "8096996194e74cf1bf9a4e4c597d1f07",
      "38c733d9490349bdad0e385b51c97a87",
      "73b7bd4e9f9f443ab8074dbf4a6bc38f",
      "25d67e1fd21d4b93837f7d304d53b583",
      "702814035fa04f94aa53f8f7dee3eccf",
      "9bb28c2de2bf40f1822e206a806fd6d8",
      "90265d10d5a44a2fbcd58bc8148d668c",
      "2a852ad885634bfea897b1c7a78f8941"
     ]
    },
    "executionInfo": {
     "elapsed": 93031,
     "status": "ok",
     "timestamp": 1628323111824,
     "user": {
      "displayName": "I'm so Seoli",
      "photoUrl": "https://lh3.googleusercontent.com/a-/AOh14GgoGeyLbd3gxLLgPS5f5k5dEcdMQc_ZsAy-42tyJg=s64",
      "userId": "18012903892325475989"
     },
     "user_tz": -540
    },
    "id": "CUeRRPyDEDpl",
    "outputId": "6230e1cd-3b98-49c2-8d86-11c347ad43fd"
   },
   "outputs": [
    {
     "name": "stderr",
     "output_type": "stream",
     "text": [
      "\u001b[34m\u001b[1mwandb\u001b[0m: Agent Starting Run: 0fj57bb3 with config:\n",
      "\u001b[34m\u001b[1mwandb\u001b[0m: \tcolsample_bytree: 0.8387914008925683\n",
      "\u001b[34m\u001b[1mwandb\u001b[0m: \tmax_depth: 15\n",
      "\u001b[34m\u001b[1mwandb\u001b[0m: \tsubsample: 0.6186116973904416\n",
      "\u001b[34m\u001b[1mwandb\u001b[0m: Currently logged in as: \u001b[33milevk\u001b[0m (use `wandb login --relogin` to force relogin)\n"
     ]
    },
    {
     "data": {
      "text/html": [
       "\n",
       "                Tracking run with wandb version 0.11.2<br/>\n",
       "                Syncing run <strong style=\"color:#cdcd00\">resilient-sweep-2</strong> to <a href=\"https://wandb.ai\" target=\"_blank\">Weights & Biases</a> <a href=\"https://docs.wandb.com/integrations/jupyter.html\" target=\"_blank\">(Documentation)</a>.<br/>\n",
       "                Project page: <a href=\"https://wandb.ai/ilevk/t-academy%20wandb%20demo\" target=\"_blank\">https://wandb.ai/ilevk/t-academy%20wandb%20demo</a><br/>\n",
       "                Sweep page: <a href=\"https://wandb.ai/ilevk/t-academy%20wandb%20demo/sweeps/a20hskps\" target=\"_blank\">https://wandb.ai/ilevk/t-academy%20wandb%20demo/sweeps/a20hskps</a><br/>\n",
       "Run page: <a href=\"https://wandb.ai/ilevk/t-academy%20wandb%20demo/runs/0fj57bb3\" target=\"_blank\">https://wandb.ai/ilevk/t-academy%20wandb%20demo/runs/0fj57bb3</a><br/>\n",
       "                Run data is saved locally in <code>/content/wandb/run-20210807_074938-0fj57bb3</code><br/><br/>\n",
       "            "
      ],
      "text/plain": [
       "<IPython.core.display.HTML object>"
      ]
     },
     "metadata": {
      "tags": []
     },
     "output_type": "display_data"
    },
    {
     "name": "stdout",
     "output_type": "stream",
     "text": [
      "[0]\tvalidation_0-mlogloss:1.04148\tvalidation_1-mlogloss:1.05192\n",
      "Multiple eval metrics have been passed: 'validation_1-mlogloss' will be used for early stopping.\n",
      "\n",
      "Will train until validation_1-mlogloss hasn't improved in 100 rounds.\n",
      "[100]\tvalidation_0-mlogloss:0.249419\tvalidation_1-mlogloss:0.732797\n",
      "Stopping. Best iteration:\n",
      "[52]\tvalidation_0-mlogloss:0.38921\tvalidation_1-mlogloss:0.714112\n",
      "\n",
      "0 Fold, train logloss : 0.38924, validation logloss : 0.7141\n",
      "[0]\tvalidation_0-mlogloss:1.04226\tvalidation_1-mlogloss:1.05285\n",
      "Multiple eval metrics have been passed: 'validation_1-mlogloss' will be used for early stopping.\n",
      "\n",
      "Will train until validation_1-mlogloss hasn't improved in 100 rounds.\n",
      "[100]\tvalidation_0-mlogloss:0.247036\tvalidation_1-mlogloss:0.757528\n",
      "Stopping. Best iteration:\n",
      "[49]\tvalidation_0-mlogloss:0.404841\tvalidation_1-mlogloss:0.727561\n",
      "\n",
      "1 Fold, train logloss : 0.40484, validation logloss : 0.7276\n",
      "[0]\tvalidation_0-mlogloss:1.04094\tvalidation_1-mlogloss:1.05273\n",
      "Multiple eval metrics have been passed: 'validation_1-mlogloss' will be used for early stopping.\n",
      "\n",
      "Will train until validation_1-mlogloss hasn't improved in 100 rounds.\n",
      "[100]\tvalidation_0-mlogloss:0.244424\tvalidation_1-mlogloss:0.75317\n",
      "Stopping. Best iteration:\n",
      "[49]\tvalidation_0-mlogloss:0.398751\tvalidation_1-mlogloss:0.724902\n",
      "\n",
      "2 Fold, train logloss : 0.39884, validation logloss : 0.7249\n",
      "[0]\tvalidation_0-mlogloss:1.04212\tvalidation_1-mlogloss:1.0526\n",
      "Multiple eval metrics have been passed: 'validation_1-mlogloss' will be used for early stopping.\n",
      "\n",
      "Will train until validation_1-mlogloss hasn't improved in 100 rounds.\n",
      "[100]\tvalidation_0-mlogloss:0.251092\tvalidation_1-mlogloss:0.746187\n",
      "Stopping. Best iteration:\n",
      "[49]\tvalidation_0-mlogloss:0.408675\tvalidation_1-mlogloss:0.721555\n",
      "\n",
      "3 Fold, train logloss : 0.40874, validation logloss : 0.7216\n",
      "[0]\tvalidation_0-mlogloss:1.04008\tvalidation_1-mlogloss:1.05057\n",
      "Multiple eval metrics have been passed: 'validation_1-mlogloss' will be used for early stopping.\n",
      "\n",
      "Will train until validation_1-mlogloss hasn't improved in 100 rounds.\n",
      "[100]\tvalidation_0-mlogloss:0.247207\tvalidation_1-mlogloss:0.751768\n",
      "Stopping. Best iteration:\n",
      "[45]\tvalidation_0-mlogloss:0.424706\tvalidation_1-mlogloss:0.724395\n",
      "\n",
      "4 Fold, train logloss : 0.42474, validation logloss : 0.7244\n"
     ]
    },
    {
     "data": {
      "text/html": [
       "<br/>Waiting for W&B process to finish, PID 569<br/>Program ended successfully."
      ],
      "text/plain": [
       "<IPython.core.display.HTML object>"
      ]
     },
     "metadata": {
      "tags": []
     },
     "output_type": "display_data"
    },
    {
     "data": {
      "application/vnd.jupyter.widget-view+json": {
       "model_id": "341fd02da9bb49519eaa3354210fd0bf",
       "version_major": 2,
       "version_minor": 0
      },
      "text/plain": [
       "VBox(children=(Label(value=' 0.00MB of 0.00MB uploaded (0.00MB deduped)\\r'), FloatProgress(value=1.0, max=1.0)…"
      ]
     },
     "metadata": {
      "tags": []
     },
     "output_type": "display_data"
    },
    {
     "data": {
      "text/html": [
       "Find user logs for this run at: <code>/content/wandb/run-20210807_074938-0fj57bb3/logs/debug.log</code>"
      ],
      "text/plain": [
       "<IPython.core.display.HTML object>"
      ]
     },
     "metadata": {
      "tags": []
     },
     "output_type": "display_data"
    },
    {
     "data": {
      "text/html": [
       "Find internal logs for this run at: <code>/content/wandb/run-20210807_074938-0fj57bb3/logs/debug-internal.log</code>"
      ],
      "text/plain": [
       "<IPython.core.display.HTML object>"
      ]
     },
     "metadata": {
      "tags": []
     },
     "output_type": "display_data"
    },
    {
     "data": {
      "text/html": [
       "<h3>Run summary:</h3><br/><style>\n",
       "    table.wandb td:nth-child(1) { padding: 0 10px; text-align: right }\n",
       "    </style><table class=\"wandb\">\n",
       "<tr><td>cv_loss</td><td>0.72251</td></tr><tr><td>_runtime</td><td>119</td></tr><tr><td>_timestamp</td><td>1628322697</td></tr><tr><td>_step</td><td>0</td></tr></table>"
      ],
      "text/plain": [
       "<IPython.core.display.HTML object>"
      ]
     },
     "metadata": {
      "tags": []
     },
     "output_type": "display_data"
    },
    {
     "data": {
      "text/html": [
       "<h3>Run history:</h3><br/><style>\n",
       "    table.wandb td:nth-child(1) { padding: 0 10px; text-align: right }\n",
       "    </style><table class=\"wandb\">\n",
       "<tr><td>cv_loss</td><td>▁</td></tr><tr><td>_runtime</td><td>▁</td></tr><tr><td>_timestamp</td><td>▁</td></tr><tr><td>_step</td><td>▁</td></tr></table><br/>"
      ],
      "text/plain": [
       "<IPython.core.display.HTML object>"
      ]
     },
     "metadata": {
      "tags": []
     },
     "output_type": "display_data"
    },
    {
     "data": {
      "text/html": [
       "Synced 5 W&B file(s), 0 media file(s), 0 artifact file(s) and 0 other file(s)"
      ],
      "text/plain": [
       "<IPython.core.display.HTML object>"
      ]
     },
     "metadata": {
      "tags": []
     },
     "output_type": "display_data"
    },
    {
     "data": {
      "text/html": [
       "\n",
       "                    <br/>Synced <strong style=\"color:#cdcd00\">resilient-sweep-2</strong>: <a href=\"https://wandb.ai/ilevk/t-academy%20wandb%20demo/runs/0fj57bb3\" target=\"_blank\">https://wandb.ai/ilevk/t-academy%20wandb%20demo/runs/0fj57bb3</a><br/>\n",
       "                "
      ],
      "text/plain": [
       "<IPython.core.display.HTML object>"
      ]
     },
     "metadata": {
      "tags": []
     },
     "output_type": "display_data"
    },
    {
     "name": "stderr",
     "output_type": "stream",
     "text": [
      "\u001b[34m\u001b[1mwandb\u001b[0m: Agent Starting Run: zrqmtxgu with config:\n",
      "\u001b[34m\u001b[1mwandb\u001b[0m: \tcolsample_bytree: 0.5630725873190232\n",
      "\u001b[34m\u001b[1mwandb\u001b[0m: \tmax_depth: 3\n",
      "\u001b[34m\u001b[1mwandb\u001b[0m: \tsubsample: 0.9415557607603176\n"
     ]
    },
    {
     "data": {
      "text/html": [
       "\n",
       "                Tracking run with wandb version 0.11.2<br/>\n",
       "                Syncing run <strong style=\"color:#cdcd00\">prime-sweep-3</strong> to <a href=\"https://wandb.ai\" target=\"_blank\">Weights & Biases</a> <a href=\"https://docs.wandb.com/integrations/jupyter.html\" target=\"_blank\">(Documentation)</a>.<br/>\n",
       "                Project page: <a href=\"https://wandb.ai/ilevk/t-academy%20wandb%20demo\" target=\"_blank\">https://wandb.ai/ilevk/t-academy%20wandb%20demo</a><br/>\n",
       "                Sweep page: <a href=\"https://wandb.ai/ilevk/t-academy%20wandb%20demo/sweeps/a20hskps\" target=\"_blank\">https://wandb.ai/ilevk/t-academy%20wandb%20demo/sweeps/a20hskps</a><br/>\n",
       "Run page: <a href=\"https://wandb.ai/ilevk/t-academy%20wandb%20demo/runs/zrqmtxgu\" target=\"_blank\">https://wandb.ai/ilevk/t-academy%20wandb%20demo/runs/zrqmtxgu</a><br/>\n",
       "                Run data is saved locally in <code>/content/wandb/run-20210807_075142-zrqmtxgu</code><br/><br/>\n",
       "            "
      ],
      "text/plain": [
       "<IPython.core.display.HTML object>"
      ]
     },
     "metadata": {
      "tags": []
     },
     "output_type": "display_data"
    },
    {
     "name": "stdout",
     "output_type": "stream",
     "text": [
      "[0]\tvalidation_0-mlogloss:1.06143\tvalidation_1-mlogloss:1.06126\n",
      "Multiple eval metrics have been passed: 'validation_1-mlogloss' will be used for early stopping.\n",
      "\n",
      "Will train until validation_1-mlogloss hasn't improved in 100 rounds.\n",
      "[100]\tvalidation_0-mlogloss:0.784758\tvalidation_1-mlogloss:0.79497\n",
      "[200]\tvalidation_0-mlogloss:0.764558\tvalidation_1-mlogloss:0.787236\n",
      "[300]\tvalidation_0-mlogloss:0.748229\tvalidation_1-mlogloss:0.781361\n",
      "[400]\tvalidation_0-mlogloss:0.733982\tvalidation_1-mlogloss:0.776776\n",
      "[500]\tvalidation_0-mlogloss:0.721956\tvalidation_1-mlogloss:0.773117\n",
      "[600]\tvalidation_0-mlogloss:0.711037\tvalidation_1-mlogloss:0.770044\n",
      "[700]\tvalidation_0-mlogloss:0.700818\tvalidation_1-mlogloss:0.766874\n",
      "[800]\tvalidation_0-mlogloss:0.691404\tvalidation_1-mlogloss:0.764665\n",
      "[900]\tvalidation_0-mlogloss:0.682798\tvalidation_1-mlogloss:0.762462\n",
      "[999]\tvalidation_0-mlogloss:0.675044\tvalidation_1-mlogloss:0.761029\n",
      "0 Fold, train logloss : 0.67514, validation logloss : 0.7610\n",
      "[0]\tvalidation_0-mlogloss:1.06115\tvalidation_1-mlogloss:1.0617\n",
      "Multiple eval metrics have been passed: 'validation_1-mlogloss' will be used for early stopping.\n",
      "\n",
      "Will train until validation_1-mlogloss hasn't improved in 100 rounds.\n",
      "[100]\tvalidation_0-mlogloss:0.780411\tvalidation_1-mlogloss:0.804853\n",
      "[200]\tvalidation_0-mlogloss:0.760109\tvalidation_1-mlogloss:0.797827\n",
      "[300]\tvalidation_0-mlogloss:0.743987\tvalidation_1-mlogloss:0.792983\n",
      "[400]\tvalidation_0-mlogloss:0.729813\tvalidation_1-mlogloss:0.788585\n",
      "[500]\tvalidation_0-mlogloss:0.718257\tvalidation_1-mlogloss:0.786206\n",
      "[600]\tvalidation_0-mlogloss:0.707077\tvalidation_1-mlogloss:0.783445\n",
      "[700]\tvalidation_0-mlogloss:0.697428\tvalidation_1-mlogloss:0.782019\n",
      "[800]\tvalidation_0-mlogloss:0.688019\tvalidation_1-mlogloss:0.780622\n",
      "[900]\tvalidation_0-mlogloss:0.679254\tvalidation_1-mlogloss:0.778745\n",
      "[999]\tvalidation_0-mlogloss:0.671401\tvalidation_1-mlogloss:0.776959\n",
      "1 Fold, train logloss : 0.67154, validation logloss : 0.7769\n",
      "[0]\tvalidation_0-mlogloss:1.06127\tvalidation_1-mlogloss:1.06165\n",
      "Multiple eval metrics have been passed: 'validation_1-mlogloss' will be used for early stopping.\n",
      "\n",
      "Will train until validation_1-mlogloss hasn't improved in 100 rounds.\n",
      "[100]\tvalidation_0-mlogloss:0.783543\tvalidation_1-mlogloss:0.79926\n",
      "[200]\tvalidation_0-mlogloss:0.764458\tvalidation_1-mlogloss:0.791399\n",
      "[300]\tvalidation_0-mlogloss:0.74794\tvalidation_1-mlogloss:0.785505\n",
      "[400]\tvalidation_0-mlogloss:0.733618\tvalidation_1-mlogloss:0.780485\n",
      "[500]\tvalidation_0-mlogloss:0.720822\tvalidation_1-mlogloss:0.776516\n",
      "[600]\tvalidation_0-mlogloss:0.709553\tvalidation_1-mlogloss:0.773847\n",
      "[700]\tvalidation_0-mlogloss:0.699153\tvalidation_1-mlogloss:0.771093\n",
      "[800]\tvalidation_0-mlogloss:0.689538\tvalidation_1-mlogloss:0.768636\n",
      "[900]\tvalidation_0-mlogloss:0.68077\tvalidation_1-mlogloss:0.766638\n",
      "[999]\tvalidation_0-mlogloss:0.672786\tvalidation_1-mlogloss:0.765005\n",
      "2 Fold, train logloss : 0.67284, validation logloss : 0.7650\n",
      "[0]\tvalidation_0-mlogloss:1.06112\tvalidation_1-mlogloss:1.06154\n",
      "Multiple eval metrics have been passed: 'validation_1-mlogloss' will be used for early stopping.\n",
      "\n",
      "Will train until validation_1-mlogloss hasn't improved in 100 rounds.\n",
      "[100]\tvalidation_0-mlogloss:0.782963\tvalidation_1-mlogloss:0.798464\n",
      "[200]\tvalidation_0-mlogloss:0.763145\tvalidation_1-mlogloss:0.790354\n",
      "[300]\tvalidation_0-mlogloss:0.74668\tvalidation_1-mlogloss:0.785004\n",
      "[400]\tvalidation_0-mlogloss:0.732121\tvalidation_1-mlogloss:0.780392\n",
      "[500]\tvalidation_0-mlogloss:0.719631\tvalidation_1-mlogloss:0.775953\n",
      "[600]\tvalidation_0-mlogloss:0.708211\tvalidation_1-mlogloss:0.772949\n",
      "[700]\tvalidation_0-mlogloss:0.697931\tvalidation_1-mlogloss:0.769841\n",
      "[800]\tvalidation_0-mlogloss:0.68865\tvalidation_1-mlogloss:0.766941\n",
      "[900]\tvalidation_0-mlogloss:0.679617\tvalidation_1-mlogloss:0.764506\n",
      "[999]\tvalidation_0-mlogloss:0.671689\tvalidation_1-mlogloss:0.762645\n",
      "3 Fold, train logloss : 0.67264, validation logloss : 0.7626\n",
      "[0]\tvalidation_0-mlogloss:1.0614\tvalidation_1-mlogloss:1.06122\n",
      "Multiple eval metrics have been passed: 'validation_1-mlogloss' will be used for early stopping.\n",
      "\n",
      "Will train until validation_1-mlogloss hasn't improved in 100 rounds.\n",
      "[100]\tvalidation_0-mlogloss:0.784205\tvalidation_1-mlogloss:0.795697\n",
      "[200]\tvalidation_0-mlogloss:0.764119\tvalidation_1-mlogloss:0.78856\n",
      "[300]\tvalidation_0-mlogloss:0.747838\tvalidation_1-mlogloss:0.782764\n",
      "[400]\tvalidation_0-mlogloss:0.733667\tvalidation_1-mlogloss:0.777948\n",
      "[500]\tvalidation_0-mlogloss:0.721242\tvalidation_1-mlogloss:0.774427\n",
      "[600]\tvalidation_0-mlogloss:0.709605\tvalidation_1-mlogloss:0.771111\n",
      "[700]\tvalidation_0-mlogloss:0.699494\tvalidation_1-mlogloss:0.768625\n",
      "[800]\tvalidation_0-mlogloss:0.689738\tvalidation_1-mlogloss:0.766872\n",
      "[900]\tvalidation_0-mlogloss:0.680498\tvalidation_1-mlogloss:0.765316\n",
      "[999]\tvalidation_0-mlogloss:0.672212\tvalidation_1-mlogloss:0.763522\n",
      "4 Fold, train logloss : 0.67264, validation logloss : 0.7634\n"
     ]
    },
    {
     "data": {
      "text/html": [
       "<br/>Waiting for W&B process to finish, PID 640<br/>Program ended successfully."
      ],
      "text/plain": [
       "<IPython.core.display.HTML object>"
      ]
     },
     "metadata": {
      "tags": []
     },
     "output_type": "display_data"
    },
    {
     "data": {
      "application/vnd.jupyter.widget-view+json": {
       "model_id": "0312ae5277bf42a48635a9a5c8e30e5f",
       "version_major": 2,
       "version_minor": 0
      },
      "text/plain": [
       "VBox(children=(Label(value=' 0.00MB of 0.00MB uploaded (0.00MB deduped)\\r'), FloatProgress(value=1.0, max=1.0)…"
      ]
     },
     "metadata": {
      "tags": []
     },
     "output_type": "display_data"
    },
    {
     "data": {
      "text/html": [
       "Find user logs for this run at: <code>/content/wandb/run-20210807_075142-zrqmtxgu/logs/debug.log</code>"
      ],
      "text/plain": [
       "<IPython.core.display.HTML object>"
      ]
     },
     "metadata": {
      "tags": []
     },
     "output_type": "display_data"
    },
    {
     "data": {
      "text/html": [
       "Find internal logs for this run at: <code>/content/wandb/run-20210807_075142-zrqmtxgu/logs/debug-internal.log</code>"
      ],
      "text/plain": [
       "<IPython.core.display.HTML object>"
      ]
     },
     "metadata": {
      "tags": []
     },
     "output_type": "display_data"
    },
    {
     "data": {
      "text/html": [
       "<h3>Run summary:</h3><br/><style>\n",
       "    table.wandb td:nth-child(1) { padding: 0 10px; text-align: right }\n",
       "    </style><table class=\"wandb\">\n",
       "<tr><td>cv_loss</td><td>0.76579</td></tr><tr><td>_runtime</td><td>90</td></tr><tr><td>_timestamp</td><td>1628322792</td></tr><tr><td>_step</td><td>0</td></tr></table>"
      ],
      "text/plain": [
       "<IPython.core.display.HTML object>"
      ]
     },
     "metadata": {
      "tags": []
     },
     "output_type": "display_data"
    },
    {
     "data": {
      "text/html": [
       "<h3>Run history:</h3><br/><style>\n",
       "    table.wandb td:nth-child(1) { padding: 0 10px; text-align: right }\n",
       "    </style><table class=\"wandb\">\n",
       "<tr><td>cv_loss</td><td>▁</td></tr><tr><td>_runtime</td><td>▁</td></tr><tr><td>_timestamp</td><td>▁</td></tr><tr><td>_step</td><td>▁</td></tr></table><br/>"
      ],
      "text/plain": [
       "<IPython.core.display.HTML object>"
      ]
     },
     "metadata": {
      "tags": []
     },
     "output_type": "display_data"
    },
    {
     "data": {
      "text/html": [
       "Synced 5 W&B file(s), 0 media file(s), 0 artifact file(s) and 0 other file(s)"
      ],
      "text/plain": [
       "<IPython.core.display.HTML object>"
      ]
     },
     "metadata": {
      "tags": []
     },
     "output_type": "display_data"
    },
    {
     "data": {
      "text/html": [
       "\n",
       "                    <br/>Synced <strong style=\"color:#cdcd00\">prime-sweep-3</strong>: <a href=\"https://wandb.ai/ilevk/t-academy%20wandb%20demo/runs/zrqmtxgu\" target=\"_blank\">https://wandb.ai/ilevk/t-academy%20wandb%20demo/runs/zrqmtxgu</a><br/>\n",
       "                "
      ],
      "text/plain": [
       "<IPython.core.display.HTML object>"
      ]
     },
     "metadata": {
      "tags": []
     },
     "output_type": "display_data"
    },
    {
     "name": "stderr",
     "output_type": "stream",
     "text": [
      "\u001b[34m\u001b[1mwandb\u001b[0m: Agent Starting Run: 761fjght with config:\n",
      "\u001b[34m\u001b[1mwandb\u001b[0m: \tcolsample_bytree: 0.9285175248130326\n",
      "\u001b[34m\u001b[1mwandb\u001b[0m: \tmax_depth: 5\n",
      "\u001b[34m\u001b[1mwandb\u001b[0m: \tsubsample: 0.8436485901088797\n"
     ]
    },
    {
     "data": {
      "text/html": [
       "\n",
       "                Tracking run with wandb version 0.11.2<br/>\n",
       "                Syncing run <strong style=\"color:#cdcd00\">playful-sweep-4</strong> to <a href=\"https://wandb.ai\" target=\"_blank\">Weights & Biases</a> <a href=\"https://docs.wandb.com/integrations/jupyter.html\" target=\"_blank\">(Documentation)</a>.<br/>\n",
       "                Project page: <a href=\"https://wandb.ai/ilevk/t-academy%20wandb%20demo\" target=\"_blank\">https://wandb.ai/ilevk/t-academy%20wandb%20demo</a><br/>\n",
       "                Sweep page: <a href=\"https://wandb.ai/ilevk/t-academy%20wandb%20demo/sweeps/a20hskps\" target=\"_blank\">https://wandb.ai/ilevk/t-academy%20wandb%20demo/sweeps/a20hskps</a><br/>\n",
       "Run page: <a href=\"https://wandb.ai/ilevk/t-academy%20wandb%20demo/runs/761fjght\" target=\"_blank\">https://wandb.ai/ilevk/t-academy%20wandb%20demo/runs/761fjght</a><br/>\n",
       "                Run data is saved locally in <code>/content/wandb/run-20210807_075316-761fjght</code><br/><br/>\n",
       "            "
      ],
      "text/plain": [
       "<IPython.core.display.HTML object>"
      ]
     },
     "metadata": {
      "tags": []
     },
     "output_type": "display_data"
    },
    {
     "name": "stdout",
     "output_type": "stream",
     "text": [
      "[0]\tvalidation_0-mlogloss:1.05449\tvalidation_1-mlogloss:1.05486\n",
      "Multiple eval metrics have been passed: 'validation_1-mlogloss' will be used for early stopping.\n",
      "\n",
      "Will train until validation_1-mlogloss hasn't improved in 100 rounds.\n",
      "[100]\tvalidation_0-mlogloss:0.724808\tvalidation_1-mlogloss:0.77349\n",
      "[200]\tvalidation_0-mlogloss:0.66049\tvalidation_1-mlogloss:0.753305\n",
      "[300]\tvalidation_0-mlogloss:0.611931\tvalidation_1-mlogloss:0.741654\n",
      "[400]\tvalidation_0-mlogloss:0.572155\tvalidation_1-mlogloss:0.73479\n",
      "[500]\tvalidation_0-mlogloss:0.537422\tvalidation_1-mlogloss:0.730452\n",
      "[600]\tvalidation_0-mlogloss:0.508967\tvalidation_1-mlogloss:0.727422\n",
      "[700]\tvalidation_0-mlogloss:0.483654\tvalidation_1-mlogloss:0.727549\n",
      "Stopping. Best iteration:\n",
      "[615]\tvalidation_0-mlogloss:0.505095\tvalidation_1-mlogloss:0.726859\n",
      "\n",
      "0 Fold, train logloss : 0.50514, validation logloss : 0.7269\n",
      "[0]\tvalidation_0-mlogloss:1.05407\tvalidation_1-mlogloss:1.05547\n",
      "Multiple eval metrics have been passed: 'validation_1-mlogloss' will be used for early stopping.\n",
      "\n",
      "Will train until validation_1-mlogloss hasn't improved in 100 rounds.\n",
      "[100]\tvalidation_0-mlogloss:0.719257\tvalidation_1-mlogloss:0.786063\n",
      "[200]\tvalidation_0-mlogloss:0.657197\tvalidation_1-mlogloss:0.76847\n",
      "[300]\tvalidation_0-mlogloss:0.608096\tvalidation_1-mlogloss:0.757725\n",
      "[400]\tvalidation_0-mlogloss:0.568028\tvalidation_1-mlogloss:0.751029\n",
      "[500]\tvalidation_0-mlogloss:0.534906\tvalidation_1-mlogloss:0.746829\n",
      "[600]\tvalidation_0-mlogloss:0.50624\tvalidation_1-mlogloss:0.745301\n",
      "[700]\tvalidation_0-mlogloss:0.480512\tvalidation_1-mlogloss:0.744279\n",
      "[800]\tvalidation_0-mlogloss:0.457864\tvalidation_1-mlogloss:0.74518\n",
      "Stopping. Best iteration:\n",
      "[712]\tvalidation_0-mlogloss:0.477695\tvalidation_1-mlogloss:0.744198\n",
      "\n",
      "1 Fold, train logloss : 0.47774, validation logloss : 0.7442\n",
      "[0]\tvalidation_0-mlogloss:1.05423\tvalidation_1-mlogloss:1.05527\n",
      "Multiple eval metrics have been passed: 'validation_1-mlogloss' will be used for early stopping.\n",
      "\n",
      "Will train until validation_1-mlogloss hasn't improved in 100 rounds.\n",
      "[100]\tvalidation_0-mlogloss:0.721544\tvalidation_1-mlogloss:0.777931\n",
      "[200]\tvalidation_0-mlogloss:0.659111\tvalidation_1-mlogloss:0.760553\n",
      "[300]\tvalidation_0-mlogloss:0.609625\tvalidation_1-mlogloss:0.750584\n",
      "[400]\tvalidation_0-mlogloss:0.569054\tvalidation_1-mlogloss:0.744977\n",
      "[500]\tvalidation_0-mlogloss:0.535514\tvalidation_1-mlogloss:0.742038\n",
      "[600]\tvalidation_0-mlogloss:0.506208\tvalidation_1-mlogloss:0.741709\n",
      "[700]\tvalidation_0-mlogloss:0.480061\tvalidation_1-mlogloss:0.741439\n",
      "[800]\tvalidation_0-mlogloss:0.45702\tvalidation_1-mlogloss:0.742031\n",
      "Stopping. Best iteration:\n",
      "[710]\tvalidation_0-mlogloss:0.477759\tvalidation_1-mlogloss:0.740998\n",
      "\n",
      "2 Fold, train logloss : 0.47784, validation logloss : 0.7410\n",
      "[0]\tvalidation_0-mlogloss:1.05427\tvalidation_1-mlogloss:1.05492\n",
      "Multiple eval metrics have been passed: 'validation_1-mlogloss' will be used for early stopping.\n",
      "\n",
      "Will train until validation_1-mlogloss hasn't improved in 100 rounds.\n",
      "[100]\tvalidation_0-mlogloss:0.723457\tvalidation_1-mlogloss:0.775957\n",
      "[200]\tvalidation_0-mlogloss:0.65952\tvalidation_1-mlogloss:0.758166\n",
      "[300]\tvalidation_0-mlogloss:0.611795\tvalidation_1-mlogloss:0.746969\n",
      "[400]\tvalidation_0-mlogloss:0.571022\tvalidation_1-mlogloss:0.739197\n",
      "[500]\tvalidation_0-mlogloss:0.53719\tvalidation_1-mlogloss:0.73493\n",
      "[600]\tvalidation_0-mlogloss:0.506979\tvalidation_1-mlogloss:0.732092\n",
      "[700]\tvalidation_0-mlogloss:0.480626\tvalidation_1-mlogloss:0.732018\n",
      "Stopping. Best iteration:\n",
      "[681]\tvalidation_0-mlogloss:0.485243\tvalidation_1-mlogloss:0.731699\n",
      "\n",
      "3 Fold, train logloss : 0.48524, validation logloss : 0.7317\n",
      "[0]\tvalidation_0-mlogloss:1.05456\tvalidation_1-mlogloss:1.05492\n",
      "Multiple eval metrics have been passed: 'validation_1-mlogloss' will be used for early stopping.\n",
      "\n",
      "Will train until validation_1-mlogloss hasn't improved in 100 rounds.\n",
      "[100]\tvalidation_0-mlogloss:0.722885\tvalidation_1-mlogloss:0.773798\n",
      "[200]\tvalidation_0-mlogloss:0.6592\tvalidation_1-mlogloss:0.755358\n",
      "[300]\tvalidation_0-mlogloss:0.610409\tvalidation_1-mlogloss:0.745292\n",
      "[400]\tvalidation_0-mlogloss:0.56982\tvalidation_1-mlogloss:0.739524\n",
      "[500]\tvalidation_0-mlogloss:0.536266\tvalidation_1-mlogloss:0.736681\n",
      "[600]\tvalidation_0-mlogloss:0.506377\tvalidation_1-mlogloss:0.735894\n",
      "Stopping. Best iteration:\n",
      "[591]\tvalidation_0-mlogloss:0.508693\tvalidation_1-mlogloss:0.735601\n",
      "\n",
      "4 Fold, train logloss : 0.50874, validation logloss : 0.7356\n"
     ]
    },
    {
     "data": {
      "text/html": [
       "<br/>Waiting for W&B process to finish, PID 689<br/>Program ended successfully."
      ],
      "text/plain": [
       "<IPython.core.display.HTML object>"
      ]
     },
     "metadata": {
      "tags": []
     },
     "output_type": "display_data"
    },
    {
     "data": {
      "application/vnd.jupyter.widget-view+json": {
       "model_id": "9bb28c2de2bf40f1822e206a806fd6d8",
       "version_major": 2,
       "version_minor": 0
      },
      "text/plain": [
       "VBox(children=(Label(value=' 0.00MB of 0.00MB uploaded (0.00MB deduped)\\r'), FloatProgress(value=1.0, max=1.0)…"
      ]
     },
     "metadata": {
      "tags": []
     },
     "output_type": "display_data"
    },
    {
     "data": {
      "text/html": [
       "Find user logs for this run at: <code>/content/wandb/run-20210807_075316-761fjght/logs/debug.log</code>"
      ],
      "text/plain": [
       "<IPython.core.display.HTML object>"
      ]
     },
     "metadata": {
      "tags": []
     },
     "output_type": "display_data"
    },
    {
     "data": {
      "text/html": [
       "Find internal logs for this run at: <code>/content/wandb/run-20210807_075316-761fjght/logs/debug-internal.log</code>"
      ],
      "text/plain": [
       "<IPython.core.display.HTML object>"
      ]
     },
     "metadata": {
      "tags": []
     },
     "output_type": "display_data"
    },
    {
     "data": {
      "text/html": [
       "<h3>Run summary:</h3><br/><style>\n",
       "    table.wandb td:nth-child(1) { padding: 0 10px; text-align: right }\n",
       "    </style><table class=\"wandb\">\n",
       "<tr><td>cv_loss</td><td>0.73587</td></tr><tr><td>_runtime</td><td>83</td></tr><tr><td>_timestamp</td><td>1628322879</td></tr><tr><td>_step</td><td>0</td></tr></table>"
      ],
      "text/plain": [
       "<IPython.core.display.HTML object>"
      ]
     },
     "metadata": {
      "tags": []
     },
     "output_type": "display_data"
    },
    {
     "data": {
      "text/html": [
       "<h3>Run history:</h3><br/><style>\n",
       "    table.wandb td:nth-child(1) { padding: 0 10px; text-align: right }\n",
       "    </style><table class=\"wandb\">\n",
       "<tr><td>cv_loss</td><td>▁</td></tr><tr><td>_runtime</td><td>▁</td></tr><tr><td>_timestamp</td><td>▁</td></tr><tr><td>_step</td><td>▁</td></tr></table><br/>"
      ],
      "text/plain": [
       "<IPython.core.display.HTML object>"
      ]
     },
     "metadata": {
      "tags": []
     },
     "output_type": "display_data"
    },
    {
     "data": {
      "text/html": [
       "Synced 5 W&B file(s), 0 media file(s), 0 artifact file(s) and 0 other file(s)"
      ],
      "text/plain": [
       "<IPython.core.display.HTML object>"
      ]
     },
     "metadata": {
      "tags": []
     },
     "output_type": "display_data"
    },
    {
     "data": {
      "text/html": [
       "\n",
       "                    <br/>Synced <strong style=\"color:#cdcd00\">playful-sweep-4</strong>: <a href=\"https://wandb.ai/ilevk/t-academy%20wandb%20demo/runs/761fjght\" target=\"_blank\">https://wandb.ai/ilevk/t-academy%20wandb%20demo/runs/761fjght</a><br/>\n",
       "                "
      ],
      "text/plain": [
       "<IPython.core.display.HTML object>"
      ]
     },
     "metadata": {
      "tags": []
     },
     "output_type": "display_data"
    },
    {
     "name": "stderr",
     "output_type": "stream",
     "text": [
      "\u001b[34m\u001b[1mwandb\u001b[0m: Agent Starting Run: 7bxzvm88 with config:\n",
      "\u001b[34m\u001b[1mwandb\u001b[0m: \tcolsample_bytree: 0.9406544662955061\n",
      "\u001b[34m\u001b[1mwandb\u001b[0m: \tmax_depth: 5\n",
      "\u001b[34m\u001b[1mwandb\u001b[0m: \tsubsample: 0.8223017927643013\n"
     ]
    },
    {
     "data": {
      "text/html": [
       "\n",
       "                Tracking run with wandb version 0.11.2<br/>\n",
       "                Syncing run <strong style=\"color:#cdcd00\">denim-sweep-5</strong> to <a href=\"https://wandb.ai\" target=\"_blank\">Weights & Biases</a> <a href=\"https://docs.wandb.com/integrations/jupyter.html\" target=\"_blank\">(Documentation)</a>.<br/>\n",
       "                Project page: <a href=\"https://wandb.ai/ilevk/t-academy%20wandb%20demo\" target=\"_blank\">https://wandb.ai/ilevk/t-academy%20wandb%20demo</a><br/>\n",
       "                Sweep page: <a href=\"https://wandb.ai/ilevk/t-academy%20wandb%20demo/sweeps/a20hskps\" target=\"_blank\">https://wandb.ai/ilevk/t-academy%20wandb%20demo/sweeps/a20hskps</a><br/>\n",
       "Run page: <a href=\"https://wandb.ai/ilevk/t-academy%20wandb%20demo/runs/7bxzvm88\" target=\"_blank\">https://wandb.ai/ilevk/t-academy%20wandb%20demo/runs/7bxzvm88</a><br/>\n",
       "                Run data is saved locally in <code>/content/wandb/run-20210807_075448-7bxzvm88</code><br/><br/>\n",
       "            "
      ],
      "text/plain": [
       "<IPython.core.display.HTML object>"
      ]
     },
     "metadata": {
      "tags": []
     },
     "output_type": "display_data"
    },
    {
     "name": "stdout",
     "output_type": "stream",
     "text": [
      "[0]\tvalidation_0-mlogloss:1.05438\tvalidation_1-mlogloss:1.05466\n",
      "Multiple eval metrics have been passed: 'validation_1-mlogloss' will be used for early stopping.\n",
      "\n",
      "Will train until validation_1-mlogloss hasn't improved in 100 rounds.\n",
      "[100]\tvalidation_0-mlogloss:0.724194\tvalidation_1-mlogloss:0.773566\n",
      "[200]\tvalidation_0-mlogloss:0.659517\tvalidation_1-mlogloss:0.752578\n",
      "[300]\tvalidation_0-mlogloss:0.61154\tvalidation_1-mlogloss:0.741747\n",
      "[400]\tvalidation_0-mlogloss:0.571195\tvalidation_1-mlogloss:0.736043\n",
      "[500]\tvalidation_0-mlogloss:0.537233\tvalidation_1-mlogloss:0.73236\n",
      "[600]\tvalidation_0-mlogloss:0.507631\tvalidation_1-mlogloss:0.729285\n",
      "[700]\tvalidation_0-mlogloss:0.482064\tvalidation_1-mlogloss:0.728777\n",
      "Stopping. Best iteration:\n",
      "[625]\tvalidation_0-mlogloss:0.500917\tvalidation_1-mlogloss:0.728234\n",
      "\n",
      "0 Fold, train logloss : 0.50094, validation logloss : 0.7282\n",
      "[0]\tvalidation_0-mlogloss:1.05408\tvalidation_1-mlogloss:1.05554\n",
      "Multiple eval metrics have been passed: 'validation_1-mlogloss' will be used for early stopping.\n",
      "\n",
      "Will train until validation_1-mlogloss hasn't improved in 100 rounds.\n",
      "[100]\tvalidation_0-mlogloss:0.717469\tvalidation_1-mlogloss:0.786669\n",
      "[200]\tvalidation_0-mlogloss:0.65492\tvalidation_1-mlogloss:0.768017\n",
      "[300]\tvalidation_0-mlogloss:0.608023\tvalidation_1-mlogloss:0.758315\n",
      "[400]\tvalidation_0-mlogloss:0.56776\tvalidation_1-mlogloss:0.752588\n",
      "[500]\tvalidation_0-mlogloss:0.533579\tvalidation_1-mlogloss:0.748802\n",
      "[600]\tvalidation_0-mlogloss:0.504821\tvalidation_1-mlogloss:0.747451\n",
      "[700]\tvalidation_0-mlogloss:0.478785\tvalidation_1-mlogloss:0.747346\n",
      "Stopping. Best iteration:\n",
      "[646]\tvalidation_0-mlogloss:0.492791\tvalidation_1-mlogloss:0.746789\n",
      "\n",
      "1 Fold, train logloss : 0.49284, validation logloss : 0.7468\n",
      "[0]\tvalidation_0-mlogloss:1.05418\tvalidation_1-mlogloss:1.05516\n",
      "Multiple eval metrics have been passed: 'validation_1-mlogloss' will be used for early stopping.\n",
      "\n",
      "Will train until validation_1-mlogloss hasn't improved in 100 rounds.\n",
      "[100]\tvalidation_0-mlogloss:0.721887\tvalidation_1-mlogloss:0.777885\n",
      "[200]\tvalidation_0-mlogloss:0.657703\tvalidation_1-mlogloss:0.75971\n",
      "[300]\tvalidation_0-mlogloss:0.608441\tvalidation_1-mlogloss:0.750457\n",
      "[400]\tvalidation_0-mlogloss:0.569058\tvalidation_1-mlogloss:0.744492\n",
      "[500]\tvalidation_0-mlogloss:0.534759\tvalidation_1-mlogloss:0.742024\n",
      "[600]\tvalidation_0-mlogloss:0.505023\tvalidation_1-mlogloss:0.740109\n",
      "[700]\tvalidation_0-mlogloss:0.479243\tvalidation_1-mlogloss:0.740552\n",
      "Stopping. Best iteration:\n",
      "[614]\tvalidation_0-mlogloss:0.501339\tvalidation_1-mlogloss:0.739706\n",
      "\n",
      "2 Fold, train logloss : 0.50134, validation logloss : 0.7397\n",
      "[0]\tvalidation_0-mlogloss:1.05418\tvalidation_1-mlogloss:1.05492\n",
      "Multiple eval metrics have been passed: 'validation_1-mlogloss' will be used for early stopping.\n",
      "\n",
      "Will train until validation_1-mlogloss hasn't improved in 100 rounds.\n",
      "[100]\tvalidation_0-mlogloss:0.723167\tvalidation_1-mlogloss:0.776819\n",
      "[200]\tvalidation_0-mlogloss:0.658934\tvalidation_1-mlogloss:0.757355\n",
      "[300]\tvalidation_0-mlogloss:0.61005\tvalidation_1-mlogloss:0.746313\n",
      "[400]\tvalidation_0-mlogloss:0.568958\tvalidation_1-mlogloss:0.739413\n",
      "[500]\tvalidation_0-mlogloss:0.535098\tvalidation_1-mlogloss:0.73553\n",
      "[600]\tvalidation_0-mlogloss:0.504961\tvalidation_1-mlogloss:0.733953\n",
      "Stopping. Best iteration:\n",
      "[598]\tvalidation_0-mlogloss:0.505582\tvalidation_1-mlogloss:0.733752\n",
      "\n",
      "3 Fold, train logloss : 0.50564, validation logloss : 0.7338\n",
      "[0]\tvalidation_0-mlogloss:1.05452\tvalidation_1-mlogloss:1.05488\n",
      "Multiple eval metrics have been passed: 'validation_1-mlogloss' will be used for early stopping.\n",
      "\n",
      "Will train until validation_1-mlogloss hasn't improved in 100 rounds.\n",
      "[100]\tvalidation_0-mlogloss:0.722025\tvalidation_1-mlogloss:0.775227\n",
      "[200]\tvalidation_0-mlogloss:0.658152\tvalidation_1-mlogloss:0.75774\n",
      "[300]\tvalidation_0-mlogloss:0.609098\tvalidation_1-mlogloss:0.747848\n",
      "[400]\tvalidation_0-mlogloss:0.56799\tvalidation_1-mlogloss:0.741862\n",
      "[500]\tvalidation_0-mlogloss:0.534449\tvalidation_1-mlogloss:0.739503\n",
      "[600]\tvalidation_0-mlogloss:0.504782\tvalidation_1-mlogloss:0.738633\n",
      "[700]\tvalidation_0-mlogloss:0.478894\tvalidation_1-mlogloss:0.738837\n",
      "Stopping. Best iteration:\n",
      "[619]\tvalidation_0-mlogloss:0.49965\tvalidation_1-mlogloss:0.738256\n",
      "\n",
      "4 Fold, train logloss : 0.49974, validation logloss : 0.7383\n"
     ]
    },
    {
     "data": {
      "text/html": [
       "<br/>Waiting for W&B process to finish, PID 736<br/>Program ended successfully."
      ],
      "text/plain": [
       "<IPython.core.display.HTML object>"
      ]
     },
     "metadata": {
      "tags": []
     },
     "output_type": "display_data"
    },
    {
     "data": {
      "application/vnd.jupyter.widget-view+json": {
       "model_id": "90265d10d5a44a2fbcd58bc8148d668c",
       "version_major": 2,
       "version_minor": 0
      },
      "text/plain": [
       "VBox(children=(Label(value=' 0.00MB of 0.00MB uploaded (0.00MB deduped)\\r'), FloatProgress(value=1.0, max=1.0)…"
      ]
     },
     "metadata": {
      "tags": []
     },
     "output_type": "display_data"
    },
    {
     "data": {
      "text/html": [
       "Find user logs for this run at: <code>/content/wandb/run-20210807_075448-7bxzvm88/logs/debug.log</code>"
      ],
      "text/plain": [
       "<IPython.core.display.HTML object>"
      ]
     },
     "metadata": {
      "tags": []
     },
     "output_type": "display_data"
    },
    {
     "data": {
      "text/html": [
       "Find internal logs for this run at: <code>/content/wandb/run-20210807_075448-7bxzvm88/logs/debug-internal.log</code>"
      ],
      "text/plain": [
       "<IPython.core.display.HTML object>"
      ]
     },
     "metadata": {
      "tags": []
     },
     "output_type": "display_data"
    },
    {
     "data": {
      "text/html": [
       "<h3>Run summary:</h3><br/><style>\n",
       "    table.wandb td:nth-child(1) { padding: 0 10px; text-align: right }\n",
       "    </style><table class=\"wandb\">\n",
       "<tr><td>cv_loss</td><td>0.73735</td></tr><tr><td>_runtime</td><td>83</td></tr><tr><td>_timestamp</td><td>1628322971</td></tr><tr><td>_step</td><td>0</td></tr></table>"
      ],
      "text/plain": [
       "<IPython.core.display.HTML object>"
      ]
     },
     "metadata": {
      "tags": []
     },
     "output_type": "display_data"
    },
    {
     "data": {
      "text/html": [
       "<h3>Run history:</h3><br/><style>\n",
       "    table.wandb td:nth-child(1) { padding: 0 10px; text-align: right }\n",
       "    </style><table class=\"wandb\">\n",
       "<tr><td>cv_loss</td><td>▁</td></tr><tr><td>_runtime</td><td>▁</td></tr><tr><td>_timestamp</td><td>▁</td></tr><tr><td>_step</td><td>▁</td></tr></table><br/>"
      ],
      "text/plain": [
       "<IPython.core.display.HTML object>"
      ]
     },
     "metadata": {
      "tags": []
     },
     "output_type": "display_data"
    },
    {
     "data": {
      "text/html": [
       "Synced 5 W&B file(s), 0 media file(s), 0 artifact file(s) and 0 other file(s)"
      ],
      "text/plain": [
       "<IPython.core.display.HTML object>"
      ]
     },
     "metadata": {
      "tags": []
     },
     "output_type": "display_data"
    },
    {
     "data": {
      "text/html": [
       "\n",
       "                    <br/>Synced <strong style=\"color:#cdcd00\">denim-sweep-5</strong>: <a href=\"https://wandb.ai/ilevk/t-academy%20wandb%20demo/runs/7bxzvm88\" target=\"_blank\">https://wandb.ai/ilevk/t-academy%20wandb%20demo/runs/7bxzvm88</a><br/>\n",
       "                "
      ],
      "text/plain": [
       "<IPython.core.display.HTML object>"
      ]
     },
     "metadata": {
      "tags": []
     },
     "output_type": "display_data"
    },
    {
     "name": "stderr",
     "output_type": "stream",
     "text": [
      "\u001b[34m\u001b[1mwandb\u001b[0m: Agent Starting Run: jaku202w with config:\n",
      "\u001b[34m\u001b[1mwandb\u001b[0m: \tcolsample_bytree: 0.8113843816799957\n",
      "\u001b[34m\u001b[1mwandb\u001b[0m: \tmax_depth: 15\n",
      "\u001b[34m\u001b[1mwandb\u001b[0m: \tsubsample: 0.7076145805064211\n"
     ]
    },
    {
     "data": {
      "text/html": [
       "\n",
       "                Tracking run with wandb version 0.11.2<br/>\n",
       "                Syncing run <strong style=\"color:#cdcd00\">soft-sweep-6</strong> to <a href=\"https://wandb.ai\" target=\"_blank\">Weights & Biases</a> <a href=\"https://docs.wandb.com/integrations/jupyter.html\" target=\"_blank\">(Documentation)</a>.<br/>\n",
       "                Project page: <a href=\"https://wandb.ai/ilevk/t-academy%20wandb%20demo\" target=\"_blank\">https://wandb.ai/ilevk/t-academy%20wandb%20demo</a><br/>\n",
       "                Sweep page: <a href=\"https://wandb.ai/ilevk/t-academy%20wandb%20demo/sweeps/a20hskps\" target=\"_blank\">https://wandb.ai/ilevk/t-academy%20wandb%20demo/sweeps/a20hskps</a><br/>\n",
       "Run page: <a href=\"https://wandb.ai/ilevk/t-academy%20wandb%20demo/runs/jaku202w\" target=\"_blank\">https://wandb.ai/ilevk/t-academy%20wandb%20demo/runs/jaku202w</a><br/>\n",
       "                Run data is saved locally in <code>/content/wandb/run-20210807_075620-jaku202w</code><br/><br/>\n",
       "            "
      ],
      "text/plain": [
       "<IPython.core.display.HTML object>"
      ]
     },
     "metadata": {
      "tags": []
     },
     "output_type": "display_data"
    },
    {
     "name": "stdout",
     "output_type": "stream",
     "text": [
      "[0]\tvalidation_0-mlogloss:1.03885\tvalidation_1-mlogloss:1.05076\n",
      "Multiple eval metrics have been passed: 'validation_1-mlogloss' will be used for early stopping.\n",
      "\n",
      "Will train until validation_1-mlogloss hasn't improved in 100 rounds.\n",
      "[100]\tvalidation_0-mlogloss:0.245812\tvalidation_1-mlogloss:0.731015\n",
      "Stopping. Best iteration:\n",
      "[50]\tvalidation_0-mlogloss:0.388743\tvalidation_1-mlogloss:0.711666\n",
      "\n",
      "0 Fold, train logloss : 0.38874, validation logloss : 0.7117\n",
      "[0]\tvalidation_0-mlogloss:1.04165\tvalidation_1-mlogloss:1.05276\n",
      "Multiple eval metrics have been passed: 'validation_1-mlogloss' will be used for early stopping.\n",
      "\n",
      "Will train until validation_1-mlogloss hasn't improved in 100 rounds.\n",
      "[100]\tvalidation_0-mlogloss:0.23846\tvalidation_1-mlogloss:0.753631\n",
      "Stopping. Best iteration:\n",
      "[53]\tvalidation_0-mlogloss:0.375268\tvalidation_1-mlogloss:0.724076\n",
      "\n",
      "1 Fold, train logloss : 0.37534, validation logloss : 0.7241\n",
      "[0]\tvalidation_0-mlogloss:1.04057\tvalidation_1-mlogloss:1.05264\n",
      "Multiple eval metrics have been passed: 'validation_1-mlogloss' will be used for early stopping.\n",
      "\n",
      "Will train until validation_1-mlogloss hasn't improved in 100 rounds.\n",
      "[100]\tvalidation_0-mlogloss:0.241421\tvalidation_1-mlogloss:0.752654\n",
      "Stopping. Best iteration:\n",
      "[53]\tvalidation_0-mlogloss:0.373549\tvalidation_1-mlogloss:0.727281\n",
      "\n",
      "2 Fold, train logloss : 0.37354, validation logloss : 0.7273\n",
      "[0]\tvalidation_0-mlogloss:1.03991\tvalidation_1-mlogloss:1.05086\n",
      "Multiple eval metrics have been passed: 'validation_1-mlogloss' will be used for early stopping.\n",
      "\n",
      "Will train until validation_1-mlogloss hasn't improved in 100 rounds.\n",
      "[100]\tvalidation_0-mlogloss:0.238151\tvalidation_1-mlogloss:0.747521\n",
      "Stopping. Best iteration:\n",
      "[49]\tvalidation_0-mlogloss:0.3901\tvalidation_1-mlogloss:0.721037\n",
      "\n",
      "3 Fold, train logloss : 0.39014, validation logloss : 0.7210\n",
      "[0]\tvalidation_0-mlogloss:1.03967\tvalidation_1-mlogloss:1.04992\n",
      "Multiple eval metrics have been passed: 'validation_1-mlogloss' will be used for early stopping.\n",
      "\n",
      "Will train until validation_1-mlogloss hasn't improved in 100 rounds.\n",
      "[100]\tvalidation_0-mlogloss:0.245234\tvalidation_1-mlogloss:0.751162\n",
      "Stopping. Best iteration:\n",
      "[51]\tvalidation_0-mlogloss:0.385981\tvalidation_1-mlogloss:0.724879\n",
      "\n",
      "4 Fold, train logloss : 0.38604, validation logloss : 0.7249\n"
     ]
    },
    {
     "data": {
      "text/html": [
       "<br/>Waiting for W&B process to finish, PID 781<br/>Program ended successfully."
      ],
      "text/plain": [
       "<IPython.core.display.HTML object>"
      ]
     },
     "metadata": {
      "tags": []
     },
     "output_type": "display_data"
    },
    {
     "data": {
      "application/vnd.jupyter.widget-view+json": {
       "model_id": "2a852ad885634bfea897b1c7a78f8941",
       "version_major": 2,
       "version_minor": 0
      },
      "text/plain": [
       "VBox(children=(Label(value=' 0.00MB of 0.00MB uploaded (0.00MB deduped)\\r'), FloatProgress(value=1.0, max=1.0)…"
      ]
     },
     "metadata": {
      "tags": []
     },
     "output_type": "display_data"
    },
    {
     "data": {
      "text/html": [
       "Find user logs for this run at: <code>/content/wandb/run-20210807_075620-jaku202w/logs/debug.log</code>"
      ],
      "text/plain": [
       "<IPython.core.display.HTML object>"
      ]
     },
     "metadata": {
      "tags": []
     },
     "output_type": "display_data"
    },
    {
     "data": {
      "text/html": [
       "Find internal logs for this run at: <code>/content/wandb/run-20210807_075620-jaku202w/logs/debug-internal.log</code>"
      ],
      "text/plain": [
       "<IPython.core.display.HTML object>"
      ]
     },
     "metadata": {
      "tags": []
     },
     "output_type": "display_data"
    },
    {
     "data": {
      "text/html": [
       "<h3>Run summary:</h3><br/><style>\n",
       "    table.wandb td:nth-child(1) { padding: 0 10px; text-align: right }\n",
       "    </style><table class=\"wandb\">\n",
       "<tr><td>cv_loss</td><td>0.72179</td></tr><tr><td>_runtime</td><td>128</td></tr><tr><td>_timestamp</td><td>1628323108</td></tr><tr><td>_step</td><td>0</td></tr></table>"
      ],
      "text/plain": [
       "<IPython.core.display.HTML object>"
      ]
     },
     "metadata": {
      "tags": []
     },
     "output_type": "display_data"
    },
    {
     "data": {
      "text/html": [
       "<h3>Run history:</h3><br/><style>\n",
       "    table.wandb td:nth-child(1) { padding: 0 10px; text-align: right }\n",
       "    </style><table class=\"wandb\">\n",
       "<tr><td>cv_loss</td><td>▁</td></tr><tr><td>_runtime</td><td>▁</td></tr><tr><td>_timestamp</td><td>▁</td></tr><tr><td>_step</td><td>▁</td></tr></table><br/>"
      ],
      "text/plain": [
       "<IPython.core.display.HTML object>"
      ]
     },
     "metadata": {
      "tags": []
     },
     "output_type": "display_data"
    },
    {
     "data": {
      "text/html": [
       "Synced 5 W&B file(s), 0 media file(s), 0 artifact file(s) and 0 other file(s)"
      ],
      "text/plain": [
       "<IPython.core.display.HTML object>"
      ]
     },
     "metadata": {
      "tags": []
     },
     "output_type": "display_data"
    },
    {
     "data": {
      "text/html": [
       "\n",
       "                    <br/>Synced <strong style=\"color:#cdcd00\">soft-sweep-6</strong>: <a href=\"https://wandb.ai/ilevk/t-academy%20wandb%20demo/runs/jaku202w\" target=\"_blank\">https://wandb.ai/ilevk/t-academy%20wandb%20demo/runs/jaku202w</a><br/>\n",
       "                "
      ],
      "text/plain": [
       "<IPython.core.display.HTML object>"
      ]
     },
     "metadata": {
      "tags": []
     },
     "output_type": "display_data"
    }
   ],
   "source": [
    "from sklearn.model_selection import StratifiedKFold\n",
    "from sklearn.metrics import log_loss\n",
    "from xgboost import XGBClassifier\n",
    "\n",
    "def train():\n",
    "    with wandb.init() as run:\n",
    "        params = wandb.config\n",
    "        \n",
    "        val_scores = list()\n",
    "        oof_pred = np.zeros((test.shape[0], 3))\n",
    "        n_splits = 5\n",
    "\n",
    "        skf = StratifiedKFold(n_splits=n_splits, shuffle=True, random_state=42)\n",
    "\n",
    "        for i, (trn_idx, val_idx) in enumerate(skf.split(data, label)):\n",
    "            x_train, y_train = data.iloc[trn_idx, :], label.iloc[trn_idx,]\n",
    "            x_valid, y_valid = data.iloc[val_idx, :], label.iloc[val_idx,]\n",
    "\n",
    "            # 전처리\n",
    "            x_train, x_valid, x_test = preprocess(x_train, x_valid, test)\n",
    "\n",
    "            # 모델 정의\n",
    "            model = XGBClassifier(n_estimators=1000,\n",
    "                                  max_depth=params['max_depth'],\n",
    "                                  subsample=params['subsample'],\n",
    "                                  colsample_bytree=params['colsample_bytree'],\n",
    "                                  tree_method='gpu_hist',\n",
    "                                  n_jobs=n_cpus-1)\n",
    "\n",
    "            # 모델 학습\n",
    "            model.fit(x_train, y_train, \n",
    "                      eval_metric='mlogloss', \n",
    "                      eval_set=[[x_train, y_train], [x_valid, y_valid]],\n",
    "                      early_stopping_rounds=100,\n",
    "                      verbose=100)\n",
    "\n",
    "            # 훈련, 검증 데이터 log_loss 확인\n",
    "            trn_logloss = log_loss(y_train, model.predict_proba(x_train))\n",
    "            val_logloss = log_loss(y_valid, model.predict_proba(x_valid))\n",
    "            print('{} Fold, train logloss : {:.4f}4, validation logloss : {:.4f}'.format(i, trn_logloss, val_logloss))\n",
    "\n",
    "            val_scores.append(val_logloss)\n",
    "            \n",
    "        metrics = {\"cv_loss\": np.mean(val_scores)}\n",
    "        wandb.log(metrics)\n",
    "count = 5\n",
    "wandb.agent(sweep_id, function=train, count=count)"
   ]
  },
  {
   "cell_type": "code",
   "execution_count": null,
   "metadata": {
    "id": "gtntFwYhk6bz"
   },
   "outputs": [],
   "source": []
  }
 ],
 "metadata": {
  "accelerator": "GPU",
  "colab": {
   "collapsed_sections": [],
   "name": "Lab_04) WanDB.ipynb",
   "provenance": []
  },
  "kernelspec": {
   "display_name": "Python 3",
   "language": "python",
   "name": "python3"
  },
  "language_info": {
   "codemirror_mode": {
    "name": "ipython",
    "version": 3
   },
   "file_extension": ".py",
   "mimetype": "text/x-python",
   "name": "python",
   "nbconvert_exporter": "python",
   "pygments_lexer": "ipython3",
   "version": "3.7.11"
  },
  "widgets": {
   "application/vnd.jupyter.widget-state+json": {
    "0312ae5277bf42a48635a9a5c8e30e5f": {
     "model_module": "@jupyter-widgets/controls",
     "model_name": "VBoxModel",
     "state": {
      "_dom_classes": [],
      "_model_module": "@jupyter-widgets/controls",
      "_model_module_version": "1.5.0",
      "_model_name": "VBoxModel",
      "_view_count": null,
      "_view_module": "@jupyter-widgets/controls",
      "_view_module_version": "1.5.0",
      "_view_name": "VBoxView",
      "box_style": "",
      "children": [
       "IPY_MODEL_fbc953c4c6604776855df2b133db20ce",
       "IPY_MODEL_8096996194e74cf1bf9a4e4c597d1f07"
      ],
      "layout": "IPY_MODEL_1caac67b235b45f1ad255b1308a850e6"
     }
    },
    "1caac67b235b45f1ad255b1308a850e6": {
     "model_module": "@jupyter-widgets/base",
     "model_name": "LayoutModel",
     "state": {
      "_model_module": "@jupyter-widgets/base",
      "_model_module_version": "1.2.0",
      "_model_name": "LayoutModel",
      "_view_count": null,
      "_view_module": "@jupyter-widgets/base",
      "_view_module_version": "1.2.0",
      "_view_name": "LayoutView",
      "align_content": null,
      "align_items": null,
      "align_self": null,
      "border": null,
      "bottom": null,
      "display": null,
      "flex": null,
      "flex_flow": null,
      "grid_area": null,
      "grid_auto_columns": null,
      "grid_auto_flow": null,
      "grid_auto_rows": null,
      "grid_column": null,
      "grid_gap": null,
      "grid_row": null,
      "grid_template_areas": null,
      "grid_template_columns": null,
      "grid_template_rows": null,
      "height": null,
      "justify_content": null,
      "justify_items": null,
      "left": null,
      "margin": null,
      "max_height": null,
      "max_width": null,
      "min_height": null,
      "min_width": null,
      "object_fit": null,
      "object_position": null,
      "order": null,
      "overflow": null,
      "overflow_x": null,
      "overflow_y": null,
      "padding": null,
      "right": null,
      "top": null,
      "visibility": null,
      "width": null
     }
    },
    "25d67e1fd21d4b93837f7d304d53b583": {
     "model_module": "@jupyter-widgets/controls",
     "model_name": "ProgressStyleModel",
     "state": {
      "_model_module": "@jupyter-widgets/controls",
      "_model_module_version": "1.5.0",
      "_model_name": "ProgressStyleModel",
      "_view_count": null,
      "_view_module": "@jupyter-widgets/base",
      "_view_module_version": "1.2.0",
      "_view_name": "StyleView",
      "bar_color": null,
      "description_width": ""
     }
    },
    "341fd02da9bb49519eaa3354210fd0bf": {
     "model_module": "@jupyter-widgets/controls",
     "model_name": "VBoxModel",
     "state": {
      "_dom_classes": [],
      "_model_module": "@jupyter-widgets/controls",
      "_model_module_version": "1.5.0",
      "_model_name": "VBoxModel",
      "_view_count": null,
      "_view_module": "@jupyter-widgets/controls",
      "_view_module_version": "1.5.0",
      "_view_name": "VBoxView",
      "box_style": "",
      "children": [
       "IPY_MODEL_6b93c8506aea436fa2a90c1750f2b185",
       "IPY_MODEL_9148ff8235d04990abea2c6ea645d473"
      ],
      "layout": "IPY_MODEL_c307d4149f8a4629bbc8f3f578814c6e"
     }
    },
    "38c733d9490349bdad0e385b51c97a87": {
     "model_module": "@jupyter-widgets/controls",
     "model_name": "DescriptionStyleModel",
     "state": {
      "_model_module": "@jupyter-widgets/controls",
      "_model_module_version": "1.5.0",
      "_model_name": "DescriptionStyleModel",
      "_view_count": null,
      "_view_module": "@jupyter-widgets/base",
      "_view_module_version": "1.2.0",
      "_view_name": "StyleView",
      "description_width": ""
     }
    },
    "4fba267871024ba6bf251d1faea01b68": {
     "model_module": "@jupyter-widgets/base",
     "model_name": "LayoutModel",
     "state": {
      "_model_module": "@jupyter-widgets/base",
      "_model_module_version": "1.2.0",
      "_model_name": "LayoutModel",
      "_view_count": null,
      "_view_module": "@jupyter-widgets/base",
      "_view_module_version": "1.2.0",
      "_view_name": "LayoutView",
      "align_content": null,
      "align_items": null,
      "align_self": null,
      "border": null,
      "bottom": null,
      "display": null,
      "flex": null,
      "flex_flow": null,
      "grid_area": null,
      "grid_auto_columns": null,
      "grid_auto_flow": null,
      "grid_auto_rows": null,
      "grid_column": null,
      "grid_gap": null,
      "grid_row": null,
      "grid_template_areas": null,
      "grid_template_columns": null,
      "grid_template_rows": null,
      "height": null,
      "justify_content": null,
      "justify_items": null,
      "left": null,
      "margin": null,
      "max_height": null,
      "max_width": null,
      "min_height": null,
      "min_width": null,
      "object_fit": null,
      "object_position": null,
      "order": null,
      "overflow": null,
      "overflow_x": null,
      "overflow_y": null,
      "padding": null,
      "right": null,
      "top": null,
      "visibility": null,
      "width": null
     }
    },
    "6b93c8506aea436fa2a90c1750f2b185": {
     "model_module": "@jupyter-widgets/controls",
     "model_name": "LabelModel",
     "state": {
      "_dom_classes": [],
      "_model_module": "@jupyter-widgets/controls",
      "_model_module_version": "1.5.0",
      "_model_name": "LabelModel",
      "_view_count": null,
      "_view_module": "@jupyter-widgets/controls",
      "_view_module_version": "1.5.0",
      "_view_name": "LabelView",
      "description": "",
      "description_tooltip": null,
      "layout": "IPY_MODEL_4fba267871024ba6bf251d1faea01b68",
      "placeholder": "​",
      "style": "IPY_MODEL_91c4ce717af6440d8a975901fea7f899",
      "value": " 0.01MB of 0.01MB uploaded (0.00MB deduped)\r"
     }
    },
    "702814035fa04f94aa53f8f7dee3eccf": {
     "model_module": "@jupyter-widgets/base",
     "model_name": "LayoutModel",
     "state": {
      "_model_module": "@jupyter-widgets/base",
      "_model_module_version": "1.2.0",
      "_model_name": "LayoutModel",
      "_view_count": null,
      "_view_module": "@jupyter-widgets/base",
      "_view_module_version": "1.2.0",
      "_view_name": "LayoutView",
      "align_content": null,
      "align_items": null,
      "align_self": null,
      "border": null,
      "bottom": null,
      "display": null,
      "flex": null,
      "flex_flow": null,
      "grid_area": null,
      "grid_auto_columns": null,
      "grid_auto_flow": null,
      "grid_auto_rows": null,
      "grid_column": null,
      "grid_gap": null,
      "grid_row": null,
      "grid_template_areas": null,
      "grid_template_columns": null,
      "grid_template_rows": null,
      "height": null,
      "justify_content": null,
      "justify_items": null,
      "left": null,
      "margin": null,
      "max_height": null,
      "max_width": null,
      "min_height": null,
      "min_width": null,
      "object_fit": null,
      "object_position": null,
      "order": null,
      "overflow": null,
      "overflow_x": null,
      "overflow_y": null,
      "padding": null,
      "right": null,
      "top": null,
      "visibility": null,
      "width": null
     }
    },
    "73b7bd4e9f9f443ab8074dbf4a6bc38f": {
     "model_module": "@jupyter-widgets/base",
     "model_name": "LayoutModel",
     "state": {
      "_model_module": "@jupyter-widgets/base",
      "_model_module_version": "1.2.0",
      "_model_name": "LayoutModel",
      "_view_count": null,
      "_view_module": "@jupyter-widgets/base",
      "_view_module_version": "1.2.0",
      "_view_name": "LayoutView",
      "align_content": null,
      "align_items": null,
      "align_self": null,
      "border": null,
      "bottom": null,
      "display": null,
      "flex": null,
      "flex_flow": null,
      "grid_area": null,
      "grid_auto_columns": null,
      "grid_auto_flow": null,
      "grid_auto_rows": null,
      "grid_column": null,
      "grid_gap": null,
      "grid_row": null,
      "grid_template_areas": null,
      "grid_template_columns": null,
      "grid_template_rows": null,
      "height": null,
      "justify_content": null,
      "justify_items": null,
      "left": null,
      "margin": null,
      "max_height": null,
      "max_width": null,
      "min_height": null,
      "min_width": null,
      "object_fit": null,
      "object_position": null,
      "order": null,
      "overflow": null,
      "overflow_x": null,
      "overflow_y": null,
      "padding": null,
      "right": null,
      "top": null,
      "visibility": null,
      "width": null
     }
    },
    "8096996194e74cf1bf9a4e4c597d1f07": {
     "model_module": "@jupyter-widgets/controls",
     "model_name": "FloatProgressModel",
     "state": {
      "_dom_classes": [],
      "_model_module": "@jupyter-widgets/controls",
      "_model_module_version": "1.5.0",
      "_model_name": "FloatProgressModel",
      "_view_count": null,
      "_view_module": "@jupyter-widgets/controls",
      "_view_module_version": "1.5.0",
      "_view_name": "ProgressView",
      "bar_style": "",
      "description": "",
      "description_tooltip": null,
      "layout": "IPY_MODEL_702814035fa04f94aa53f8f7dee3eccf",
      "max": 1,
      "min": 0,
      "orientation": "horizontal",
      "style": "IPY_MODEL_25d67e1fd21d4b93837f7d304d53b583",
      "value": 1
     }
    },
    "9148ff8235d04990abea2c6ea645d473": {
     "model_module": "@jupyter-widgets/controls",
     "model_name": "FloatProgressModel",
     "state": {
      "_dom_classes": [],
      "_model_module": "@jupyter-widgets/controls",
      "_model_module_version": "1.5.0",
      "_model_name": "FloatProgressModel",
      "_view_count": null,
      "_view_module": "@jupyter-widgets/controls",
      "_view_module_version": "1.5.0",
      "_view_name": "ProgressView",
      "bar_style": "",
      "description": "",
      "description_tooltip": null,
      "layout": "IPY_MODEL_e0de614ad67645a9a7a20a22433b74d1",
      "max": 1,
      "min": 0,
      "orientation": "horizontal",
      "style": "IPY_MODEL_b94406847fd54d758da47dc10aa8c70b",
      "value": 1
     }
    },
    "91c4ce717af6440d8a975901fea7f899": {
     "model_module": "@jupyter-widgets/controls",
     "model_name": "DescriptionStyleModel",
     "state": {
      "_model_module": "@jupyter-widgets/controls",
      "_model_module_version": "1.5.0",
      "_model_name": "DescriptionStyleModel",
      "_view_count": null,
      "_view_module": "@jupyter-widgets/base",
      "_view_module_version": "1.2.0",
      "_view_name": "StyleView",
      "description_width": ""
     }
    },
    "b94406847fd54d758da47dc10aa8c70b": {
     "model_module": "@jupyter-widgets/controls",
     "model_name": "ProgressStyleModel",
     "state": {
      "_model_module": "@jupyter-widgets/controls",
      "_model_module_version": "1.5.0",
      "_model_name": "ProgressStyleModel",
      "_view_count": null,
      "_view_module": "@jupyter-widgets/base",
      "_view_module_version": "1.2.0",
      "_view_name": "StyleView",
      "bar_color": null,
      "description_width": ""
     }
    },
    "c307d4149f8a4629bbc8f3f578814c6e": {
     "model_module": "@jupyter-widgets/base",
     "model_name": "LayoutModel",
     "state": {
      "_model_module": "@jupyter-widgets/base",
      "_model_module_version": "1.2.0",
      "_model_name": "LayoutModel",
      "_view_count": null,
      "_view_module": "@jupyter-widgets/base",
      "_view_module_version": "1.2.0",
      "_view_name": "LayoutView",
      "align_content": null,
      "align_items": null,
      "align_self": null,
      "border": null,
      "bottom": null,
      "display": null,
      "flex": null,
      "flex_flow": null,
      "grid_area": null,
      "grid_auto_columns": null,
      "grid_auto_flow": null,
      "grid_auto_rows": null,
      "grid_column": null,
      "grid_gap": null,
      "grid_row": null,
      "grid_template_areas": null,
      "grid_template_columns": null,
      "grid_template_rows": null,
      "height": null,
      "justify_content": null,
      "justify_items": null,
      "left": null,
      "margin": null,
      "max_height": null,
      "max_width": null,
      "min_height": null,
      "min_width": null,
      "object_fit": null,
      "object_position": null,
      "order": null,
      "overflow": null,
      "overflow_x": null,
      "overflow_y": null,
      "padding": null,
      "right": null,
      "top": null,
      "visibility": null,
      "width": null
     }
    },
    "e0de614ad67645a9a7a20a22433b74d1": {
     "model_module": "@jupyter-widgets/base",
     "model_name": "LayoutModel",
     "state": {
      "_model_module": "@jupyter-widgets/base",
      "_model_module_version": "1.2.0",
      "_model_name": "LayoutModel",
      "_view_count": null,
      "_view_module": "@jupyter-widgets/base",
      "_view_module_version": "1.2.0",
      "_view_name": "LayoutView",
      "align_content": null,
      "align_items": null,
      "align_self": null,
      "border": null,
      "bottom": null,
      "display": null,
      "flex": null,
      "flex_flow": null,
      "grid_area": null,
      "grid_auto_columns": null,
      "grid_auto_flow": null,
      "grid_auto_rows": null,
      "grid_column": null,
      "grid_gap": null,
      "grid_row": null,
      "grid_template_areas": null,
      "grid_template_columns": null,
      "grid_template_rows": null,
      "height": null,
      "justify_content": null,
      "justify_items": null,
      "left": null,
      "margin": null,
      "max_height": null,
      "max_width": null,
      "min_height": null,
      "min_width": null,
      "object_fit": null,
      "object_position": null,
      "order": null,
      "overflow": null,
      "overflow_x": null,
      "overflow_y": null,
      "padding": null,
      "right": null,
      "top": null,
      "visibility": null,
      "width": null
     }
    },
    "fbc953c4c6604776855df2b133db20ce": {
     "model_module": "@jupyter-widgets/controls",
     "model_name": "LabelModel",
     "state": {
      "_dom_classes": [],
      "_model_module": "@jupyter-widgets/controls",
      "_model_module_version": "1.5.0",
      "_model_name": "LabelModel",
      "_view_count": null,
      "_view_module": "@jupyter-widgets/controls",
      "_view_module_version": "1.5.0",
      "_view_name": "LabelView",
      "description": "",
      "description_tooltip": null,
      "layout": "IPY_MODEL_73b7bd4e9f9f443ab8074dbf4a6bc38f",
      "placeholder": "​",
      "style": "IPY_MODEL_38c733d9490349bdad0e385b51c97a87",
      "value": " 0.01MB of 0.01MB uploaded (0.00MB deduped)\r"
     }
    }
   }
  }
 },
 "nbformat": 4,
 "nbformat_minor": 1
}
