{
 "cells": [
  {
   "cell_type": "code",
   "execution_count": 121,
   "id": "e7705171",
   "metadata": {},
   "outputs": [],
   "source": [
    "import numpy as np\n",
    "import pandas as pd\n",
    "import xgboost as xgb\n",
    "import matplotlib.pyplot as plt\n",
    "from tqdm.notebook import tqdm\n",
    "from sklearn.preprocessing import LabelEncoder, PowerTransformer, StandardScaler, \\\n",
    "                                    MinMaxScaler, FunctionTransformer, OneHotEncoder\n",
    "from sklearn.metrics import roc_auc_score, log_loss, classification_report\n",
    "from sklearn.model_selection import KFold, StratifiedKFold, train_test_split\n",
    "from sklearn.experimental import enable_iterative_imputer\n",
    "from sklearn.impute import IterativeImputer\n",
    "from sklearn.pipeline import Pipeline, make_union, make_pipeline\n",
    "from sklearn.decomposition import PCA\n",
    "from sklearn.utils import resample\n",
    "from imblearn.over_sampling import SMOTE, ADASYN, BorderlineSMOTE\n",
    "from function_dt_check import time_checker\n",
    "import json"
   ]
  },
  {
   "cell_type": "code",
   "execution_count": 2,
   "id": "68870059",
   "metadata": {},
   "outputs": [],
   "source": [
    "plt.rcParams['axes.unicode_minus'] = False\n",
    "plt.rcParams['font.family'] = 'Hancom Gothic'\n",
    "plt.style.use('bmh')\n",
    "plt.rc('font',size=15)"
   ]
  },
  {
   "cell_type": "code",
   "execution_count": 3,
   "id": "ed6feb36",
   "metadata": {},
   "outputs": [],
   "source": [
    "path = './data/'\n",
    "train = pd.read_csv(path+'train.csv')\n",
    "train = train.drop(['index'], axis=1)\n",
    "\n",
    "test = pd.read_csv(path+'test.csv')\n",
    "test = test.drop(['index'], axis=1)\n",
    "\n",
    "submission = pd.read_csv(path+'sample_submission.csv')"
   ]
  },
  {
   "cell_type": "code",
   "execution_count": 4,
   "id": "36b7d951",
   "metadata": {},
   "outputs": [],
   "source": [
    "X_train, y_train = train.iloc[:,:-1], train.iloc[:,-1]"
   ]
  },
  {
   "cell_type": "code",
   "execution_count": 5,
   "id": "ab23d9c4",
   "metadata": {},
   "outputs": [],
   "source": [
    "cat_columns = [c for c, t in zip(X_train.dtypes.index, X_train.dtypes) if t == 'O'] \n",
    "num_columns = [c for c    in X_train.columns if c not in cat_columns]"
   ]
  },
  {
   "cell_type": "code",
   "execution_count": 6,
   "id": "adbe2441",
   "metadata": {},
   "outputs": [
    {
     "data": {
      "text/html": [
       "<div>\n",
       "<style scoped>\n",
       "    .dataframe tbody tr th:only-of-type {\n",
       "        vertical-align: middle;\n",
       "    }\n",
       "\n",
       "    .dataframe tbody tr th {\n",
       "        vertical-align: top;\n",
       "    }\n",
       "\n",
       "    .dataframe thead th {\n",
       "        text-align: right;\n",
       "    }\n",
       "</style>\n",
       "<table border=\"1\" class=\"dataframe\">\n",
       "  <thead>\n",
       "    <tr style=\"text-align: right;\">\n",
       "      <th></th>\n",
       "      <th>gender</th>\n",
       "      <th>car</th>\n",
       "      <th>reality</th>\n",
       "      <th>child_num</th>\n",
       "      <th>income_total</th>\n",
       "      <th>income_type</th>\n",
       "      <th>edu_type</th>\n",
       "      <th>family_type</th>\n",
       "      <th>house_type</th>\n",
       "      <th>DAYS_BIRTH</th>\n",
       "      <th>DAYS_EMPLOYED</th>\n",
       "      <th>FLAG_MOBIL</th>\n",
       "      <th>work_phone</th>\n",
       "      <th>phone</th>\n",
       "      <th>email</th>\n",
       "      <th>occyp_type</th>\n",
       "      <th>family_size</th>\n",
       "      <th>begin_month</th>\n",
       "      <th>credit</th>\n",
       "    </tr>\n",
       "  </thead>\n",
       "  <tbody>\n",
       "    <tr>\n",
       "      <th>0</th>\n",
       "      <td>F</td>\n",
       "      <td>N</td>\n",
       "      <td>N</td>\n",
       "      <td>0</td>\n",
       "      <td>202500.0</td>\n",
       "      <td>Commercial associate</td>\n",
       "      <td>Higher education</td>\n",
       "      <td>Married</td>\n",
       "      <td>Municipal apartment</td>\n",
       "      <td>-13899</td>\n",
       "      <td>-4709</td>\n",
       "      <td>1</td>\n",
       "      <td>0</td>\n",
       "      <td>0</td>\n",
       "      <td>0</td>\n",
       "      <td>NaN</td>\n",
       "      <td>2.0</td>\n",
       "      <td>-6.0</td>\n",
       "      <td>1.0</td>\n",
       "    </tr>\n",
       "    <tr>\n",
       "      <th>1</th>\n",
       "      <td>F</td>\n",
       "      <td>N</td>\n",
       "      <td>Y</td>\n",
       "      <td>1</td>\n",
       "      <td>247500.0</td>\n",
       "      <td>Commercial associate</td>\n",
       "      <td>Secondary / secondary special</td>\n",
       "      <td>Civil marriage</td>\n",
       "      <td>House / apartment</td>\n",
       "      <td>-11380</td>\n",
       "      <td>-1540</td>\n",
       "      <td>1</td>\n",
       "      <td>0</td>\n",
       "      <td>0</td>\n",
       "      <td>1</td>\n",
       "      <td>Laborers</td>\n",
       "      <td>3.0</td>\n",
       "      <td>-5.0</td>\n",
       "      <td>1.0</td>\n",
       "    </tr>\n",
       "    <tr>\n",
       "      <th>2</th>\n",
       "      <td>M</td>\n",
       "      <td>Y</td>\n",
       "      <td>Y</td>\n",
       "      <td>0</td>\n",
       "      <td>450000.0</td>\n",
       "      <td>Working</td>\n",
       "      <td>Higher education</td>\n",
       "      <td>Married</td>\n",
       "      <td>House / apartment</td>\n",
       "      <td>-19087</td>\n",
       "      <td>-4434</td>\n",
       "      <td>1</td>\n",
       "      <td>0</td>\n",
       "      <td>1</td>\n",
       "      <td>0</td>\n",
       "      <td>Managers</td>\n",
       "      <td>2.0</td>\n",
       "      <td>-22.0</td>\n",
       "      <td>2.0</td>\n",
       "    </tr>\n",
       "    <tr>\n",
       "      <th>3</th>\n",
       "      <td>F</td>\n",
       "      <td>N</td>\n",
       "      <td>Y</td>\n",
       "      <td>0</td>\n",
       "      <td>202500.0</td>\n",
       "      <td>Commercial associate</td>\n",
       "      <td>Secondary / secondary special</td>\n",
       "      <td>Married</td>\n",
       "      <td>House / apartment</td>\n",
       "      <td>-15088</td>\n",
       "      <td>-2092</td>\n",
       "      <td>1</td>\n",
       "      <td>0</td>\n",
       "      <td>1</td>\n",
       "      <td>0</td>\n",
       "      <td>Sales staff</td>\n",
       "      <td>2.0</td>\n",
       "      <td>-37.0</td>\n",
       "      <td>0.0</td>\n",
       "    </tr>\n",
       "    <tr>\n",
       "      <th>4</th>\n",
       "      <td>F</td>\n",
       "      <td>Y</td>\n",
       "      <td>Y</td>\n",
       "      <td>0</td>\n",
       "      <td>157500.0</td>\n",
       "      <td>State servant</td>\n",
       "      <td>Higher education</td>\n",
       "      <td>Married</td>\n",
       "      <td>House / apartment</td>\n",
       "      <td>-15037</td>\n",
       "      <td>-2105</td>\n",
       "      <td>1</td>\n",
       "      <td>0</td>\n",
       "      <td>0</td>\n",
       "      <td>0</td>\n",
       "      <td>Managers</td>\n",
       "      <td>2.0</td>\n",
       "      <td>-26.0</td>\n",
       "      <td>2.0</td>\n",
       "    </tr>\n",
       "  </tbody>\n",
       "</table>\n",
       "</div>"
      ],
      "text/plain": [
       "  gender car reality  child_num  income_total           income_type  \\\n",
       "0      F   N       N          0      202500.0  Commercial associate   \n",
       "1      F   N       Y          1      247500.0  Commercial associate   \n",
       "2      M   Y       Y          0      450000.0               Working   \n",
       "3      F   N       Y          0      202500.0  Commercial associate   \n",
       "4      F   Y       Y          0      157500.0         State servant   \n",
       "\n",
       "                        edu_type     family_type           house_type  \\\n",
       "0               Higher education         Married  Municipal apartment   \n",
       "1  Secondary / secondary special  Civil marriage    House / apartment   \n",
       "2               Higher education         Married    House / apartment   \n",
       "3  Secondary / secondary special         Married    House / apartment   \n",
       "4               Higher education         Married    House / apartment   \n",
       "\n",
       "   DAYS_BIRTH  DAYS_EMPLOYED  FLAG_MOBIL  work_phone  phone  email  \\\n",
       "0      -13899          -4709           1           0      0      0   \n",
       "1      -11380          -1540           1           0      0      1   \n",
       "2      -19087          -4434           1           0      1      0   \n",
       "3      -15088          -2092           1           0      1      0   \n",
       "4      -15037          -2105           1           0      0      0   \n",
       "\n",
       "    occyp_type  family_size  begin_month  credit  \n",
       "0          NaN          2.0         -6.0     1.0  \n",
       "1     Laborers          3.0         -5.0     1.0  \n",
       "2     Managers          2.0        -22.0     2.0  \n",
       "3  Sales staff          2.0        -37.0     0.0  \n",
       "4     Managers          2.0        -26.0     2.0  "
      ]
     },
     "execution_count": 6,
     "metadata": {},
     "output_type": "execute_result"
    }
   ],
   "source": [
    "train.head()"
   ]
  },
  {
   "cell_type": "code",
   "execution_count": 7,
   "id": "f55107c5",
   "metadata": {
    "scrolled": false
   },
   "outputs": [
    {
     "name": "stdout",
     "output_type": "stream",
     "text": [
      "<class 'pandas.core.frame.DataFrame'>\n",
      "RangeIndex: 26457 entries, 0 to 26456\n",
      "Data columns (total 18 columns):\n",
      " #   Column         Non-Null Count  Dtype  \n",
      "---  ------         --------------  -----  \n",
      " 0   gender         26457 non-null  object \n",
      " 1   car            26457 non-null  object \n",
      " 2   reality        26457 non-null  object \n",
      " 3   child_num      26457 non-null  int64  \n",
      " 4   income_total   26457 non-null  float64\n",
      " 5   income_type    26457 non-null  object \n",
      " 6   edu_type       26457 non-null  object \n",
      " 7   family_type    26457 non-null  object \n",
      " 8   house_type     26457 non-null  object \n",
      " 9   DAYS_BIRTH     26457 non-null  int64  \n",
      " 10  DAYS_EMPLOYED  26457 non-null  int64  \n",
      " 11  FLAG_MOBIL     26457 non-null  int64  \n",
      " 12  work_phone     26457 non-null  int64  \n",
      " 13  phone          26457 non-null  int64  \n",
      " 14  email          26457 non-null  int64  \n",
      " 15  occyp_type     18286 non-null  object \n",
      " 16  family_size    26457 non-null  float64\n",
      " 17  begin_month    26457 non-null  float64\n",
      "dtypes: float64(3), int64(7), object(8)\n",
      "memory usage: 3.6+ MB\n"
     ]
    }
   ],
   "source": [
    "X_train.info()"
   ]
  },
  {
   "cell_type": "code",
   "execution_count": null,
   "id": "0629b1da",
   "metadata": {},
   "outputs": [],
   "source": []
  },
  {
   "cell_type": "code",
   "execution_count": 8,
   "id": "88e89778",
   "metadata": {},
   "outputs": [
    {
     "data": {
      "text/plain": [
       "gender              0\n",
       "car                 0\n",
       "reality             0\n",
       "child_num           0\n",
       "income_total        0\n",
       "income_type         0\n",
       "edu_type            0\n",
       "family_type         0\n",
       "house_type          0\n",
       "DAYS_BIRTH          0\n",
       "DAYS_EMPLOYED       0\n",
       "FLAG_MOBIL          0\n",
       "work_phone          0\n",
       "phone               0\n",
       "email               0\n",
       "occyp_type       8171\n",
       "family_size         0\n",
       "begin_month         0\n",
       "credit              0\n",
       "dtype: int64"
      ]
     },
     "execution_count": 8,
     "metadata": {},
     "output_type": "execute_result"
    }
   ],
   "source": [
    "train.isna().sum()"
   ]
  },
  {
   "cell_type": "markdown",
   "id": "3ac2ce13",
   "metadata": {},
   "source": [
    "### occyp_type만 결측치 존재"
   ]
  },
  {
   "cell_type": "code",
   "execution_count": null,
   "id": "1a336272",
   "metadata": {},
   "outputs": [],
   "source": []
  },
  {
   "cell_type": "code",
   "execution_count": 9,
   "id": "0811be68",
   "metadata": {
    "scrolled": true
   },
   "outputs": [
    {
     "data": {
      "text/plain": [
       "2.0    16968\n",
       "1.0     6267\n",
       "0.0     3222\n",
       "Name: credit, dtype: int64"
      ]
     },
     "execution_count": 9,
     "metadata": {},
     "output_type": "execute_result"
    }
   ],
   "source": [
    "y_train.value_counts()"
   ]
  },
  {
   "cell_type": "markdown",
   "id": "bf69bf15",
   "metadata": {},
   "source": [
    "### 클래스 불균형 존재"
   ]
  },
  {
   "cell_type": "code",
   "execution_count": 10,
   "id": "1b706d82",
   "metadata": {},
   "outputs": [],
   "source": []
  },
  {
   "cell_type": "code",
   "execution_count": null,
   "id": "234d238d",
   "metadata": {},
   "outputs": [],
   "source": []
  },
  {
   "cell_type": "code",
   "execution_count": 11,
   "id": "62a1769e",
   "metadata": {},
   "outputs": [],
   "source": [
    "@time_checker\n",
    "def train_model(x_data, y_data, params, k=5, num_boost_round = 200, verbose_eval = 100, early_stopping_rounds = 100, stratified = False, return_models = False):\n",
    "    models = []\n",
    "    \n",
    "#     k_fold = KFold(n_splits=k, shuffle=True, random_state=123)\n",
    "    if stratified:\n",
    "        k_fold = StratifiedKFold(n_splits=k, shuffle=True, random_state=123)\n",
    "        data = [x_data, y_data]\n",
    "    else:\n",
    "        k_fold = KFold(n_splits=k, shuffle=True, random_state=123)\n",
    "        data = [x_data]\n",
    "#     k_fold = StratifiedKFold(n_splits=k, shuffle=True, random_state=123) if stratified else KFold(n_splits=k, shuffle=True, random_state=123)\n",
    "    \n",
    "    \n",
    "    for train_idx, val_idx in k_fold.split(*data):\n",
    "        x_train, y_train = x_data.iloc[train_idx], y_data.iloc[train_idx]\n",
    "        x_val, y_val = x_data.iloc[val_idx], y_data.iloc[val_idx]\n",
    "    \n",
    "        d_train = xgb.DMatrix(data = x_train, label = y_train)\n",
    "        d_val = xgb.DMatrix(data = x_val, label = y_val)\n",
    "        \n",
    "        wlist = [(d_train, 'train'), (d_val, 'eval')]\n",
    "        \n",
    "        model = xgb.train(params=params, dtrain=d_train, num_boost_round = num_boost_round, evals=wlist, early_stopping_rounds=early_stopping_rounds, verbose_eval=verbose_eval)\n",
    "        models.append(model)\n",
    "    \n",
    "    print(f\"{k} fold mean score:\", np.mean([i.best_score for i in models]))\n",
    "    \n",
    "    if return_models:\n",
    "        return models\n",
    "\n",
    "@time_checker\n",
    "def last_train(X_test, y_test, params, num_boost_round = 200):\n",
    "    print(\"***최종 학습 전 하이퍼 파라미터 다시한번 확인!!***\")\n",
    "    \n",
    "    d_test = xgb.DMatrix(data = X_test, label = y_test)\n",
    "    model = xgb.train(params = params, dtrain = d_test, num_boost_round = num_boost_round)\n",
    "    \n",
    "    return model\n",
    "\n",
    "def get_XGBparams(booster):\n",
    "    config = json.loads(booster.save_config()) # your xgb booster object\n",
    "    stack = [config]\n",
    "    internal = {}\n",
    "    while stack:\n",
    "        obj = stack.pop()\n",
    "        for k, v in obj.items():\n",
    "            if k.endswith('_param'):\n",
    "                for p_k, p_v in v.items():\n",
    "                    internal[p_k] = p_v\n",
    "            elif isinstance(v, dict):\n",
    "                stack.append(v)\n",
    "    return internal"
   ]
  },
  {
   "cell_type": "code",
   "execution_count": null,
   "id": "adf7a85e",
   "metadata": {
    "scrolled": true
   },
   "outputs": [],
   "source": []
  },
  {
   "cell_type": "code",
   "execution_count": 12,
   "id": "0a32723a",
   "metadata": {},
   "outputs": [
    {
     "data": {
      "image/png": "[encoded data removed]",
      "text/plain": [
       "<Figure size 648x720 with 12 Axes>"
      ]
     },
     "metadata": {
      "needs_background": "light"
     },
     "output_type": "display_data"
    }
   ],
   "source": [
    "plt.rc('font', size = 10)\n",
    "X_train[num_columns].hist(figsize = (9, 10), bins=30);"
   ]
  },
  {
   "cell_type": "code",
   "execution_count": 13,
   "id": "a3d1a0b3",
   "metadata": {},
   "outputs": [
    {
     "data": {
      "text/plain": [
       "1    26457\n",
       "Name: FLAG_MOBIL, dtype: int64"
      ]
     },
     "execution_count": 13,
     "metadata": {},
     "output_type": "execute_result"
    }
   ],
   "source": [
    "X_train['FLAG_MOBIL'].value_counts()"
   ]
  },
  {
   "cell_type": "code",
   "execution_count": 14,
   "id": "162ca21e",
   "metadata": {},
   "outputs": [
    {
     "data": {
      "text/plain": [
       "1    10000\n",
       "Name: FLAG_MOBIL, dtype: int64"
      ]
     },
     "execution_count": 14,
     "metadata": {},
     "output_type": "execute_result"
    }
   ],
   "source": [
    "test['FLAG_MOBIL'].value_counts()"
   ]
  },
  {
   "cell_type": "markdown",
   "id": "e359f8b1",
   "metadata": {},
   "source": [
    "FLAG_MOBILE은 모든 값이 1이므로 삭제"
   ]
  },
  {
   "cell_type": "code",
   "execution_count": 15,
   "id": "7eabc8e6",
   "metadata": {},
   "outputs": [],
   "source": [
    "X_train = X_train.drop('FLAG_MOBIL', axis = 1)\n",
    "test = test.drop('FLAG_MOBIL', axis = 1)\n",
    "num_columns.remove(\"FLAG_MOBIL\")"
   ]
  },
  {
   "cell_type": "code",
   "execution_count": null,
   "id": "76adf598",
   "metadata": {},
   "outputs": [],
   "source": []
  },
  {
   "cell_type": "code",
   "execution_count": 16,
   "id": "9d134365",
   "metadata": {},
   "outputs": [
    {
     "data": {
      "image/png": "[encoded data removed]",
      "text/plain": [
       "<Figure size 864x288 with 3 Axes>"
      ]
     },
     "metadata": {
      "needs_background": "light"
     },
     "output_type": "display_data"
    }
   ],
   "source": [
    "plt.figure(figsize = (12, 4))\n",
    "plt.rc('font', size = 15)\n",
    "\n",
    "plt.subplot(1,3,1)\n",
    "plt.boxplot(X_train['child_num']);\n",
    "plt.xticks([1], ['child_num'])\n",
    "\n",
    "plt.subplot(1,3,2)\n",
    "plt.boxplot(X_train['income_total']);\n",
    "plt.xticks([1], ['income_total'])\n",
    "\n",
    "plt.subplot(1,3,3)\n",
    "plt.boxplot(X_train['family_size']);\n",
    "plt.xticks([1], ['family_size']);"
   ]
  },
  {
   "cell_type": "code",
   "execution_count": null,
   "id": "cf65adce",
   "metadata": {},
   "outputs": [],
   "source": []
  },
  {
   "cell_type": "code",
   "execution_count": 20,
   "id": "8ce3b34d",
   "metadata": {},
   "outputs": [],
   "source": [
    "skew_col = ['child_num', 'income_total', 'family_size']\n",
    "OH_col = ['income_type', 'family_type', 'house_type', 'occyp_type']"
   ]
  },
  {
   "cell_type": "code",
   "execution_count": 21,
   "id": "46446115",
   "metadata": {},
   "outputs": [],
   "source": [
    "pipline = Pipeline([\n",
    "        (\"stdard_scaler\", StandardScaler()),\n",
    "        (\"Yeo-Johnson\", PowerTransformer(method='yeo-johnson'))\n",
    "    ])"
   ]
  },
  {
   "cell_type": "code",
   "execution_count": 22,
   "id": "18826e2a",
   "metadata": {},
   "outputs": [
    {
     "data": {
      "text/plain": [
       "array([[-0.6630603 ,  0.46990897, -0.06168216],\n",
       "       [ 1.39481456,  0.87925267,  0.96173668],\n",
       "       [-0.6630603 ,  1.96426356, -0.06168216],\n",
       "       ...,\n",
       "       [-0.6630603 ,  1.19725036, -0.06168216],\n",
       "       [-0.6630603 ,  0.09046305, -1.62051665],\n",
       "       [-0.6630603 , -1.54591439, -0.06168216]])"
      ]
     },
     "execution_count": 22,
     "metadata": {},
     "output_type": "execute_result"
    }
   ],
   "source": [
    "pipline.fit_transform(X_train[skew_col])"
   ]
  },
  {
   "cell_type": "code",
   "execution_count": 23,
   "id": "597a2cc6",
   "metadata": {},
   "outputs": [],
   "source": [
    "def data_preprocessing(data, fit_transform = False, piplines = None):\n",
    "    \n",
    "    if fit_transform == False:\n",
    "        assert piplines, 'If fit_transform is false, pipline must be passed'\n",
    "    \n",
    "    proc_data = data.copy()\n",
    "    \n",
    "    for i in proc_data[cat_columns].columns:\n",
    "        unique = proc_data[i].unique()\n",
    "        if len(unique) == 2:\n",
    "            proc_data[i] = proc_data[i].apply(lambda x:1 if x == unique[0] else 0)\n",
    "            \n",
    "    proc_data = proc_data.fillna(\"missing\")\n",
    "    \n",
    "    proc_data = pd.get_dummies(proc_data, columns = OH_col)\n",
    "    \n",
    "    proc_data['edu_type'] = proc_data['edu_type'].replace({'Lower secondary':0,\n",
    "                                                           'Secondary / secondary special':1,\n",
    "                                                           'Incomplete higher':2,\n",
    "                                                           'Higher education':3,\n",
    "                                                           'Academic degree':4})\n",
    "    cols = proc_data.columns\n",
    "\n",
    "    if fit_transform:\n",
    "        std_scaler = StandardScaler()\n",
    "        YJ_transf = PowerTransformer(method='yeo-johnson')\n",
    "        \n",
    "        proc_data = std_scaler.fit_transform(proc_data)\n",
    "        proc_data = pd.DataFrame(proc_data, columns=cols)\n",
    "        proc_data[skew_col] = YJ_transf.fit_transform(proc_data[skew_col])\n",
    "        \n",
    "        return proc_data, [std_scaler, YJ_transf]\n",
    "    \n",
    "    else:\n",
    "        std_scaler = piplines[0]\n",
    "        YJ_transf = piplines[1]\n",
    "        \n",
    "        proc_data = std_scaler.transform(proc_data)\n",
    "        proc_data = pd.DataFrame(proc_data, columns=cols)\n",
    "        proc_data[skew_col] = YJ_transf.transform(proc_data[skew_col])\n",
    "        \n",
    "        return proc_data\n",
    "        "
   ]
  },
  {
   "cell_type": "code",
   "execution_count": 24,
   "id": "7d5d7e19",
   "metadata": {},
   "outputs": [],
   "source": [
    "x_train, piplines = data_preprocessing(X_train, fit_transform = True)\n",
    "x_test = data_preprocessing(test, piplines = piplines)"
   ]
  },
  {
   "cell_type": "code",
   "execution_count": 25,
   "id": "56e6f694",
   "metadata": {},
   "outputs": [
    {
     "data": {
      "text/plain": [
       "[StandardScaler(), PowerTransformer()]"
      ]
     },
     "execution_count": 25,
     "metadata": {},
     "output_type": "execute_result"
    }
   ],
   "source": [
    "piplines"
   ]
  },
  {
   "cell_type": "code",
   "execution_count": 26,
   "id": "f8db6b69",
   "metadata": {
    "scrolled": true
   },
   "outputs": [
    {
     "data": {
      "text/plain": [
       "gender                              0\n",
       "car                                 0\n",
       "reality                             0\n",
       "child_num                           0\n",
       "income_total                        0\n",
       "edu_type                            0\n",
       "DAYS_BIRTH                          0\n",
       "DAYS_EMPLOYED                       0\n",
       "work_phone                          0\n",
       "phone                               0\n",
       "email                               0\n",
       "family_size                         0\n",
       "begin_month                         0\n",
       "income_type_Commercial associate    0\n",
       "income_type_Pensioner               0\n",
       "income_type_State servant           0\n",
       "income_type_Student                 0\n",
       "income_type_Working                 0\n",
       "family_type_Civil marriage          0\n",
       "family_type_Married                 0\n",
       "family_type_Separated               0\n",
       "family_type_Single / not married    0\n",
       "family_type_Widow                   0\n",
       "house_type_Co-op apartment          0\n",
       "house_type_House / apartment        0\n",
       "house_type_Municipal apartment      0\n",
       "house_type_Office apartment         0\n",
       "house_type_Rented apartment         0\n",
       "house_type_With parents             0\n",
       "occyp_type_Accountants              0\n",
       "occyp_type_Cleaning staff           0\n",
       "occyp_type_Cooking staff            0\n",
       "occyp_type_Core staff               0\n",
       "occyp_type_Drivers                  0\n",
       "occyp_type_HR staff                 0\n",
       "occyp_type_High skill tech staff    0\n",
       "occyp_type_IT staff                 0\n",
       "occyp_type_Laborers                 0\n",
       "occyp_type_Low-skill Laborers       0\n",
       "occyp_type_Managers                 0\n",
       "occyp_type_Medicine staff           0\n",
       "occyp_type_Private service staff    0\n",
       "occyp_type_Realty agents            0\n",
       "occyp_type_Sales staff              0\n",
       "occyp_type_Secretaries              0\n",
       "occyp_type_Security staff           0\n",
       "occyp_type_Waiters/barmen staff     0\n",
       "occyp_type_missing                  0\n",
       "dtype: int64"
      ]
     },
     "execution_count": 26,
     "metadata": {},
     "output_type": "execute_result"
    }
   ],
   "source": [
    "x_train.isna().sum()"
   ]
  },
  {
   "cell_type": "code",
   "execution_count": 27,
   "id": "24e07566",
   "metadata": {},
   "outputs": [
    {
     "data": {
      "text/plain": [
       "True"
      ]
     },
     "execution_count": 27,
     "metadata": {},
     "output_type": "execute_result"
    }
   ],
   "source": [
    "len(X_train['occyp_type'].unique()) == len([col for col in x_train.keys() if col.startswith(\"occyp\")])"
   ]
  },
  {
   "cell_type": "markdown",
   "id": "fb616d68",
   "metadata": {},
   "source": [
    "### 생각해 볼점\n",
    "유일하게 결측치가 존재하는 컬럼인 occyp_type은 직업 유형을 나타낸 컬럼임. 생각해 볼 2가지 처리 방법이 있음.\n",
    "1. occyp_type은 카테고리형 데이터 임 -> 결측되었다는 정보 자체를 하나의 컬럼으로 onehot incoding한 후 모델에 넣어서 돌리기\n",
    "2. MICE로 imputation한 후 돌리기\n",
    "\n",
    "우선 1안으로 실험"
   ]
  },
  {
   "cell_type": "raw",
   "id": "f9a282a0",
   "metadata": {},
   "source": [
    "imp_mean = IterativeImputer(random_state = 4863)\n",
    "impute_df[num_columns] = imp_mean.fit_transform(impute_df[num_columns])"
   ]
  },
  {
   "cell_type": "code",
   "execution_count": null,
   "id": "93a6a8f4",
   "metadata": {},
   "outputs": [],
   "source": []
  },
  {
   "cell_type": "code",
   "execution_count": 28,
   "id": "3141aa83",
   "metadata": {},
   "outputs": [
    {
     "data": {
      "text/plain": [
       "((26457, 48), (26457,))"
      ]
     },
     "execution_count": 28,
     "metadata": {},
     "output_type": "execute_result"
    }
   ],
   "source": [
    "x_train.shape, y_train.shape"
   ]
  },
  {
   "cell_type": "code",
   "execution_count": 29,
   "id": "6e6bf28c",
   "metadata": {},
   "outputs": [],
   "source": [
    "xgb_params = {\n",
    "    'booster': 'gbtree',\n",
    "    'learning_rate': 0.3,\n",
    "    'gamma': 0.3,\n",
    "    'max_depth': 3,\n",
    "#     'objective': 'multi:softmax',\n",
    "    'objective': 'multi:softprob',\n",
    "    'num_class': 3,\n",
    "    'eval_metric': 'mlogloss',\n",
    "    'seed':1324\n",
    "    }"
   ]
  },
  {
   "cell_type": "code",
   "execution_count": 30,
   "id": "98c603e3",
   "metadata": {},
   "outputs": [
    {
     "data": {
      "text/plain": [
       "(26457, 29)"
      ]
     },
     "execution_count": 30,
     "metadata": {},
     "output_type": "execute_result"
    }
   ],
   "source": [
    "pca = PCA(n_components=0.8)\n",
    "x_train_pca = pca.fit_transform(x_train)\n",
    "x_train_pca.shape"
   ]
  },
  {
   "cell_type": "code",
   "execution_count": null,
   "id": "0084fd7d",
   "metadata": {},
   "outputs": [],
   "source": []
  },
  {
   "cell_type": "code",
   "execution_count": 31,
   "id": "51adb665",
   "metadata": {
    "scrolled": false
   },
   "outputs": [
    {
     "name": "stdout",
     "output_type": "stream",
     "text": [
      "[0]\ttrain-mlogloss:0.97811\teval-mlogloss:0.97988\n",
      "[100]\ttrain-mlogloss:0.73846\teval-mlogloss:0.78894\n",
      "[200]\ttrain-mlogloss:0.69479\teval-mlogloss:0.77848\n",
      "[300]\ttrain-mlogloss:0.66432\teval-mlogloss:0.77257\n",
      "[400]\ttrain-mlogloss:0.64023\teval-mlogloss:0.76889\n",
      "[500]\ttrain-mlogloss:0.63552\teval-mlogloss:0.76789\n",
      "[521]\ttrain-mlogloss:0.63552\teval-mlogloss:0.76789\n",
      "[0]\ttrain-mlogloss:0.97843\teval-mlogloss:0.97925\n",
      "[100]\ttrain-mlogloss:0.73607\teval-mlogloss:0.78227\n",
      "[200]\ttrain-mlogloss:0.69351\teval-mlogloss:0.76772\n",
      "[300]\ttrain-mlogloss:0.66260\teval-mlogloss:0.75878\n",
      "[400]\ttrain-mlogloss:0.64080\teval-mlogloss:0.75387\n",
      "[500]\ttrain-mlogloss:0.63021\teval-mlogloss:0.75162\n",
      "[548]\ttrain-mlogloss:0.63021\teval-mlogloss:0.75162\n",
      "[0]\ttrain-mlogloss:0.97910\teval-mlogloss:0.97764\n",
      "[100]\ttrain-mlogloss:0.73998\teval-mlogloss:0.78022\n",
      "[200]\ttrain-mlogloss:0.69456\teval-mlogloss:0.76748\n",
      "[300]\ttrain-mlogloss:0.65817\teval-mlogloss:0.76010\n",
      "[400]\ttrain-mlogloss:0.63968\teval-mlogloss:0.75698\n",
      "[500]\ttrain-mlogloss:0.63488\teval-mlogloss:0.75660\n",
      "[526]\ttrain-mlogloss:0.63488\teval-mlogloss:0.75660\n",
      "[0]\ttrain-mlogloss:0.97876\teval-mlogloss:0.97860\n",
      "[100]\ttrain-mlogloss:0.73944\teval-mlogloss:0.77721\n",
      "[200]\ttrain-mlogloss:0.69655\teval-mlogloss:0.76556\n",
      "[300]\ttrain-mlogloss:0.66677\teval-mlogloss:0.75821\n",
      "[400]\ttrain-mlogloss:0.63918\teval-mlogloss:0.75063\n",
      "[499]\ttrain-mlogloss:0.63914\teval-mlogloss:0.75062\n",
      "[0]\ttrain-mlogloss:0.97809\teval-mlogloss:0.97991\n",
      "[100]\ttrain-mlogloss:0.73989\teval-mlogloss:0.78212\n",
      "[200]\ttrain-mlogloss:0.69762\teval-mlogloss:0.76716\n",
      "[300]\ttrain-mlogloss:0.66970\teval-mlogloss:0.75930\n",
      "[400]\ttrain-mlogloss:0.64827\teval-mlogloss:0.75411\n",
      "[483]\ttrain-mlogloss:0.64827\teval-mlogloss:0.75411\n",
      "5 fold mean score: 0.7561148\n",
      "train_model learning time: 14.800553798675537\n"
     ]
    }
   ],
   "source": [
    "models = train_model(x_train, y_train, xgb_params, num_boost_round = 700, stratified = True, return_models=True)"
   ]
  },
  {
   "cell_type": "code",
   "execution_count": 223,
   "id": "8fc45139",
   "metadata": {},
   "outputs": [
    {
     "name": "stdout",
     "output_type": "stream",
     "text": [
      "***최종 학습 전 하이퍼 파라미터 다시한번 확인!!***\n"
     ]
    }
   ],
   "source": [
    "model = last_train(x_train, y_train, xgb_params, 700)"
   ]
  },
  {
   "cell_type": "code",
   "execution_count": 224,
   "id": "86c87ce5",
   "metadata": {},
   "outputs": [],
   "source": [
    "result = model.predict(xgb.DMatrix(x_test))"
   ]
  },
  {
   "cell_type": "code",
   "execution_count": 225,
   "id": "7501dd0a",
   "metadata": {},
   "outputs": [
    {
     "data": {
      "text/plain": [
       "array([[0.07346022, 0.12216133, 0.80437845],\n",
       "       [0.12354086, 0.12117603, 0.75528306],\n",
       "       [0.13675895, 0.22094147, 0.6422996 ],\n",
       "       ...,\n",
       "       [0.07561718, 0.20075288, 0.7236299 ],\n",
       "       [0.0594825 , 0.18499026, 0.75552726],\n",
       "       [0.08669662, 0.16240537, 0.750898  ]], dtype=float32)"
      ]
     },
     "execution_count": 225,
     "metadata": {},
     "output_type": "execute_result"
    }
   ],
   "source": [
    "result"
   ]
  },
  {
   "cell_type": "code",
   "execution_count": 230,
   "id": "bd6cc1e3",
   "metadata": {},
   "outputs": [],
   "source": [
    "submission[['0', '1', '2']] = result"
   ]
  },
  {
   "cell_type": "code",
   "execution_count": 231,
   "id": "64541e7b",
   "metadata": {
    "scrolled": true
   },
   "outputs": [
    {
     "data": {
      "text/html": [
       "<div>\n",
       "<style scoped>\n",
       "    .dataframe tbody tr th:only-of-type {\n",
       "        vertical-align: middle;\n",
       "    }\n",
       "\n",
       "    .dataframe tbody tr th {\n",
       "        vertical-align: top;\n",
       "    }\n",
       "\n",
       "    .dataframe thead th {\n",
       "        text-align: right;\n",
       "    }\n",
       "</style>\n",
       "<table border=\"1\" class=\"dataframe\">\n",
       "  <thead>\n",
       "    <tr style=\"text-align: right;\">\n",
       "      <th></th>\n",
       "      <th>index</th>\n",
       "      <th>0</th>\n",
       "      <th>1</th>\n",
       "      <th>2</th>\n",
       "    </tr>\n",
       "  </thead>\n",
       "  <tbody>\n",
       "    <tr>\n",
       "      <th>0</th>\n",
       "      <td>26457</td>\n",
       "      <td>0.073460</td>\n",
       "      <td>0.122161</td>\n",
       "      <td>0.804378</td>\n",
       "    </tr>\n",
       "    <tr>\n",
       "      <th>1</th>\n",
       "      <td>26458</td>\n",
       "      <td>0.123541</td>\n",
       "      <td>0.121176</td>\n",
       "      <td>0.755283</td>\n",
       "    </tr>\n",
       "    <tr>\n",
       "      <th>2</th>\n",
       "      <td>26459</td>\n",
       "      <td>0.136759</td>\n",
       "      <td>0.220941</td>\n",
       "      <td>0.642300</td>\n",
       "    </tr>\n",
       "    <tr>\n",
       "      <th>3</th>\n",
       "      <td>26460</td>\n",
       "      <td>0.165680</td>\n",
       "      <td>0.122165</td>\n",
       "      <td>0.712154</td>\n",
       "    </tr>\n",
       "    <tr>\n",
       "      <th>4</th>\n",
       "      <td>26461</td>\n",
       "      <td>0.059492</td>\n",
       "      <td>0.074284</td>\n",
       "      <td>0.866224</td>\n",
       "    </tr>\n",
       "  </tbody>\n",
       "</table>\n",
       "</div>"
      ],
      "text/plain": [
       "   index         0         1         2\n",
       "0  26457  0.073460  0.122161  0.804378\n",
       "1  26458  0.123541  0.121176  0.755283\n",
       "2  26459  0.136759  0.220941  0.642300\n",
       "3  26460  0.165680  0.122165  0.712154\n",
       "4  26461  0.059492  0.074284  0.866224"
      ]
     },
     "execution_count": 231,
     "metadata": {},
     "output_type": "execute_result"
    }
   ],
   "source": [
    "submission.head()"
   ]
  },
  {
   "cell_type": "raw",
   "id": "117f038c",
   "metadata": {},
   "source": [
    "submission.to_csv(\"submission_fist.csv\", index = False)"
   ]
  },
  {
   "cell_type": "code",
   "execution_count": null,
   "id": "44559924",
   "metadata": {},
   "outputs": [],
   "source": []
  },
  {
   "cell_type": "code",
   "execution_count": null,
   "id": "89e9c98c",
   "metadata": {},
   "outputs": [],
   "source": []
  },
  {
   "cell_type": "markdown",
   "id": "9cdff40d",
   "metadata": {},
   "source": [
    "### oversampling"
   ]
  },
  {
   "cell_type": "code",
   "execution_count": 90,
   "id": "25fe411c",
   "metadata": {},
   "outputs": [],
   "source": [
    "x_smote_resampled, y_smote_resampled = SMOTE().fit_resample(x_train, y_train)\n",
    "x_adasyn_resampled, y_adasyn_resampled = ADASYN().fit_resample(x_train, y_train)\n",
    "x_Bsmote_resampled, y_Bsmote_resampled = BorderlineSMOTE().fit_resample(x_train, y_train)"
   ]
  },
  {
   "cell_type": "code",
   "execution_count": 74,
   "id": "3dc0b486",
   "metadata": {},
   "outputs": [],
   "source": [
    "xr, xt, yr, yt = train_test_split(x_smote_resampled, y_smote_resampled, test_size = 0.3)"
   ]
  },
  {
   "cell_type": "code",
   "execution_count": 55,
   "id": "be0ce1c6",
   "metadata": {
    "scrolled": true
   },
   "outputs": [
    {
     "name": "stdout",
     "output_type": "stream",
     "text": [
      "[0]\ttrain-mlogloss:1.07953\teval-mlogloss:1.08066\n",
      "[140]\ttrain-mlogloss:0.78609\teval-mlogloss:0.81230\n",
      "[280]\ttrain-mlogloss:0.67544\teval-mlogloss:0.71907\n",
      "[420]\ttrain-mlogloss:0.61614\teval-mlogloss:0.67706\n",
      "[560]\ttrain-mlogloss:0.57379\teval-mlogloss:0.65110\n",
      "[699]\ttrain-mlogloss:0.54338\teval-mlogloss:0.63543\n",
      "[0]\ttrain-mlogloss:1.07911\teval-mlogloss:1.07885\n",
      "[140]\ttrain-mlogloss:0.78676\teval-mlogloss:0.81972\n",
      "[280]\ttrain-mlogloss:0.67825\teval-mlogloss:0.73002\n",
      "[420]\ttrain-mlogloss:0.61510\teval-mlogloss:0.68381\n",
      "[560]\ttrain-mlogloss:0.58113\teval-mlogloss:0.66499\n",
      "[678]\ttrain-mlogloss:0.57939\teval-mlogloss:0.66395\n",
      "[0]\ttrain-mlogloss:1.07883\teval-mlogloss:1.07910\n",
      "[140]\ttrain-mlogloss:0.78528\teval-mlogloss:0.81634\n",
      "[280]\ttrain-mlogloss:0.67454\teval-mlogloss:0.72638\n",
      "[420]\ttrain-mlogloss:0.61510\teval-mlogloss:0.68331\n",
      "[560]\ttrain-mlogloss:0.57242\teval-mlogloss:0.65827\n",
      "[699]\ttrain-mlogloss:0.53984\teval-mlogloss:0.64011\n",
      "[0]\ttrain-mlogloss:1.07958\teval-mlogloss:1.08049\n",
      "[140]\ttrain-mlogloss:0.78060\teval-mlogloss:0.81463\n",
      "[280]\ttrain-mlogloss:0.66707\teval-mlogloss:0.72433\n",
      "[420]\ttrain-mlogloss:0.60857\teval-mlogloss:0.68583\n",
      "[560]\ttrain-mlogloss:0.56690\teval-mlogloss:0.66177\n",
      "[699]\ttrain-mlogloss:0.53378\teval-mlogloss:0.64512\n",
      "[0]\ttrain-mlogloss:1.07869\teval-mlogloss:1.07971\n",
      "[140]\ttrain-mlogloss:0.78585\teval-mlogloss:0.81301\n",
      "[280]\ttrain-mlogloss:0.67953\teval-mlogloss:0.72541\n",
      "[420]\ttrain-mlogloss:0.61892\teval-mlogloss:0.68248\n",
      "[560]\ttrain-mlogloss:0.57650\teval-mlogloss:0.65746\n",
      "[699]\ttrain-mlogloss:0.54038\teval-mlogloss:0.63908\n",
      "5 fold mean score: 0.6447383999999999\n"
     ]
    }
   ],
   "source": [
    "train_model(x_smote_resampled, y_smote_resampled, xgb_params, num_boost_round = 700, verbose_eval = 140)"
   ]
  },
  {
   "cell_type": "code",
   "execution_count": 56,
   "id": "b0951883",
   "metadata": {
    "scrolled": true
   },
   "outputs": [
    {
     "name": "stdout",
     "output_type": "stream",
     "text": [
      "[0]\ttrain-mlogloss:1.08005\teval-mlogloss:1.08113\n",
      "[140]\ttrain-mlogloss:0.79381\teval-mlogloss:0.82856\n",
      "[280]\ttrain-mlogloss:0.69057\teval-mlogloss:0.74808\n",
      "[420]\ttrain-mlogloss:0.63514\teval-mlogloss:0.71013\n",
      "[560]\ttrain-mlogloss:0.59453\teval-mlogloss:0.68551\n",
      "[699]\ttrain-mlogloss:0.56955\teval-mlogloss:0.67227\n",
      "[0]\ttrain-mlogloss:1.08031\teval-mlogloss:1.08002\n",
      "[140]\ttrain-mlogloss:0.79132\teval-mlogloss:0.81681\n",
      "[280]\ttrain-mlogloss:0.69223\teval-mlogloss:0.73769\n",
      "[420]\ttrain-mlogloss:0.63684\teval-mlogloss:0.70158\n",
      "[560]\ttrain-mlogloss:0.59765\teval-mlogloss:0.67871\n",
      "[699]\ttrain-mlogloss:0.57078\teval-mlogloss:0.66447\n",
      "[0]\ttrain-mlogloss:1.07903\teval-mlogloss:1.07926\n",
      "[140]\ttrain-mlogloss:0.79361\teval-mlogloss:0.81981\n",
      "[280]\ttrain-mlogloss:0.69478\teval-mlogloss:0.74141\n",
      "[420]\ttrain-mlogloss:0.63824\teval-mlogloss:0.70200\n",
      "[560]\ttrain-mlogloss:0.60176\teval-mlogloss:0.68135\n",
      "[699]\ttrain-mlogloss:0.57113\teval-mlogloss:0.66604\n",
      "[0]\ttrain-mlogloss:1.08010\teval-mlogloss:1.08082\n",
      "[140]\ttrain-mlogloss:0.78685\teval-mlogloss:0.82280\n",
      "[280]\ttrain-mlogloss:0.69076\teval-mlogloss:0.74868\n",
      "[420]\ttrain-mlogloss:0.63520\teval-mlogloss:0.71266\n",
      "[560]\ttrain-mlogloss:0.60110\teval-mlogloss:0.69282\n",
      "[699]\ttrain-mlogloss:0.57283\teval-mlogloss:0.67990\n",
      "[0]\ttrain-mlogloss:1.07874\teval-mlogloss:1.07947\n",
      "[140]\ttrain-mlogloss:0.78765\teval-mlogloss:0.81904\n",
      "[280]\ttrain-mlogloss:0.69430\teval-mlogloss:0.74689\n",
      "[420]\ttrain-mlogloss:0.63449\teval-mlogloss:0.70454\n",
      "[560]\ttrain-mlogloss:0.59815\teval-mlogloss:0.68366\n",
      "[699]\ttrain-mlogloss:0.57172\teval-mlogloss:0.66880\n",
      "5 fold mean score: 0.6702916\n"
     ]
    }
   ],
   "source": [
    "train_model(x_adasyn_resampled, y_adasyn_resampled, xgb_params, num_boost_round = 700, verbose_eval = 140)"
   ]
  },
  {
   "cell_type": "code",
   "execution_count": 57,
   "id": "9036450c",
   "metadata": {
    "scrolled": true
   },
   "outputs": [
    {
     "name": "stdout",
     "output_type": "stream",
     "text": [
      "[0]\ttrain-mlogloss:1.07861\teval-mlogloss:1.08100\n",
      "[140]\ttrain-mlogloss:0.79320\teval-mlogloss:0.82096\n",
      "[280]\ttrain-mlogloss:0.68446\teval-mlogloss:0.72910\n",
      "[420]\ttrain-mlogloss:0.62273\teval-mlogloss:0.68178\n",
      "[560]\ttrain-mlogloss:0.58355\teval-mlogloss:0.65723\n",
      "[699]\ttrain-mlogloss:0.56297\teval-mlogloss:0.64442\n",
      "[0]\ttrain-mlogloss:1.07973\teval-mlogloss:1.07973\n",
      "[140]\ttrain-mlogloss:0.79157\teval-mlogloss:0.82097\n",
      "[280]\ttrain-mlogloss:0.67837\teval-mlogloss:0.72597\n",
      "[420]\ttrain-mlogloss:0.61765\teval-mlogloss:0.68279\n",
      "[560]\ttrain-mlogloss:0.58117\teval-mlogloss:0.66136\n",
      "[699]\ttrain-mlogloss:0.55068\teval-mlogloss:0.64343\n",
      "[0]\ttrain-mlogloss:1.07897\teval-mlogloss:1.07875\n",
      "[140]\ttrain-mlogloss:0.78851\teval-mlogloss:0.82002\n",
      "[280]\ttrain-mlogloss:0.67973\teval-mlogloss:0.73169\n",
      "[420]\ttrain-mlogloss:0.61797\teval-mlogloss:0.68645\n",
      "[560]\ttrain-mlogloss:0.57687\teval-mlogloss:0.66083\n",
      "[699]\ttrain-mlogloss:0.55437\teval-mlogloss:0.64807\n",
      "[0]\ttrain-mlogloss:1.07999\teval-mlogloss:1.08037\n",
      "[140]\ttrain-mlogloss:0.78636\teval-mlogloss:0.81593\n",
      "[280]\ttrain-mlogloss:0.67312\teval-mlogloss:0.72604\n",
      "[420]\ttrain-mlogloss:0.61370\teval-mlogloss:0.68623\n",
      "[560]\ttrain-mlogloss:0.57427\teval-mlogloss:0.66418\n",
      "[699]\ttrain-mlogloss:0.54675\teval-mlogloss:0.64960\n",
      "[0]\ttrain-mlogloss:1.07877\teval-mlogloss:1.07894\n",
      "[140]\ttrain-mlogloss:0.79147\teval-mlogloss:0.82360\n",
      "[280]\ttrain-mlogloss:0.67920\teval-mlogloss:0.73109\n",
      "[420]\ttrain-mlogloss:0.61773\teval-mlogloss:0.68772\n",
      "[560]\ttrain-mlogloss:0.57500\teval-mlogloss:0.66143\n",
      "[699]\ttrain-mlogloss:0.54666\teval-mlogloss:0.64604\n",
      "5 fold mean score: 0.6463078\n"
     ]
    }
   ],
   "source": [
    "train_model(x_Bsmote_resampled, y_Bsmote_resampled, xgb_params, num_boost_round = 700, verbose_eval = 140)"
   ]
  },
  {
   "cell_type": "code",
   "execution_count": 75,
   "id": "fcd6916c",
   "metadata": {},
   "outputs": [],
   "source": [
    "xr = xr.reset_index(drop = True)\n",
    "yr = yr.reset_index(drop = True)"
   ]
  },
  {
   "cell_type": "code",
   "execution_count": 35,
   "id": "ca560a9e",
   "metadata": {
    "scrolled": false
   },
   "outputs": [
    {
     "name": "stdout",
     "output_type": "stream",
     "text": [
      "[0]\ttrain-mlogloss:1.08372\teval-mlogloss:1.08420\n",
      "[200]\ttrain-mlogloss:0.75172\teval-mlogloss:0.79053\n",
      "[400]\ttrain-mlogloss:0.66557\teval-mlogloss:0.72222\n",
      "[600]\ttrain-mlogloss:0.62674\teval-mlogloss:0.69467\n",
      "[800]\ttrain-mlogloss:0.60287\teval-mlogloss:0.68028\n",
      "[999]\ttrain-mlogloss:0.58176\teval-mlogloss:0.66799\n",
      "[0]\ttrain-mlogloss:1.08169\teval-mlogloss:1.08250\n",
      "[200]\ttrain-mlogloss:0.75429\teval-mlogloss:0.78921\n",
      "[400]\ttrain-mlogloss:0.66905\teval-mlogloss:0.72367\n",
      "[600]\ttrain-mlogloss:0.62933\teval-mlogloss:0.69687\n",
      "[800]\ttrain-mlogloss:0.60140\teval-mlogloss:0.67783\n",
      "[999]\ttrain-mlogloss:0.58204\teval-mlogloss:0.66677\n",
      "[0]\ttrain-mlogloss:1.08203\teval-mlogloss:1.08170\n",
      "[200]\ttrain-mlogloss:0.75252\teval-mlogloss:0.78560\n",
      "[400]\ttrain-mlogloss:0.66927\teval-mlogloss:0.72282\n",
      "[600]\ttrain-mlogloss:0.62712\teval-mlogloss:0.69278\n",
      "[800]\ttrain-mlogloss:0.59722\teval-mlogloss:0.67264\n",
      "[999]\ttrain-mlogloss:0.58022\teval-mlogloss:0.66338\n",
      "[0]\ttrain-mlogloss:1.08065\teval-mlogloss:1.08130\n",
      "[200]\ttrain-mlogloss:0.74764\teval-mlogloss:0.78754\n",
      "[400]\ttrain-mlogloss:0.66420\teval-mlogloss:0.72291\n",
      "[600]\ttrain-mlogloss:0.62419\teval-mlogloss:0.69600\n",
      "[800]\ttrain-mlogloss:0.60020\teval-mlogloss:0.68022\n",
      "[999]\ttrain-mlogloss:0.58068\teval-mlogloss:0.66876\n",
      "[0]\ttrain-mlogloss:1.08342\teval-mlogloss:1.08387\n",
      "[200]\ttrain-mlogloss:0.75312\teval-mlogloss:0.78601\n",
      "[400]\ttrain-mlogloss:0.66904\teval-mlogloss:0.71944\n",
      "[600]\ttrain-mlogloss:0.62811\teval-mlogloss:0.69082\n",
      "[800]\ttrain-mlogloss:0.60269\teval-mlogloss:0.67479\n",
      "[999]\ttrain-mlogloss:0.58327\teval-mlogloss:0.66437\n",
      "5 fold mean score: 0.6662546\n",
      "train_model learning time: 42.19681167602539\n"
     ]
    }
   ],
   "source": [
    "xgb_params = {\n",
    "    'booster': 'gbtree',\n",
    "    'learning_rate': 0.3,\n",
    "    'gamma': 1,\n",
    "    'max_depth': 3,\n",
    "#     'objective': 'multi:softmax',\n",
    "    'objective': 'multi:softprob',\n",
    "    'num_class': 3,\n",
    "    'eval_metric': 'mlogloss',\n",
    "    'subsample': 0.7,\n",
    "    'colsample_bytree': 0.7,\n",
    "    'gpu_id': 0, # GPU\n",
    "    'tree_method': 'gpu_hist',\n",
    "    'seed':1324\n",
    "    }\n",
    "models = train_model(x_adasyn_resampled, y_adasyn_resampled, xgb_params, num_boost_round = 1000, verbose_eval = 200, return_models = True)"
   ]
  },
  {
   "cell_type": "markdown",
   "id": "baa22ef6",
   "metadata": {},
   "source": [
    "SMOTE를 사용하여 oversampling 후 학습을 진행하였음.\n",
    "학습시 train, valid, test score가 모두 올랐으나 제출하였을 때 점수는 그대로 였음. \n",
    "1. oversampling 이전에 먼저 test set을 분리 후 다시 실험\n",
    "2. oversampling 폐기\n",
    "\n",
    "우선 1안 수행"
   ]
  },
  {
   "cell_type": "code",
   "execution_count": 63,
   "id": "2df565c7",
   "metadata": {},
   "outputs": [
    {
     "name": "stdout",
     "output_type": "stream",
     "text": [
      "[0]\ttrain-mlogloss:1.07715\teval-mlogloss:1.07692\n",
      "[200]\ttrain-mlogloss:0.72137\teval-mlogloss:0.77580\n",
      "[299]\ttrain-mlogloss:0.67776\teval-mlogloss:0.74569\n",
      "[0]\ttrain-mlogloss:1.07928\teval-mlogloss:1.07897\n",
      "[200]\ttrain-mlogloss:0.72508\teval-mlogloss:0.77172\n",
      "[299]\ttrain-mlogloss:0.67774\teval-mlogloss:0.73716\n",
      "[0]\ttrain-mlogloss:1.07946\teval-mlogloss:1.08024\n",
      "[200]\ttrain-mlogloss:0.72229\teval-mlogloss:0.77247\n",
      "[299]\ttrain-mlogloss:0.67820\teval-mlogloss:0.74186\n",
      "[0]\ttrain-mlogloss:1.08215\teval-mlogloss:1.08230\n",
      "[200]\ttrain-mlogloss:0.72698\teval-mlogloss:0.77031\n",
      "[299]\ttrain-mlogloss:0.67951\teval-mlogloss:0.73651\n",
      "[0]\ttrain-mlogloss:1.07855\teval-mlogloss:1.08060\n",
      "[200]\ttrain-mlogloss:0.72133\teval-mlogloss:0.78028\n",
      "[299]\ttrain-mlogloss:0.67555\teval-mlogloss:0.75020\n",
      "5 fold mean score: 0.7422826\n",
      "train_model learning time: 12.860954761505127\n"
     ]
    }
   ],
   "source": [
    "xr, xt, yr, yt = train_test_split(x_train, y_train, test_size = 0.3)\n",
    "xr = xr.reset_index(drop = True)\n",
    "yr = yr.reset_index(drop = True)\n",
    "xt = xt.reset_index(drop = True)\n",
    "yt = yt.reset_index(drop = True)\n",
    "\n",
    "xr_adasyn, yr_adasyn = ADASYN().fit_resample(xr, yr)\n",
    "\n",
    "xgb_params = {\n",
    "    'booster': 'gbtree',\n",
    "    'learning_rate': 0.3,\n",
    "    'gamma': 1,\n",
    "    'max_depth': 3,\n",
    "#     'objective': 'multi:softmax',\n",
    "    'objective': 'multi:softprob',\n",
    "    'num_class': 3,\n",
    "    'eval_metric': 'mlogloss',\n",
    "    'subsample': 0.7,\n",
    "    'colsample_bytree': 0.7,\n",
    "    'gpu_id': 0, # GPU\n",
    "    'tree_method': 'gpu_hist',\n",
    "    'seed':1324\n",
    "    }\n",
    "\n",
    "models = train_model(xr_adasyn, yr_adasyn, \n",
    "                     xgb_params, num_boost_round = 300, \n",
    "                     verbose_eval = 200, return_models = True)"
   ]
  },
  {
   "cell_type": "code",
   "execution_count": 64,
   "id": "f6ad3d5e",
   "metadata": {
    "scrolled": true
   },
   "outputs": [
    {
     "name": "stdout",
     "output_type": "stream",
     "text": [
      "0.821183249687799\n",
      "0.8191319213123956\n",
      "0.8234893858442625\n",
      "0.820938087168224\n",
      "0.8210951507285812\n"
     ]
    }
   ],
   "source": [
    "for mod in models:\n",
    "    print(log_loss(pd.get_dummies(yt), mod.predict(xgb.DMatrix(xt))))"
   ]
  },
  {
   "cell_type": "markdown",
   "id": "722359a5",
   "metadata": {},
   "source": [
    "train-test split --> train data oversampling --> training & test 순서로 실험결과 성능 향상 없이 과적합 발생\n",
    "- [ ] oversampling 이전에 먼저 test set을 분리 후 다시 실험\n",
    "- [x] **oversampling 폐기**"
   ]
  },
  {
   "cell_type": "code",
   "execution_count": null,
   "id": "86f69f7b",
   "metadata": {},
   "outputs": [],
   "source": []
  },
  {
   "cell_type": "markdown",
   "id": "8e9f2f9f",
   "metadata": {},
   "source": [
    "### downsampling"
   ]
  },
  {
   "cell_type": "code",
   "execution_count": null,
   "id": "e148fe6b",
   "metadata": {},
   "outputs": [],
   "source": []
  },
  {
   "cell_type": "code",
   "execution_count": 115,
   "id": "b584c214",
   "metadata": {},
   "outputs": [],
   "source": [
    "from imblearn.under_sampling import OneSidedSelection, TomekLinks, RandomUnderSampler"
   ]
  },
  {
   "cell_type": "code",
   "execution_count": 99,
   "id": "06a19fa0",
   "metadata": {},
   "outputs": [
    {
     "name": "stdout",
     "output_type": "stream",
     "text": [
      "[0]\ttrain-mlogloss:0.99086\teval-mlogloss:0.98780\n",
      "[200]\ttrain-mlogloss:0.67338\teval-mlogloss:0.74306\n",
      "[400]\ttrain-mlogloss:0.62645\teval-mlogloss:0.73616\n",
      "[600]\ttrain-mlogloss:0.59688\teval-mlogloss:0.72792\n",
      "[796]\ttrain-mlogloss:0.57773\teval-mlogloss:0.72838\n",
      "[0]\ttrain-mlogloss:0.98974\teval-mlogloss:0.99067\n",
      "[200]\ttrain-mlogloss:0.66819\teval-mlogloss:0.76143\n",
      "[400]\ttrain-mlogloss:0.62329\teval-mlogloss:0.75162\n",
      "[600]\ttrain-mlogloss:0.59633\teval-mlogloss:0.74819\n",
      "[709]\ttrain-mlogloss:0.58529\teval-mlogloss:0.74949\n",
      "[0]\ttrain-mlogloss:0.98904\teval-mlogloss:0.99218\n",
      "[200]\ttrain-mlogloss:0.66755\teval-mlogloss:0.77176\n",
      "[400]\ttrain-mlogloss:0.61963\teval-mlogloss:0.76616\n",
      "[600]\ttrain-mlogloss:0.59127\teval-mlogloss:0.76260\n",
      "[685]\ttrain-mlogloss:0.58295\teval-mlogloss:0.76318\n",
      "[0]\ttrain-mlogloss:0.98997\teval-mlogloss:0.99095\n",
      "[200]\ttrain-mlogloss:0.67060\teval-mlogloss:0.76603\n",
      "[400]\ttrain-mlogloss:0.61864\teval-mlogloss:0.75692\n",
      "[600]\ttrain-mlogloss:0.59189\teval-mlogloss:0.75430\n",
      "[800]\ttrain-mlogloss:0.57006\teval-mlogloss:0.75052\n",
      "[946]\ttrain-mlogloss:0.55902\teval-mlogloss:0.75086\n",
      "[0]\ttrain-mlogloss:0.98897\teval-mlogloss:0.99208\n",
      "[200]\ttrain-mlogloss:0.66115\teval-mlogloss:0.77958\n",
      "[400]\ttrain-mlogloss:0.61713\teval-mlogloss:0.77663\n",
      "[572]\ttrain-mlogloss:0.59123\teval-mlogloss:0.77518\n",
      "5 fold mean score: 0.7522177999999999\n",
      "train_model learning time: 25.74984622001648\n"
     ]
    }
   ],
   "source": [
    "xr, xt, yr, yt = train_test_split(x_train, y_train, test_size = 0.3, stratify = y_train)\n",
    "xr = xr.reset_index(drop = True)\n",
    "yr = yr.reset_index(drop = True)\n",
    "xt = xt.reset_index(drop = True)\n",
    "yt = yt.reset_index(drop = True)\n",
    "\n",
    "xr_OSS, yr_OSS = OneSidedSelection(random_state = 756).fit_resample(xr, yr)\n",
    "\n",
    "xgb_params = {\n",
    "    'booster': 'gbtree',\n",
    "    'learning_rate': 0.3,\n",
    "    'gamma': 1,\n",
    "    'max_depth': 3,\n",
    "#     'objective': 'multi:softmax',\n",
    "    'objective': 'multi:softprob',\n",
    "    'num_class': 3,\n",
    "    'eval_metric': 'mlogloss',\n",
    "    'subsample': 0.7,\n",
    "    'colsample_bytree': 0.7,\n",
    "    'gpu_id': 0, # GPU\n",
    "    'tree_method': 'gpu_hist',\n",
    "    'seed':1324\n",
    "    }\n",
    "\n",
    "models = train_model(xr_OSS, yr_OSS, \n",
    "                     xgb_params, num_boost_round = 1000, \n",
    "                     verbose_eval = 200, return_models = True)"
   ]
  },
  {
   "cell_type": "code",
   "execution_count": 122,
   "id": "674c68fb",
   "metadata": {},
   "outputs": [
    {
     "name": "stdout",
     "output_type": "stream",
     "text": [
      "0.799569799785701\n",
      "0.8046685516094879\n",
      "0.7991811307914448\n",
      "0.8073127097497127\n",
      "0.8058707364545054\n"
     ]
    }
   ],
   "source": [
    "for mod in models:\n",
    "    print(log_loss(pd.get_dummies(yt), mod.predict(xgb.DMatrix(xt))))"
   ]
  },
  {
   "cell_type": "code",
   "execution_count": 136,
   "id": "24fde774",
   "metadata": {},
   "outputs": [
    {
     "name": "stdout",
     "output_type": "stream",
     "text": [
      "              precision    recall  f1-score   support\n",
      "\n",
      "         0.0       0.40      0.07      0.12       967\n",
      "         1.0       0.68      0.26      0.37      1880\n",
      "         2.0       0.70      0.97      0.81      5091\n",
      "\n",
      "    accuracy                           0.69      7938\n",
      "   macro avg       0.59      0.43      0.44      7938\n",
      "weighted avg       0.66      0.69      0.62      7938\n",
      "\n"
     ]
    }
   ],
   "source": [
    "print(classification_report(yt.values, np.argmax(mod.predict(xgb.DMatrix(xt)), axis=1)))"
   ]
  },
  {
   "cell_type": "code",
   "execution_count": 146,
   "id": "971e6ca7",
   "metadata": {},
   "outputs": [
    {
     "data": {
      "text/plain": [
       "2.0    5091\n",
       "1.0    1880\n",
       "0.0     967\n",
       "Name: credit, dtype: int64"
      ]
     },
     "execution_count": 146,
     "metadata": {},
     "output_type": "execute_result"
    }
   ],
   "source": [
    "yt.value_counts()"
   ]
  },
  {
   "cell_type": "code",
   "execution_count": null,
   "id": "513579ea",
   "metadata": {},
   "outputs": [],
   "source": []
  },
  {
   "cell_type": "code",
   "execution_count": null,
   "id": "ab940d29",
   "metadata": {},
   "outputs": [],
   "source": []
  },
  {
   "cell_type": "code",
   "execution_count": null,
   "id": "9ee99217",
   "metadata": {},
   "outputs": [],
   "source": []
  },
  {
   "cell_type": "code",
   "execution_count": null,
   "id": "bb268072",
   "metadata": {},
   "outputs": [],
   "source": []
  },
  {
   "cell_type": "code",
   "execution_count": null,
   "id": "d432b60a",
   "metadata": {},
   "outputs": [],
   "source": []
  },
  {
   "cell_type": "code",
   "execution_count": null,
   "id": "e86f10ab",
   "metadata": {},
   "outputs": [],
   "source": []
  },
  {
   "cell_type": "code",
   "execution_count": null,
   "id": "a4ec96e9",
   "metadata": {},
   "outputs": [],
   "source": []
  },
  {
   "cell_type": "code",
   "execution_count": null,
   "id": "07cc7682",
   "metadata": {},
   "outputs": [],
   "source": []
  }
 ],
 "metadata": {
  "kernelspec": {
   "display_name": "Python 3",
   "language": "python",
   "name": "python3"
  },
  "language_info": {
   "codemirror_mode": {
    "name": "ipython",
    "version": 3
   },
   "file_extension": ".py",
   "mimetype": "text/x-python",
   "name": "python",
   "nbconvert_exporter": "python",
   "pygments_lexer": "ipython3",
   "version": "3.7.10"
  }
 },
 "nbformat": 4,
 "nbformat_minor": 5
}
