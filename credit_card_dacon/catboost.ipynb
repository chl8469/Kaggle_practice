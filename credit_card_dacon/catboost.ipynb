{
 "cells": [
  {
   "cell_type": "code",
   "execution_count": 1,
   "id": "e7705171",
   "metadata": {},
   "outputs": [],
   "source": [
    "import numpy as np\n",
    "import pandas as pd\n",
    "import xgboost as xgb\n",
    "import matplotlib.pyplot as plt\n",
    "from tqdm.notebook import tqdm\n",
    "from sklearn.preprocessing import LabelEncoder, PowerTransformer, StandardScaler, \\\n",
    "                                    MinMaxScaler, FunctionTransformer, OneHotEncoder\n",
    "from sklearn.metrics import roc_auc_score, log_loss, classification_report\n",
    "from sklearn.model_selection import KFold, StratifiedKFold, train_test_split\n",
    "from sklearn.experimental import enable_iterative_imputer\n",
    "from sklearn.impute import IterativeImputer\n",
    "from sklearn.pipeline import Pipeline, make_union, make_pipeline\n",
    "from sklearn.decomposition import PCA\n",
    "from sklearn.utils import resample\n",
    "from sklearn.cluster import KMeans\n",
    "from imblearn.over_sampling import SMOTE, ADASYN, BorderlineSMOTE\n",
    "from bayes_opt import BayesianOptimization\n",
    "from function_dt_check import time_checker\n",
    "from category_encoders.ordinal import OrdinalEncoder\n",
    "import json\n",
    "from catboost import CatBoostClassifier, Pool\n",
    "%matplotlib inline"
   ]
  },
  {
   "cell_type": "code",
   "execution_count": 2,
   "id": "68870059",
   "metadata": {},
   "outputs": [],
   "source": [
    "plt.rcParams['axes.unicode_minus'] = False\n",
    "plt.rcParams['font.family'] = 'Hancom Gothic'\n",
    "plt.style.use('bmh')\n",
    "plt.rc('font',size=15)"
   ]
  },
  {
   "cell_type": "code",
   "execution_count": 3,
   "id": "ed6feb36",
   "metadata": {},
   "outputs": [],
   "source": [
    "path = './data/'\n",
    "train = pd.read_csv(path+'train.csv')\n",
    "train = train.drop(['index'], axis=1)\n",
    "\n",
    "test = pd.read_csv(path+'test.csv')\n",
    "test = test.drop(['index'], axis=1)\n",
    "\n",
    "submission = pd.read_csv(path+'sample_submission.csv')"
   ]
  },
  {
   "cell_type": "code",
   "execution_count": 4,
   "id": "ec6f3447",
   "metadata": {},
   "outputs": [],
   "source": [
    "train.fillna('NaN', inplace=True) \n",
    "test.fillna('NaN', inplace=True)"
   ]
  },
  {
   "cell_type": "code",
   "execution_count": 5,
   "id": "15ca0c60",
   "metadata": {},
   "outputs": [],
   "source": [
    "train = train[(train['family_size'] <= 7)]\n",
    "train = train.reset_index(drop=True)"
   ]
  },
  {
   "cell_type": "code",
   "execution_count": 6,
   "id": "27a347f0",
   "metadata": {},
   "outputs": [],
   "source": [
    "train.drop(['FLAG_MOBIL'], axis=1, inplace=True)\n",
    "test.drop(['FLAG_MOBIL'], axis=1, inplace=True)"
   ]
  },
  {
   "cell_type": "code",
   "execution_count": 7,
   "id": "869e2e78",
   "metadata": {},
   "outputs": [],
   "source": [
    "train['DAYS_EMPLOYED'] = train['DAYS_EMPLOYED'].map(lambda x: 0 if x > 0 else x)\n",
    "test['DAYS_EMPLOYED'] = test['DAYS_EMPLOYED'].map(lambda x: 0 if x > 0 else x)"
   ]
  },
  {
   "cell_type": "code",
   "execution_count": 8,
   "id": "9a8b0e50",
   "metadata": {},
   "outputs": [],
   "source": [
    "feats = ['DAYS_BIRTH', 'begin_month', 'DAYS_EMPLOYED']\n",
    "for feat in feats:\n",
    "    train[feat]=np.abs(train[feat])\n",
    "    test[feat]=np.abs(test[feat])"
   ]
  },
  {
   "cell_type": "code",
   "execution_count": 9,
   "id": "cd4bd094",
   "metadata": {},
   "outputs": [],
   "source": [
    "for df in [train,test]:\n",
    "    # before_EMPLOYED: 고용되기 전까지의 일수\n",
    "    df['before_EMPLOYED'] = df['DAYS_BIRTH'] - df['DAYS_EMPLOYED']\n",
    "    df['income_total_befofeEMP_ratio'] = df['income_total'] / df['before_EMPLOYED']\n",
    "    df['before_EMPLOYED_m'] = np.floor(df['before_EMPLOYED'] / 30) - ((np.floor(df['before_EMPLOYED'] / 30) / 12).astype(int) * 12)\n",
    "    df['before_EMPLOYED_w'] = np.floor(df['before_EMPLOYED'] / 7) - ((np.floor(df['before_EMPLOYED'] / 7) / 4).astype(int) * 4)\n",
    "    \n",
    "    #DAYS_BIRTH 파생변수- Age(나이), 태어난 월, 태어난 주(출생연도의 n주차)\n",
    "    df['Age'] = df['DAYS_BIRTH'] // 365\n",
    "    df['DAYS_BIRTH_m'] = np.floor(df['DAYS_BIRTH'] / 30) - ((np.floor(df['DAYS_BIRTH'] / 30) / 12).astype(int) * 12)\n",
    "    df['DAYS_BIRTH_w'] = np.floor(df['DAYS_BIRTH'] / 7) - ((np.floor(df['DAYS_BIRTH'] / 7) / 4).astype(int) * 4)\n",
    "\n",
    "    \n",
    "    #DAYS_EMPLOYED_m 파생변수- EMPLOYED(근속연수), DAYS_EMPLOYED_m(고용된 달) ,DAYS_EMPLOYED_w(고용된 주(고용연도의 n주차))  \n",
    "    df['EMPLOYED'] = df['DAYS_EMPLOYED'] // 365\n",
    "    df['DAYS_EMPLOYED_m'] = np.floor(df['DAYS_EMPLOYED'] / 30) - ((np.floor(df['DAYS_EMPLOYED'] / 30) / 12).astype(int) * 12)\n",
    "    df['DAYS_EMPLOYED_w'] = np.floor(df['DAYS_EMPLOYED'] / 7) - ((np.floor(df['DAYS_EMPLOYED'] / 7) / 4).astype(int) * 4)\n",
    "\n",
    "    #ability: 소득/(살아온 일수+ 근무일수)\n",
    "    df['ability'] = df['income_total'] / (df['DAYS_BIRTH'] + df['DAYS_EMPLOYED'])\n",
    "    \n",
    "    #income_mean: 소득/ 가족 수\n",
    "    df['income_mean'] = df['income_total'] / df['family_size']\n",
    "    \n",
    "    #ID 생성: 각 컬럼의 값들을 더해서 고유한 사람을 파악(*한 사람이 여러 개 카드를 만들 가능성을 고려해 begin_month는 제외함)\n",
    "    df['ID'] = \\\n",
    "    df['child_num'].astype(str) + '_' + df['income_total'].astype(str) + '_' +\\\n",
    "    df['DAYS_BIRTH'].astype(str) + '_' + df['DAYS_EMPLOYED'].astype(str) + '_' +\\\n",
    "    df['work_phone'].astype(str) + '_' + df['phone'].astype(str) + '_' +\\\n",
    "    df['email'].astype(str) + '_' + df['family_size'].astype(str) + '_' +\\\n",
    "    df['gender'].astype(str) + '_' + df['car'].astype(str) + '_' +\\\n",
    "    df['reality'].astype(str) + '_' + df['income_type'].astype(str) + '_' +\\\n",
    "    df['edu_type'].astype(str) + '_' + df['family_type'].astype(str) + '_' +\\\n",
    "    df['house_type'].astype(str) + '_' + df['occyp_type'].astype(str)"
   ]
  },
  {
   "cell_type": "code",
   "execution_count": 10,
   "id": "55231c42",
   "metadata": {},
   "outputs": [],
   "source": [
    "cols = ['child_num', 'DAYS_BIRTH', 'DAYS_EMPLOYED',]\n",
    "train.drop(cols, axis=1, inplace=True)\n",
    "test.drop(cols, axis=1, inplace=True)"
   ]
  },
  {
   "cell_type": "code",
   "execution_count": 11,
   "id": "d770dc3e",
   "metadata": {},
   "outputs": [
    {
     "name": "stdout",
     "output_type": "stream",
     "text": [
      "Number of Numerical features:  18\n",
      "Number of Categorical features:  9\n"
     ]
    }
   ],
   "source": [
    "numerical_feats = train.dtypes[train.dtypes != \"object\"].index.tolist()\n",
    "numerical_feats.remove('credit')\n",
    "print(\"Number of Numerical features: \", len(numerical_feats))\n",
    "\n",
    "categorical_feats = train.dtypes[train.dtypes == \"object\"].index.tolist()\n",
    "print(\"Number of Categorical features: \", len(categorical_feats))"
   ]
  },
  {
   "cell_type": "code",
   "execution_count": 12,
   "id": "abcd1512",
   "metadata": {},
   "outputs": [],
   "source": [
    "for df in [train,test]:\n",
    "    df['income_total'] = np.log1p(1+df['income_total'])"
   ]
  },
  {
   "cell_type": "code",
   "execution_count": 13,
   "id": "3f2072cd",
   "metadata": {},
   "outputs": [],
   "source": [
    "encoder = OrdinalEncoder(categorical_feats)\n",
    "train[categorical_feats] = encoder.fit_transform(train[categorical_feats], train['credit'])\n",
    "test[categorical_feats] = encoder.transform(test[categorical_feats])\n",
    "\n",
    "train['ID'] = train['ID'].astype('int64')\n",
    "test['ID'] = test['ID'].astype('int64')"
   ]
  },
  {
   "cell_type": "code",
   "execution_count": 14,
   "id": "998e423c",
   "metadata": {},
   "outputs": [],
   "source": [
    "kmeans_train = train.drop(['credit'], axis=1)\n",
    "kmeans = KMeans(n_clusters=36, random_state=42).fit(kmeans_train)\n",
    "train['cluster'] = kmeans.predict(kmeans_train)\n",
    "test['cluster'] = kmeans.predict(test)"
   ]
  },
  {
   "cell_type": "code",
   "execution_count": 15,
   "id": "64876878",
   "metadata": {},
   "outputs": [],
   "source": [
    "numerical_feats.remove('income_total')\n",
    "scaler = StandardScaler()\n",
    "train[numerical_feats] = scaler.fit_transform(train[numerical_feats])\n",
    "test[numerical_feats] = scaler.transform(test[numerical_feats])"
   ]
  },
  {
   "cell_type": "code",
   "execution_count": 16,
   "id": "cd3ea96c",
   "metadata": {},
   "outputs": [],
   "source": [
    "trainkeys = train.keys().to_list()\n",
    "trainkeys.remove('credit')"
   ]
  },
  {
   "cell_type": "code",
   "execution_count": 17,
   "id": "dbef2229",
   "metadata": {},
   "outputs": [
    {
     "data": {
      "text/html": [
       "<div>\n",
       "<style scoped>\n",
       "    .dataframe tbody tr th:only-of-type {\n",
       "        vertical-align: middle;\n",
       "    }\n",
       "\n",
       "    .dataframe tbody tr th {\n",
       "        vertical-align: top;\n",
       "    }\n",
       "\n",
       "    .dataframe thead th {\n",
       "        text-align: right;\n",
       "    }\n",
       "</style>\n",
       "<table border=\"1\" class=\"dataframe\">\n",
       "  <thead>\n",
       "    <tr style=\"text-align: right;\">\n",
       "      <th></th>\n",
       "      <th>gender</th>\n",
       "      <th>car</th>\n",
       "      <th>reality</th>\n",
       "      <th>income_total</th>\n",
       "      <th>income_type</th>\n",
       "      <th>edu_type</th>\n",
       "      <th>family_type</th>\n",
       "      <th>house_type</th>\n",
       "      <th>work_phone</th>\n",
       "      <th>phone</th>\n",
       "      <th>...</th>\n",
       "      <th>Age</th>\n",
       "      <th>DAYS_BIRTH_m</th>\n",
       "      <th>DAYS_BIRTH_w</th>\n",
       "      <th>EMPLOYED</th>\n",
       "      <th>DAYS_EMPLOYED_m</th>\n",
       "      <th>DAYS_EMPLOYED_w</th>\n",
       "      <th>ability</th>\n",
       "      <th>income_mean</th>\n",
       "      <th>ID</th>\n",
       "      <th>cluster</th>\n",
       "    </tr>\n",
       "  </thead>\n",
       "  <tbody>\n",
       "    <tr>\n",
       "      <th>0</th>\n",
       "      <td>1</td>\n",
       "      <td>1</td>\n",
       "      <td>1</td>\n",
       "      <td>12.218505</td>\n",
       "      <td>1</td>\n",
       "      <td>1</td>\n",
       "      <td>1</td>\n",
       "      <td>1</td>\n",
       "      <td>-0.538321</td>\n",
       "      <td>-0.645632</td>\n",
       "      <td>...</td>\n",
       "      <td>-0.452826</td>\n",
       "      <td>0.442795</td>\n",
       "      <td>-0.443485</td>\n",
       "      <td>0.994253</td>\n",
       "      <td>-1.230046</td>\n",
       "      <td>-1.077087</td>\n",
       "      <td>-0.032496</td>\n",
       "      <td>0.002062</td>\n",
       "      <td>1</td>\n",
       "      <td>35</td>\n",
       "    </tr>\n",
       "    <tr>\n",
       "      <th>1</th>\n",
       "      <td>1</td>\n",
       "      <td>1</td>\n",
       "      <td>2</td>\n",
       "      <td>12.419174</td>\n",
       "      <td>1</td>\n",
       "      <td>2</td>\n",
       "      <td>2</td>\n",
       "      <td>2</td>\n",
       "      <td>-0.538321</td>\n",
       "      <td>-0.645632</td>\n",
       "      <td>...</td>\n",
       "      <td>-1.060773</td>\n",
       "      <td>0.442795</td>\n",
       "      <td>-0.443485</td>\n",
       "      <td>-0.250471</td>\n",
       "      <td>-0.424295</td>\n",
       "      <td>-1.077087</td>\n",
       "      <td>1.190137</td>\n",
       "      <td>-0.254157</td>\n",
       "      <td>2</td>\n",
       "      <td>7</td>\n",
       "    </tr>\n",
       "    <tr>\n",
       "      <th>2</th>\n",
       "      <td>2</td>\n",
       "      <td>2</td>\n",
       "      <td>2</td>\n",
       "      <td>13.017007</td>\n",
       "      <td>2</td>\n",
       "      <td>1</td>\n",
       "      <td>1</td>\n",
       "      <td>2</td>\n",
       "      <td>-0.538321</td>\n",
       "      <td>1.548870</td>\n",
       "      <td>...</td>\n",
       "      <td>0.763069</td>\n",
       "      <td>-1.582567</td>\n",
       "      <td>0.451504</td>\n",
       "      <td>0.994253</td>\n",
       "      <td>-0.424295</td>\n",
       "      <td>-0.223607</td>\n",
       "      <td>1.186515</td>\n",
       "      <td>1.693108</td>\n",
       "      <td>3</td>\n",
       "      <td>18</td>\n",
       "    </tr>\n",
       "    <tr>\n",
       "      <th>3</th>\n",
       "      <td>1</td>\n",
       "      <td>1</td>\n",
       "      <td>2</td>\n",
       "      <td>12.218505</td>\n",
       "      <td>1</td>\n",
       "      <td>2</td>\n",
       "      <td>1</td>\n",
       "      <td>2</td>\n",
       "      <td>-0.538321</td>\n",
       "      <td>1.548870</td>\n",
       "      <td>...</td>\n",
       "      <td>-0.192277</td>\n",
       "      <td>1.310808</td>\n",
       "      <td>1.346494</td>\n",
       "      <td>-0.094880</td>\n",
       "      <td>1.187206</td>\n",
       "      <td>0.629874</td>\n",
       "      <td>0.101168</td>\n",
       "      <td>0.002062</td>\n",
       "      <td>4</td>\n",
       "      <td>35</td>\n",
       "    </tr>\n",
       "    <tr>\n",
       "      <th>4</th>\n",
       "      <td>1</td>\n",
       "      <td>2</td>\n",
       "      <td>2</td>\n",
       "      <td>11.967193</td>\n",
       "      <td>3</td>\n",
       "      <td>1</td>\n",
       "      <td>1</td>\n",
       "      <td>2</td>\n",
       "      <td>-0.538321</td>\n",
       "      <td>-0.645632</td>\n",
       "      <td>...</td>\n",
       "      <td>-0.192277</td>\n",
       "      <td>1.021471</td>\n",
       "      <td>-1.338475</td>\n",
       "      <td>-0.094880</td>\n",
       "      <td>1.455790</td>\n",
       "      <td>-1.077087</td>\n",
       "      <td>-0.282885</td>\n",
       "      <td>-0.305401</td>\n",
       "      <td>5</td>\n",
       "      <td>7</td>\n",
       "    </tr>\n",
       "  </tbody>\n",
       "</table>\n",
       "<p>5 rows × 29 columns</p>\n",
       "</div>"
      ],
      "text/plain": [
       "   gender  car  reality  income_total  income_type  edu_type  family_type  \\\n",
       "0       1    1        1     12.218505            1         1            1   \n",
       "1       1    1        2     12.419174            1         2            2   \n",
       "2       2    2        2     13.017007            2         1            1   \n",
       "3       1    1        2     12.218505            1         2            1   \n",
       "4       1    2        2     11.967193            3         1            1   \n",
       "\n",
       "   house_type  work_phone     phone  ...       Age  DAYS_BIRTH_m  \\\n",
       "0           1   -0.538321 -0.645632  ... -0.452826      0.442795   \n",
       "1           2   -0.538321 -0.645632  ... -1.060773      0.442795   \n",
       "2           2   -0.538321  1.548870  ...  0.763069     -1.582567   \n",
       "3           2   -0.538321  1.548870  ... -0.192277      1.310808   \n",
       "4           2   -0.538321 -0.645632  ... -0.192277      1.021471   \n",
       "\n",
       "   DAYS_BIRTH_w  EMPLOYED  DAYS_EMPLOYED_m  DAYS_EMPLOYED_w   ability  \\\n",
       "0     -0.443485  0.994253        -1.230046        -1.077087 -0.032496   \n",
       "1     -0.443485 -0.250471        -0.424295        -1.077087  1.190137   \n",
       "2      0.451504  0.994253        -0.424295        -0.223607  1.186515   \n",
       "3      1.346494 -0.094880         1.187206         0.629874  0.101168   \n",
       "4     -1.338475 -0.094880         1.455790        -1.077087 -0.282885   \n",
       "\n",
       "   income_mean  ID  cluster  \n",
       "0     0.002062   1       35  \n",
       "1    -0.254157   2        7  \n",
       "2     1.693108   3       18  \n",
       "3     0.002062   4       35  \n",
       "4    -0.305401   5        7  \n",
       "\n",
       "[5 rows x 29 columns]"
      ]
     },
     "execution_count": 17,
     "metadata": {},
     "output_type": "execute_result"
    }
   ],
   "source": [
    "train.head()"
   ]
  },
  {
   "cell_type": "code",
   "execution_count": 18,
   "id": "36b7d951",
   "metadata": {},
   "outputs": [],
   "source": [
    "X_train, y_train = train[trainkeys], train['credit']"
   ]
  },
  {
   "cell_type": "code",
   "execution_count": null,
   "id": "234d238d",
   "metadata": {},
   "outputs": [],
   "source": []
  },
  {
   "cell_type": "code",
   "execution_count": 19,
   "id": "62a1769e",
   "metadata": {},
   "outputs": [],
   "source": [
    "@time_checker\n",
    "def train_model(x_data, y_data, params, k=5, num_boost_round = 200, verbose_eval = 100, early_stopping_rounds = 100, stratified = False, return_models = False):\n",
    "    models = []\n",
    "    \n",
    "#     k_fold = KFold(n_splits=k, shuffle=True, random_state=123)\n",
    "    if stratified:\n",
    "        k_fold = StratifiedKFold(n_splits=k, shuffle=True, random_state=123)\n",
    "        data = [x_data, y_data]\n",
    "    else:\n",
    "        k_fold = KFold(n_splits=k, shuffle=True, random_state=123)\n",
    "        data = [x_data]\n",
    "#     k_fold = StratifiedKFold(n_splits=k, shuffle=True, random_state=123) if stratified else KFold(n_splits=k, shuffle=True, random_state=123)\n",
    "    \n",
    "    \n",
    "    for train_idx, val_idx in k_fold.split(*data):\n",
    "        x_train, y_train = x_data.iloc[train_idx], y_data.iloc[train_idx]\n",
    "        x_val, y_val = x_data.iloc[val_idx], y_data.iloc[val_idx]\n",
    "    \n",
    "        d_train = xgb.DMatrix(data = x_train, label = y_train)\n",
    "        d_val = xgb.DMatrix(data = x_val, label = y_val)\n",
    "        \n",
    "        wlist = [(d_train, 'train'), (d_val, 'eval')]\n",
    "        \n",
    "        model = xgb.train(params=params, dtrain=d_train, num_boost_round = num_boost_round, evals=wlist, early_stopping_rounds=early_stopping_rounds, verbose_eval=verbose_eval)\n",
    "        models.append(model)\n",
    "    \n",
    "    print(f\"{k} fold mean score:\", np.mean([i.best_score for i in models]))\n",
    "    \n",
    "    if return_models:\n",
    "        return models\n",
    "\n",
    "@time_checker\n",
    "def last_train(X_test, y_test, params, num_boost_round = 200):\n",
    "    print(\"***최종 학습 전 하이퍼 파라미터 다시한번 확인!!***\")\n",
    "    \n",
    "    d_test = xgb.DMatrix(data = X_test, label = y_test)\n",
    "    model = xgb.train(params = params, dtrain = d_test, num_boost_round = num_boost_round)\n",
    "    \n",
    "    return model\n",
    "\n",
    "def get_XGBparams(booster):\n",
    "    config = json.loads(booster.save_config()) # your xgb booster object\n",
    "    stack = [config]\n",
    "    internal = {}\n",
    "    while stack:\n",
    "        obj = stack.pop()\n",
    "        for k, v in obj.items():\n",
    "            if k.endswith('_param'):\n",
    "                for p_k, p_v in v.items():\n",
    "                    internal[p_k] = p_v\n",
    "            elif isinstance(v, dict):\n",
    "                stack.append(v)\n",
    "    return internal"
   ]
  },
  {
   "cell_type": "code",
   "execution_count": 36,
   "id": "2aa24822",
   "metadata": {
    "scrolled": false
   },
   "outputs": [
    {
     "name": "stdout",
     "output_type": "stream",
     "text": [
      "[0]\ttrain-mlogloss:1.02675\teval-mlogloss:1.04111\n",
      "[100]\ttrain-mlogloss:0.18824\teval-mlogloss:0.76988\n",
      "[138]\ttrain-mlogloss:0.13797\teval-mlogloss:0.82009\n",
      "[0]\ttrain-mlogloss:1.03021\teval-mlogloss:1.04243\n",
      "[100]\ttrain-mlogloss:0.20053\teval-mlogloss:0.73750\n",
      "[140]\ttrain-mlogloss:0.14516\teval-mlogloss:0.78243\n",
      "[0]\ttrain-mlogloss:1.02589\teval-mlogloss:1.03988\n",
      "[100]\ttrain-mlogloss:0.19568\teval-mlogloss:0.74771\n",
      "[141]\ttrain-mlogloss:0.14143\teval-mlogloss:0.79897\n",
      "[0]\ttrain-mlogloss:1.02723\teval-mlogloss:1.04102\n",
      "[100]\ttrain-mlogloss:0.20005\teval-mlogloss:0.74642\n",
      "[141]\ttrain-mlogloss:0.14227\teval-mlogloss:0.79765\n",
      "[0]\ttrain-mlogloss:1.02693\teval-mlogloss:1.04087\n",
      "[100]\ttrain-mlogloss:0.19791\teval-mlogloss:0.74555\n",
      "[144]\ttrain-mlogloss:0.13685\teval-mlogloss:0.80734\n",
      "5 fold mean score: 0.6978488\n",
      "train_model learning time: 140.05625772476196\n"
     ]
    }
   ],
   "source": [
    "xgb_params = {\n",
    "    'booster': 'gbtree',\n",
    "    'learning_rate': 0.12133255671935729,\n",
    "#     'gamma': 1,\n",
    "    'max_depth': 13,\n",
    "#     'objective': 'multi:softmax',\n",
    "    'objective': 'multi:softprob',\n",
    "    'num_class': 3,\n",
    "    'eval_metric': 'mlogloss',\n",
    "    'subsample': 0.8056400011874829,\n",
    "    'colsample_bytree': 0.6187614912442929,\n",
    "    'gpu_id': 0, # GPU\n",
    "    'tree_method': 'gpu_hist',\n",
    "#     'seed':1324\n",
    "    }\n",
    "\n",
    "models = train_model(X_train, y_train, xgb_params, num_boost_round = 700, stratified = True, return_models=True)"
   ]
  },
  {
   "cell_type": "code",
   "execution_count": 35,
   "id": "adf7a85e",
   "metadata": {
    "scrolled": false
   },
   "outputs": [
    {
     "name": "stdout",
     "output_type": "stream",
     "text": [
      "[0]\ttrain-mlogloss:0.93910\teval-mlogloss:0.97467\n",
      "[100]\ttrain-mlogloss:0.38340\teval-mlogloss:0.72906\n",
      "[148]\ttrain-mlogloss:0.37462\teval-mlogloss:0.73097\n",
      "[0]\ttrain-mlogloss:0.93899\teval-mlogloss:0.97411\n",
      "[100]\ttrain-mlogloss:0.38520\teval-mlogloss:0.70993\n",
      "[133]\ttrain-mlogloss:0.37835\teval-mlogloss:0.71066\n",
      "[0]\ttrain-mlogloss:0.93983\teval-mlogloss:0.97263\n",
      "[100]\ttrain-mlogloss:0.38274\teval-mlogloss:0.71234\n",
      "[133]\ttrain-mlogloss:0.37817\teval-mlogloss:0.71369\n",
      "[0]\ttrain-mlogloss:0.93787\teval-mlogloss:0.97342\n",
      "[100]\ttrain-mlogloss:0.38411\teval-mlogloss:0.71011\n",
      "[132]\ttrain-mlogloss:0.38026\teval-mlogloss:0.71040\n",
      "[0]\ttrain-mlogloss:0.94069\teval-mlogloss:0.97341\n",
      "[100]\ttrain-mlogloss:0.38702\teval-mlogloss:0.71731\n",
      "[139]\ttrain-mlogloss:0.37931\teval-mlogloss:0.71858\n",
      "5 fold mean score: 0.7130948\n",
      "train_model learning time: 17.51230001449585\n"
     ]
    }
   ],
   "source": [
    "xgb_params = {\n",
    "    'booster': 'gbtree',\n",
    "    'learning_rate': 0.3,\n",
    "    'gamma': 1,\n",
    "    'max_depth': 15,\n",
    "#     'objective': 'multi:softmax',\n",
    "    'objective': 'multi:softprob',\n",
    "    'num_class': 3,\n",
    "    'eval_metric': 'mlogloss',\n",
    "    'subsample': 0.7,\n",
    "    'colsample_bytree': 0.7,\n",
    "    'gpu_id': 0, # GPU\n",
    "    'tree_method': 'gpu_hist',\n",
    "    'seed':1324\n",
    "    }\n",
    "\n",
    "models = train_model(X_train, y_train, xgb_params, num_boost_round = 700, stratified = True, return_models=True)"
   ]
  },
  {
   "cell_type": "code",
   "execution_count": 21,
   "id": "9ee99217",
   "metadata": {},
   "outputs": [],
   "source": [
    "def train_cat_model(x_data, y_data, cat_cols, k=5, \n",
    "                    num_boost_round = 200, verbose_eval = 100, \n",
    "                    early_stopping_rounds = 100, stratified = False, \n",
    "                    return_models = False):\n",
    "    models = []\n",
    "    \n",
    "#     k_fold = KFold(n_splits=k, shuffle=True, random_state=123)\n",
    "    if stratified:\n",
    "        k_fold = StratifiedKFold(n_splits=k, shuffle=True, random_state=123)\n",
    "        data = [x_data, y_data]\n",
    "    else:\n",
    "        k_fold = KFold(n_splits=k, shuffle=True, random_state=123)\n",
    "        data = [x_data]\n",
    "#     k_fold = StratifiedKFold(n_splits=k, shuffle=True, random_state=123) if stratified else KFold(n_splits=k, shuffle=True, random_state=123)\n",
    "    \n",
    "    \n",
    "    for train_idx, val_idx in k_fold.split(*data):\n",
    "        x_train, y_train = x_data.iloc[train_idx], y_data.iloc[train_idx]\n",
    "        x_val, y_val = x_data.iloc[val_idx], y_data.iloc[val_idx]\n",
    "\n",
    "        model = CatBoostClassifier()\n",
    "        train_data = Pool(data=x_train, label=y_train, cat_features=cat_cols)\n",
    "        valid_data = Pool(data=x_val, label=y_val, cat_features=cat_cols)\n",
    "        model.fit(train_data, eval_set=valid_data, use_best_model=True, early_stopping_rounds=100, verbose=100)\n",
    "        models.append(model)\n",
    "    \n",
    "#     print(f\"{k} fold mean score:\", np.mean([i.best_score for i in models]))\n",
    "    \n",
    "    if return_models:\n",
    "        return models"
   ]
  },
  {
   "cell_type": "code",
   "execution_count": 22,
   "id": "1f710c9b",
   "metadata": {},
   "outputs": [],
   "source": [
    "cat_cols = ['income_type', 'edu_type', 'family_type', 'house_type', 'occyp_type', 'ID']"
   ]
  },
  {
   "cell_type": "code",
   "execution_count": 23,
   "id": "31c6de6b",
   "metadata": {
    "scrolled": false
   },
   "outputs": [
    {
     "name": "stdout",
     "output_type": "stream",
     "text": [
      "Learning rate set to 0.114773\n",
      "0:\tlearn: 1.0355876\ttest: 1.0357518\tbest: 1.0357518 (0)\ttotal: 216ms\tremaining: 3m 35s\n",
      "100:\tlearn: 0.7101622\ttest: 0.6809943\tbest: 0.6809943 (100)\ttotal: 3.99s\tremaining: 35.5s\n",
      "200:\tlearn: 0.6870712\ttest: 0.6794566\tbest: 0.6789316 (161)\ttotal: 8.31s\tremaining: 33s\n",
      "Stopped by overfitting detector  (100 iterations wait)\n",
      "\n",
      "bestTest = 0.6789316413\n",
      "bestIteration = 161\n",
      "\n",
      "Shrink model to first 162 iterations.\n",
      "Learning rate set to 0.114773\n",
      "0:\tlearn: 1.0346349\ttest: 1.0359460\tbest: 1.0359460 (0)\ttotal: 36.1ms\tremaining: 36.1s\n",
      "100:\tlearn: 0.7068730\ttest: 0.6946013\tbest: 0.6946013 (100)\ttotal: 3.75s\tremaining: 33.4s\n",
      "200:\tlearn: 0.6860307\ttest: 0.6940101\tbest: 0.6938711 (193)\ttotal: 8.06s\tremaining: 32.1s\n",
      "300:\tlearn: 0.6656596\ttest: 0.6950971\tbest: 0.6938585 (205)\ttotal: 12.5s\tremaining: 29.1s\n",
      "Stopped by overfitting detector  (100 iterations wait)\n",
      "\n",
      "bestTest = 0.6938584617\n",
      "bestIteration = 205\n",
      "\n",
      "Shrink model to first 206 iterations.\n",
      "Learning rate set to 0.114773\n",
      "0:\tlearn: 1.0344691\ttest: 1.0360504\tbest: 1.0360504 (0)\ttotal: 41.3ms\tremaining: 41.3s\n",
      "100:\tlearn: 0.7127454\ttest: 0.6807482\tbest: 0.6806456 (99)\ttotal: 3.68s\tremaining: 32.7s\n",
      "200:\tlearn: 0.6916535\ttest: 0.6798892\tbest: 0.6794686 (140)\ttotal: 7.76s\tremaining: 30.9s\n",
      "Stopped by overfitting detector  (100 iterations wait)\n",
      "\n",
      "bestTest = 0.6794685661\n",
      "bestIteration = 140\n",
      "\n",
      "Shrink model to first 141 iterations.\n",
      "Learning rate set to 0.114773\n",
      "0:\tlearn: 1.0358403\ttest: 1.0338822\tbest: 1.0338822 (0)\ttotal: 35.6ms\tremaining: 35.5s\n",
      "100:\tlearn: 0.7153883\ttest: 0.6685799\tbest: 0.6685799 (100)\ttotal: 3.72s\tremaining: 33.1s\n",
      "200:\tlearn: 0.6919135\ttest: 0.6661948\tbest: 0.6661540 (197)\ttotal: 8.15s\tremaining: 32.4s\n",
      "300:\tlearn: 0.6719581\ttest: 0.6648788\tbest: 0.6647583 (298)\ttotal: 12.2s\tremaining: 28.3s\n",
      "400:\tlearn: 0.6532402\ttest: 0.6641239\tbest: 0.6640209 (393)\ttotal: 16.2s\tremaining: 24.2s\n",
      "Stopped by overfitting detector  (100 iterations wait)\n",
      "\n",
      "bestTest = 0.664020872\n",
      "bestIteration = 393\n",
      "\n",
      "Shrink model to first 394 iterations.\n",
      "Learning rate set to 0.114773\n",
      "0:\tlearn: 1.0354182\ttest: 1.0344352\tbest: 1.0344352 (0)\ttotal: 36.9ms\tremaining: 36.9s\n",
      "100:\tlearn: 0.7118721\ttest: 0.6757874\tbest: 0.6757363 (97)\ttotal: 3.89s\tremaining: 34.6s\n",
      "200:\tlearn: 0.6912597\ttest: 0.6750285\tbest: 0.6749603 (136)\ttotal: 7.97s\tremaining: 31.7s\n",
      "Stopped by overfitting detector  (100 iterations wait)\n",
      "\n",
      "bestTest = 0.6749602575\n",
      "bestIteration = 136\n",
      "\n",
      "Shrink model to first 137 iterations.\n"
     ]
    }
   ],
   "source": [
    "models = train_cat_model(X_train, y_train, cat_cols, return_models = True)"
   ]
  },
  {
   "cell_type": "code",
   "execution_count": 24,
   "id": "6de3fae1",
   "metadata": {},
   "outputs": [],
   "source": [
    "cat_model = CatBoostClassifier(learning_rate = 0.1)\n",
    "train_data = Pool(data=X_train, label=y_train, cat_features=cat_cols)"
   ]
  },
  {
   "cell_type": "code",
   "execution_count": 25,
   "id": "6b93b361",
   "metadata": {
    "scrolled": true
   },
   "outputs": [
    {
     "name": "stdout",
     "output_type": "stream",
     "text": [
      "0:\tlearn: 1.0433443\ttotal: 37.3ms\tremaining: 37.3s\n",
      "100:\tlearn: 0.7030099\ttotal: 3.44s\tremaining: 30.6s\n",
      "200:\tlearn: 0.6870719\ttotal: 7.71s\tremaining: 30.6s\n",
      "300:\tlearn: 0.6728285\ttotal: 12.1s\tremaining: 28s\n",
      "400:\tlearn: 0.6573662\ttotal: 17s\tremaining: 25.4s\n",
      "500:\tlearn: 0.6441099\ttotal: 21.4s\tremaining: 21.4s\n",
      "600:\tlearn: 0.6304447\ttotal: 25.8s\tremaining: 17.2s\n",
      "700:\tlearn: 0.6172613\ttotal: 30s\tremaining: 12.8s\n",
      "800:\tlearn: 0.6042767\ttotal: 34.5s\tremaining: 8.56s\n",
      "900:\tlearn: 0.5917884\ttotal: 39.2s\tremaining: 4.3s\n",
      "999:\tlearn: 0.5783965\ttotal: 43.2s\tremaining: 0us\n"
     ]
    },
    {
     "data": {
      "text/plain": [
       "<catboost.core.CatBoostClassifier at 0x204d65f8908>"
      ]
     },
     "execution_count": 25,
     "metadata": {},
     "output_type": "execute_result"
    }
   ],
   "source": [
    "cat_model.fit(train_data, early_stopping_rounds=100, verbose=100)"
   ]
  },
  {
   "cell_type": "code",
   "execution_count": null,
   "id": "f966bbf9",
   "metadata": {},
   "outputs": [],
   "source": []
  },
  {
   "cell_type": "code",
   "execution_count": 26,
   "id": "6e3c2e24",
   "metadata": {},
   "outputs": [],
   "source": [
    "pred = cat_model.predict_proba(test)"
   ]
  },
  {
   "cell_type": "code",
   "execution_count": 27,
   "id": "9df816e8",
   "metadata": {},
   "outputs": [
    {
     "data": {
      "text/plain": [
       "(10000, 3)"
      ]
     },
     "execution_count": 27,
     "metadata": {},
     "output_type": "execute_result"
    }
   ],
   "source": [
    "pred.shape"
   ]
  },
  {
   "cell_type": "code",
   "execution_count": 28,
   "id": "c03237ab",
   "metadata": {},
   "outputs": [],
   "source": [
    "submission.iloc[:, 1:] = pred"
   ]
  },
  {
   "cell_type": "code",
   "execution_count": 29,
   "id": "e0d695f6",
   "metadata": {},
   "outputs": [
    {
     "data": {
      "text/html": [
       "<div>\n",
       "<style scoped>\n",
       "    .dataframe tbody tr th:only-of-type {\n",
       "        vertical-align: middle;\n",
       "    }\n",
       "\n",
       "    .dataframe tbody tr th {\n",
       "        vertical-align: top;\n",
       "    }\n",
       "\n",
       "    .dataframe thead th {\n",
       "        text-align: right;\n",
       "    }\n",
       "</style>\n",
       "<table border=\"1\" class=\"dataframe\">\n",
       "  <thead>\n",
       "    <tr style=\"text-align: right;\">\n",
       "      <th></th>\n",
       "      <th>index</th>\n",
       "      <th>0</th>\n",
       "      <th>1</th>\n",
       "      <th>2</th>\n",
       "    </tr>\n",
       "  </thead>\n",
       "  <tbody>\n",
       "    <tr>\n",
       "      <th>0</th>\n",
       "      <td>26457</td>\n",
       "      <td>0.133810</td>\n",
       "      <td>0.197049</td>\n",
       "      <td>0.669141</td>\n",
       "    </tr>\n",
       "    <tr>\n",
       "      <th>1</th>\n",
       "      <td>26458</td>\n",
       "      <td>0.334796</td>\n",
       "      <td>0.261194</td>\n",
       "      <td>0.404009</td>\n",
       "    </tr>\n",
       "    <tr>\n",
       "      <th>2</th>\n",
       "      <td>26459</td>\n",
       "      <td>0.028673</td>\n",
       "      <td>0.063094</td>\n",
       "      <td>0.908234</td>\n",
       "    </tr>\n",
       "    <tr>\n",
       "      <th>3</th>\n",
       "      <td>26460</td>\n",
       "      <td>0.056031</td>\n",
       "      <td>0.065618</td>\n",
       "      <td>0.878351</td>\n",
       "    </tr>\n",
       "    <tr>\n",
       "      <th>4</th>\n",
       "      <td>26461</td>\n",
       "      <td>0.101319</td>\n",
       "      <td>0.228913</td>\n",
       "      <td>0.669768</td>\n",
       "    </tr>\n",
       "  </tbody>\n",
       "</table>\n",
       "</div>"
      ],
      "text/plain": [
       "   index         0         1         2\n",
       "0  26457  0.133810  0.197049  0.669141\n",
       "1  26458  0.334796  0.261194  0.404009\n",
       "2  26459  0.028673  0.063094  0.908234\n",
       "3  26460  0.056031  0.065618  0.878351\n",
       "4  26461  0.101319  0.228913  0.669768"
      ]
     },
     "execution_count": 29,
     "metadata": {},
     "output_type": "execute_result"
    }
   ],
   "source": [
    "submission.head()"
   ]
  },
  {
   "cell_type": "code",
   "execution_count": 30,
   "id": "e2d5935c",
   "metadata": {},
   "outputs": [],
   "source": [
    "submission.iloc[:, 1:] = 0"
   ]
  },
  {
   "cell_type": "code",
   "execution_count": 31,
   "id": "9f021ed4",
   "metadata": {},
   "outputs": [
    {
     "data": {
      "text/html": [
       "<div>\n",
       "<style scoped>\n",
       "    .dataframe tbody tr th:only-of-type {\n",
       "        vertical-align: middle;\n",
       "    }\n",
       "\n",
       "    .dataframe tbody tr th {\n",
       "        vertical-align: top;\n",
       "    }\n",
       "\n",
       "    .dataframe thead th {\n",
       "        text-align: right;\n",
       "    }\n",
       "</style>\n",
       "<table border=\"1\" class=\"dataframe\">\n",
       "  <thead>\n",
       "    <tr style=\"text-align: right;\">\n",
       "      <th></th>\n",
       "      <th>index</th>\n",
       "      <th>0</th>\n",
       "      <th>1</th>\n",
       "      <th>2</th>\n",
       "    </tr>\n",
       "  </thead>\n",
       "  <tbody>\n",
       "    <tr>\n",
       "      <th>0</th>\n",
       "      <td>26457</td>\n",
       "      <td>0</td>\n",
       "      <td>0</td>\n",
       "      <td>0</td>\n",
       "    </tr>\n",
       "    <tr>\n",
       "      <th>1</th>\n",
       "      <td>26458</td>\n",
       "      <td>0</td>\n",
       "      <td>0</td>\n",
       "      <td>0</td>\n",
       "    </tr>\n",
       "    <tr>\n",
       "      <th>2</th>\n",
       "      <td>26459</td>\n",
       "      <td>0</td>\n",
       "      <td>0</td>\n",
       "      <td>0</td>\n",
       "    </tr>\n",
       "    <tr>\n",
       "      <th>3</th>\n",
       "      <td>26460</td>\n",
       "      <td>0</td>\n",
       "      <td>0</td>\n",
       "      <td>0</td>\n",
       "    </tr>\n",
       "    <tr>\n",
       "      <th>4</th>\n",
       "      <td>26461</td>\n",
       "      <td>0</td>\n",
       "      <td>0</td>\n",
       "      <td>0</td>\n",
       "    </tr>\n",
       "  </tbody>\n",
       "</table>\n",
       "</div>"
      ],
      "text/plain": [
       "   index  0  1  2\n",
       "0  26457  0  0  0\n",
       "1  26458  0  0  0\n",
       "2  26459  0  0  0\n",
       "3  26460  0  0  0\n",
       "4  26461  0  0  0"
      ]
     },
     "execution_count": 31,
     "metadata": {},
     "output_type": "execute_result"
    }
   ],
   "source": [
    "submission.head()"
   ]
  },
  {
   "cell_type": "code",
   "execution_count": 32,
   "id": "13e85713",
   "metadata": {},
   "outputs": [],
   "source": [
    "for model in models:\n",
    "    submission.iloc[:, 1:] += model.predict_proba(test)/5"
   ]
  },
  {
   "cell_type": "code",
   "execution_count": 33,
   "id": "b9a26e4d",
   "metadata": {},
   "outputs": [
    {
     "data": {
      "text/html": [
       "<div>\n",
       "<style scoped>\n",
       "    .dataframe tbody tr th:only-of-type {\n",
       "        vertical-align: middle;\n",
       "    }\n",
       "\n",
       "    .dataframe tbody tr th {\n",
       "        vertical-align: top;\n",
       "    }\n",
       "\n",
       "    .dataframe thead th {\n",
       "        text-align: right;\n",
       "    }\n",
       "</style>\n",
       "<table border=\"1\" class=\"dataframe\">\n",
       "  <thead>\n",
       "    <tr style=\"text-align: right;\">\n",
       "      <th></th>\n",
       "      <th>index</th>\n",
       "      <th>0</th>\n",
       "      <th>1</th>\n",
       "      <th>2</th>\n",
       "    </tr>\n",
       "  </thead>\n",
       "  <tbody>\n",
       "    <tr>\n",
       "      <th>0</th>\n",
       "      <td>26457</td>\n",
       "      <td>0.101221</td>\n",
       "      <td>0.159938</td>\n",
       "      <td>0.738841</td>\n",
       "    </tr>\n",
       "    <tr>\n",
       "      <th>1</th>\n",
       "      <td>26458</td>\n",
       "      <td>0.313959</td>\n",
       "      <td>0.215667</td>\n",
       "      <td>0.470374</td>\n",
       "    </tr>\n",
       "    <tr>\n",
       "      <th>2</th>\n",
       "      <td>26459</td>\n",
       "      <td>0.038043</td>\n",
       "      <td>0.083354</td>\n",
       "      <td>0.878603</td>\n",
       "    </tr>\n",
       "    <tr>\n",
       "      <th>3</th>\n",
       "      <td>26460</td>\n",
       "      <td>0.051991</td>\n",
       "      <td>0.084526</td>\n",
       "      <td>0.863483</td>\n",
       "    </tr>\n",
       "    <tr>\n",
       "      <th>4</th>\n",
       "      <td>26461</td>\n",
       "      <td>0.086260</td>\n",
       "      <td>0.252289</td>\n",
       "      <td>0.661451</td>\n",
       "    </tr>\n",
       "  </tbody>\n",
       "</table>\n",
       "</div>"
      ],
      "text/plain": [
       "   index         0         1         2\n",
       "0  26457  0.101221  0.159938  0.738841\n",
       "1  26458  0.313959  0.215667  0.470374\n",
       "2  26459  0.038043  0.083354  0.878603\n",
       "3  26460  0.051991  0.084526  0.863483\n",
       "4  26461  0.086260  0.252289  0.661451"
      ]
     },
     "execution_count": 33,
     "metadata": {},
     "output_type": "execute_result"
    }
   ],
   "source": [
    "submission.head()"
   ]
  },
  {
   "cell_type": "raw",
   "id": "6ca1fed6",
   "metadata": {},
   "source": [
    "submission.to_csv(\"catboost_sub_valscore_ensemble.csv\", index = False)"
   ]
  },
  {
   "cell_type": "code",
   "execution_count": null,
   "id": "3d8e824d",
   "metadata": {},
   "outputs": [],
   "source": []
  },
  {
   "cell_type": "code",
   "execution_count": null,
   "id": "e980c07b",
   "metadata": {},
   "outputs": [],
   "source": []
  },
  {
   "cell_type": "code",
   "execution_count": null,
   "id": "4a98234c",
   "metadata": {},
   "outputs": [],
   "source": []
  },
  {
   "cell_type": "code",
   "execution_count": null,
   "id": "06e93d54",
   "metadata": {},
   "outputs": [],
   "source": []
  },
  {
   "cell_type": "code",
   "execution_count": null,
   "id": "a4ec96e9",
   "metadata": {},
   "outputs": [],
   "source": []
  },
  {
   "cell_type": "code",
   "execution_count": null,
   "id": "07cc7682",
   "metadata": {},
   "outputs": [],
   "source": []
  }
 ],
 "metadata": {
  "kernelspec": {
   "display_name": "Python 3",
   "language": "python",
   "name": "python3"
  },
  "language_info": {
   "codemirror_mode": {
    "name": "ipython",
    "version": 3
   },
   "file_extension": ".py",
   "mimetype": "text/x-python",
   "name": "python",
   "nbconvert_exporter": "python",
   "pygments_lexer": "ipython3",
   "version": "3.7.11"
  }
 },
 "nbformat": 4,
 "nbformat_minor": 5
}
